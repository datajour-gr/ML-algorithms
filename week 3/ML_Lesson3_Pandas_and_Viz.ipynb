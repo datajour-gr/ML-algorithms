{
 "cells": [
  {
   "cell_type": "markdown",
   "metadata": {},
   "source": [
    " # Συνέχεια με Pandas"
   ]
  },
  {
   "cell_type": "code",
   "execution_count": 1,
   "metadata": {},
   "outputs": [],
   "source": [
    "import numpy as np\n",
    "import pandas as pd"
   ]
  },
  {
   "cell_type": "markdown",
   "metadata": {},
   "source": [
    "## Πρόβλημα με τιμές που λείπουν \n",
    "\n",
    "Πολλές φορές λείπουν τιμές από τα δεδομένα μας, είναι 0, *, κενά, Δεν Γνωρίζω,n/a,999 κ.λπ. Αυτά πρέπει να μάθουμε τον τρόπο να τα διαχειριζόμαστε χωρίς να μας δημιουργούν πρόβλημα στην ανάλυση. \n",
    "\n",
    "Υπάρχουν 2 τρόποι που εμφανίζονται στα Pandas\n",
    "\n",
    "    • None για συμβολοσειρές \n",
    "    • NaN: ‘Not a Number’, για αριθμούς"
   ]
  },
  {
   "cell_type": "code",
   "execution_count": 19,
   "metadata": {},
   "outputs": [],
   "source": [
    "poleis = {\"onoma\": [\"Athina\", \"Thessaloniki\", \"Patra\", \"Irakleio\", \"Larisa\"],\n",
    "\"plithismos\": [3218218, None, 168202, 153653, 144651],\n",
    "\"diamerisma\": [\"Sterea_Ellada\", None, \"Peloponissos\", \"Kriti\", \"Thessalia\"]}\n",
    "df_ellada = pd.DataFrame(poleis)\n"
   ]
  },
  {
   "cell_type": "markdown",
   "metadata": {},
   "source": [
    "Για να βρούμε τις τιμές που λείπουν χρησιμοποιούμε τις λειτουργίες .isnull() και .notnull()"
   ]
  },
  {
   "cell_type": "code",
   "execution_count": 20,
   "metadata": {},
   "outputs": [
    {
     "data": {
      "text/html": [
       "<div>\n",
       "<style scoped>\n",
       "    .dataframe tbody tr th:only-of-type {\n",
       "        vertical-align: middle;\n",
       "    }\n",
       "\n",
       "    .dataframe tbody tr th {\n",
       "        vertical-align: top;\n",
       "    }\n",
       "\n",
       "    .dataframe thead th {\n",
       "        text-align: right;\n",
       "    }\n",
       "</style>\n",
       "<table border=\"1\" class=\"dataframe\">\n",
       "  <thead>\n",
       "    <tr style=\"text-align: right;\">\n",
       "      <th></th>\n",
       "      <th>onoma</th>\n",
       "      <th>plithismos</th>\n",
       "      <th>diamerisma</th>\n",
       "    </tr>\n",
       "  </thead>\n",
       "  <tbody>\n",
       "    <tr>\n",
       "      <th>0</th>\n",
       "      <td>False</td>\n",
       "      <td>False</td>\n",
       "      <td>False</td>\n",
       "    </tr>\n",
       "    <tr>\n",
       "      <th>1</th>\n",
       "      <td>False</td>\n",
       "      <td>True</td>\n",
       "      <td>True</td>\n",
       "    </tr>\n",
       "    <tr>\n",
       "      <th>2</th>\n",
       "      <td>False</td>\n",
       "      <td>False</td>\n",
       "      <td>False</td>\n",
       "    </tr>\n",
       "    <tr>\n",
       "      <th>3</th>\n",
       "      <td>False</td>\n",
       "      <td>False</td>\n",
       "      <td>False</td>\n",
       "    </tr>\n",
       "    <tr>\n",
       "      <th>4</th>\n",
       "      <td>False</td>\n",
       "      <td>False</td>\n",
       "      <td>False</td>\n",
       "    </tr>\n",
       "  </tbody>\n",
       "</table>\n",
       "</div>"
      ],
      "text/plain": [
       "   onoma  plithismos  diamerisma\n",
       "0  False       False       False\n",
       "1  False        True        True\n",
       "2  False       False       False\n",
       "3  False       False       False\n",
       "4  False       False       False"
      ]
     },
     "execution_count": 20,
     "metadata": {},
     "output_type": "execute_result"
    }
   ],
   "source": [
    "df_ellada.isnull() # επιστρέφει έναDataFrame με Boolean"
   ]
  },
  {
   "cell_type": "code",
   "execution_count": 21,
   "metadata": {},
   "outputs": [
    {
     "data": {
      "text/html": [
       "<div>\n",
       "<style scoped>\n",
       "    .dataframe tbody tr th:only-of-type {\n",
       "        vertical-align: middle;\n",
       "    }\n",
       "\n",
       "    .dataframe tbody tr th {\n",
       "        vertical-align: top;\n",
       "    }\n",
       "\n",
       "    .dataframe thead th {\n",
       "        text-align: right;\n",
       "    }\n",
       "</style>\n",
       "<table border=\"1\" class=\"dataframe\">\n",
       "  <thead>\n",
       "    <tr style=\"text-align: right;\">\n",
       "      <th></th>\n",
       "      <th>onoma</th>\n",
       "      <th>plithismos</th>\n",
       "      <th>diamerisma</th>\n",
       "    </tr>\n",
       "  </thead>\n",
       "  <tbody>\n",
       "    <tr>\n",
       "      <th>0</th>\n",
       "      <td>True</td>\n",
       "      <td>True</td>\n",
       "      <td>True</td>\n",
       "    </tr>\n",
       "    <tr>\n",
       "      <th>1</th>\n",
       "      <td>True</td>\n",
       "      <td>False</td>\n",
       "      <td>False</td>\n",
       "    </tr>\n",
       "    <tr>\n",
       "      <th>2</th>\n",
       "      <td>True</td>\n",
       "      <td>True</td>\n",
       "      <td>True</td>\n",
       "    </tr>\n",
       "    <tr>\n",
       "      <th>3</th>\n",
       "      <td>True</td>\n",
       "      <td>True</td>\n",
       "      <td>True</td>\n",
       "    </tr>\n",
       "    <tr>\n",
       "      <th>4</th>\n",
       "      <td>True</td>\n",
       "      <td>True</td>\n",
       "      <td>True</td>\n",
       "    </tr>\n",
       "  </tbody>\n",
       "</table>\n",
       "</div>"
      ],
      "text/plain": [
       "   onoma  plithismos  diamerisma\n",
       "0   True        True        True\n",
       "1   True       False       False\n",
       "2   True        True        True\n",
       "3   True        True        True\n",
       "4   True        True        True"
      ]
     },
     "execution_count": 21,
     "metadata": {},
     "output_type": "execute_result"
    }
   ],
   "source": [
    "df_ellada.notnull()"
   ]
  },
  {
   "cell_type": "markdown",
   "metadata": {},
   "source": [
    "Για τον συνολικό αριθμό των τιμών που λείπουν"
   ]
  },
  {
   "cell_type": "code",
   "execution_count": 22,
   "metadata": {},
   "outputs": [
    {
     "data": {
      "text/plain": [
       "onoma         0\n",
       "plithismos    1\n",
       "diamerisma    1\n",
       "dtype: int64"
      ]
     },
     "execution_count": 22,
     "metadata": {},
     "output_type": "execute_result"
    }
   ],
   "source": [
    "df_ellada.isnull().sum()"
   ]
  },
  {
   "cell_type": "markdown",
   "metadata": {},
   "source": [
    "Μπορούμε να φτιάξουμε μια λίστα με τα ονόματα των τιμών που λείπουν, αν ξέρουμε π.χ. ότι στο συγκεκριμένο αρχείο οι κενές τιμές είναι 999 και --, και να τις μετατρέψουμε απευθείας σε nan που αντιλαμβάνεται η Python, κατά την ώρα που φορτώνουμε το  αρχείο.  "
   ]
  },
  {
   "cell_type": "markdown",
   "metadata": {},
   "source": [
    "    missing_values = [\"n/a\", \"na\", \"--\", 999] \n",
    "\n",
    "    df_data = pd.read_csv(\"file.csv\", na_values = missing_values)"
   ]
  },
  {
   "cell_type": "markdown",
   "metadata": {},
   "source": [
    "Εναλλακτικά μπορούμε να κάνουμε .replace():"
   ]
  },
  {
   "cell_type": "code",
   "execution_count": 25,
   "metadata": {},
   "outputs": [],
   "source": [
    "poleis = {\"onoma\": [\"-\", \"Thessaloniki\", \"-\", \"Irakleio\", \"Larisa\"],\n",
    "\"plithismos\": [3218218, \"-\", 168202, 153653, 144651],\n",
    "\"diamerisma\": [\"Sterea_Ellada\", \"-\", \"Peloponissos\", \"Kriti\", \"Thessalia\"]}\n",
    "df_ellada = pd.DataFrame(poleis)\n"
   ]
  },
  {
   "cell_type": "code",
   "execution_count": 26,
   "metadata": {},
   "outputs": [
    {
     "data": {
      "text/html": [
       "<div>\n",
       "<style scoped>\n",
       "    .dataframe tbody tr th:only-of-type {\n",
       "        vertical-align: middle;\n",
       "    }\n",
       "\n",
       "    .dataframe tbody tr th {\n",
       "        vertical-align: top;\n",
       "    }\n",
       "\n",
       "    .dataframe thead th {\n",
       "        text-align: right;\n",
       "    }\n",
       "</style>\n",
       "<table border=\"1\" class=\"dataframe\">\n",
       "  <thead>\n",
       "    <tr style=\"text-align: right;\">\n",
       "      <th></th>\n",
       "      <th>onoma</th>\n",
       "      <th>plithismos</th>\n",
       "      <th>diamerisma</th>\n",
       "    </tr>\n",
       "  </thead>\n",
       "  <tbody>\n",
       "    <tr>\n",
       "      <th>0</th>\n",
       "      <td>NaN</td>\n",
       "      <td>3218218.0</td>\n",
       "      <td>Sterea_Ellada</td>\n",
       "    </tr>\n",
       "    <tr>\n",
       "      <th>1</th>\n",
       "      <td>Thessaloniki</td>\n",
       "      <td>NaN</td>\n",
       "      <td>NaN</td>\n",
       "    </tr>\n",
       "    <tr>\n",
       "      <th>2</th>\n",
       "      <td>NaN</td>\n",
       "      <td>168202.0</td>\n",
       "      <td>Peloponissos</td>\n",
       "    </tr>\n",
       "    <tr>\n",
       "      <th>3</th>\n",
       "      <td>Irakleio</td>\n",
       "      <td>153653.0</td>\n",
       "      <td>Kriti</td>\n",
       "    </tr>\n",
       "    <tr>\n",
       "      <th>4</th>\n",
       "      <td>Larisa</td>\n",
       "      <td>144651.0</td>\n",
       "      <td>Thessalia</td>\n",
       "    </tr>\n",
       "  </tbody>\n",
       "</table>\n",
       "</div>"
      ],
      "text/plain": [
       "          onoma  plithismos     diamerisma\n",
       "0           NaN   3218218.0  Sterea_Ellada\n",
       "1  Thessaloniki         NaN            NaN\n",
       "2           NaN    168202.0   Peloponissos\n",
       "3      Irakleio    153653.0          Kriti\n",
       "4        Larisa    144651.0      Thessalia"
      ]
     },
     "execution_count": 26,
     "metadata": {},
     "output_type": "execute_result"
    }
   ],
   "source": [
    "df_ellada.replace(\"-\", np.nan)"
   ]
  },
  {
   "cell_type": "markdown",
   "metadata": {},
   "source": [
    "Μερικές ακόμη λειτουργίες για κενές τιμές:\n",
    "    \n",
    "    • .dropna()\n",
    "    • .fillna()\n",
    "    • .replace()\n",
    "    • .interpolate()\n",
    "    \n",
    "Μπορούμε να αλλάξουμε:\n",
    "\n",
    "    • axis = 0/1\n",
    "    • inplace = True \n",
    "    \n",
    "Με το inplace = True μέσα στην παρένθεση, εννοούμε να μην φτιάξει νέο αντίγραφο το DataFrame, αλλά να κρατήσει τις αλλαγές. "
   ]
  },
  {
   "cell_type": "markdown",
   "metadata": {},
   "source": [
    "Για υπολογισμούς, μπορούμε να χρησιμοποιήσουμε το skipna=True και να μην ληφθούν υπόψιν οι κενές τιμές. "
   ]
  },
  {
   "cell_type": "markdown",
   "metadata": {},
   "source": [
    "##  Σβήσιμο "
   ]
  },
  {
   "cell_type": "code",
   "execution_count": 2,
   "metadata": {},
   "outputs": [],
   "source": [
    "katataxi = [\"proti\", \"deuteri\", \"triti\", \"tetarti\", \"pempti\"]\n",
    "poleis = {\"onoma\": [\"Athina\", \"Thessaloniki\", \"Patra\", \"Irakleio\", \"Larisa\"],\n",
    "\"plithismos\": [3218218, 789191, 168202, 153653, 144651],\n",
    "\"diamerisma\": [\"Sterea_Ellada\", \"Makedonia\", \"Peloponissos\", \"Kriti\", \"Thessalia\"]}\n",
    "df_poleis = pd.DataFrame(poleis, index=katataxi)"
   ]
  },
  {
   "cell_type": "code",
   "execution_count": 3,
   "metadata": {},
   "outputs": [
    {
     "data": {
      "text/html": [
       "<div>\n",
       "<style scoped>\n",
       "    .dataframe tbody tr th:only-of-type {\n",
       "        vertical-align: middle;\n",
       "    }\n",
       "\n",
       "    .dataframe tbody tr th {\n",
       "        vertical-align: top;\n",
       "    }\n",
       "\n",
       "    .dataframe thead th {\n",
       "        text-align: right;\n",
       "    }\n",
       "</style>\n",
       "<table border=\"1\" class=\"dataframe\">\n",
       "  <thead>\n",
       "    <tr style=\"text-align: right;\">\n",
       "      <th></th>\n",
       "      <th>onoma</th>\n",
       "      <th>plithismos</th>\n",
       "      <th>diamerisma</th>\n",
       "    </tr>\n",
       "  </thead>\n",
       "  <tbody>\n",
       "    <tr>\n",
       "      <th>proti</th>\n",
       "      <td>Athina</td>\n",
       "      <td>3218218</td>\n",
       "      <td>Sterea_Ellada</td>\n",
       "    </tr>\n",
       "    <tr>\n",
       "      <th>deuteri</th>\n",
       "      <td>Thessaloniki</td>\n",
       "      <td>789191</td>\n",
       "      <td>Makedonia</td>\n",
       "    </tr>\n",
       "    <tr>\n",
       "      <th>triti</th>\n",
       "      <td>Patra</td>\n",
       "      <td>168202</td>\n",
       "      <td>Peloponissos</td>\n",
       "    </tr>\n",
       "    <tr>\n",
       "      <th>tetarti</th>\n",
       "      <td>Irakleio</td>\n",
       "      <td>153653</td>\n",
       "      <td>Kriti</td>\n",
       "    </tr>\n",
       "    <tr>\n",
       "      <th>pempti</th>\n",
       "      <td>Larisa</td>\n",
       "      <td>144651</td>\n",
       "      <td>Thessalia</td>\n",
       "    </tr>\n",
       "  </tbody>\n",
       "</table>\n",
       "</div>"
      ],
      "text/plain": [
       "                onoma  plithismos     diamerisma\n",
       "proti          Athina     3218218  Sterea_Ellada\n",
       "deuteri  Thessaloniki      789191      Makedonia\n",
       "triti           Patra      168202   Peloponissos\n",
       "tetarti      Irakleio      153653          Kriti\n",
       "pempti         Larisa      144651      Thessalia"
      ]
     },
     "execution_count": 3,
     "metadata": {},
     "output_type": "execute_result"
    }
   ],
   "source": [
    "df_poleis.head()"
   ]
  },
  {
   "cell_type": "markdown",
   "metadata": {},
   "source": [
    "Για να σβήσουμε μία γραμμή μπορούμε είτε να χρησιμοποιήσουμε το drop ή το delete:\n",
    "\n",
    "    • Drop 'ρίξε' το row με βάση τη θέση του"
   ]
  },
  {
   "cell_type": "code",
   "execution_count": 4,
   "metadata": {},
   "outputs": [],
   "source": [
    "df_new= df_poleis.drop(['proti'])"
   ]
  },
  {
   "cell_type": "markdown",
   "metadata": {},
   "source": [
    "    • Drop 'ρίξε' το row με βάση τo index "
   ]
  },
  {
   "cell_type": "code",
   "execution_count": 5,
   "metadata": {},
   "outputs": [],
   "source": [
    "df1 = df_poleis.drop(df_poleis.index[3])"
   ]
  },
  {
   "cell_type": "markdown",
   "metadata": {},
   "source": [
    "    • Drop 'ρίξε' το row με βάση μια συνθήκη"
   ]
  },
  {
   "cell_type": "code",
   "execution_count": 6,
   "metadata": {},
   "outputs": [],
   "source": [
    "df2 = df_poleis[df_poleis.onoma != \"Larisa\"]"
   ]
  },
  {
   "cell_type": "markdown",
   "metadata": {},
   "source": [
    "#### Σβήσιμο στηλών\n",
    " \n",
    "    • Drop 'ρίξε' με βάση το όνομα της στήλης"
   ]
  },
  {
   "cell_type": "code",
   "execution_count": 7,
   "metadata": {},
   "outputs": [],
   "source": [
    "df_4 = df_poleis.drop('diamerisma', axis = 1)"
   ]
  },
  {
   "cell_type": "markdown",
   "metadata": {},
   "source": [
    "    • Drop 'ρίξε' με βάση το index"
   ]
  },
  {
   "cell_type": "code",
   "execution_count": 8,
   "metadata": {},
   "outputs": [],
   "source": [
    "df_5 = df_poleis.drop(df_poleis.columns[1], axis = 1)"
   ]
  },
  {
   "cell_type": "markdown",
   "metadata": {},
   "source": [
    "    • Σβήσιμο του column name "
   ]
  },
  {
   "cell_type": "code",
   "execution_count": 9,
   "metadata": {},
   "outputs": [],
   "source": [
    "del df_poleis ['diamerisma']"
   ]
  },
  {
   "cell_type": "markdown",
   "metadata": {},
   "source": [
    "Ορίζοντας την παράμετρο axis αλλάζει ο τρόπος που σβήνουμε. \n",
    "\n",
    "    o axis= 0 --> rows\n",
    "    \n",
    "    o axis= 1 --> columns"
   ]
  },
  {
   "cell_type": "markdown",
   "metadata": {},
   "source": []
  },
  {
   "cell_type": "markdown",
   "metadata": {},
   "source": [
    "### Εισαγωγή αρχείων\n",
    "\n",
    "Για να φέρουμε ένα CSV, excel αρχείο σε ένα DataFrame χρησιμοποιούμε τη λειτουργία \"read_csv\" και ορίζουμε το Path και καμιά φορά τον διαχωριστή των στοιχείων sep= (',') , π.χ. είναι το  ','  ή  το  \\t  ή ';':\n",
    "\n",
    "    • pd.read_csv(“φάκελος/άλλος_φάκελος/όνομα_αρχείου.csv”)\n",
    "    \n",
    "Επειδή πολλές φορές σε αρχεία csv και excel οι ερευνητές γράφουν σημειώσεις στην αρχή και αυτό δεν μπορεί να φορτωθεί σωστά στο DataFrame, είτε ορίζετε το header, π.χ. header = 0, ή skiprows = 1 κ.λπ.\n",
    "\n",
    "*Παράδειγμα*:\n",
    "\n",
    "    df = pd.read_csv(\"data.csv\",sep=\"\\t\") \n",
    "    df = pd.read_excel (‘data.xlsx')\n",
    "Για ένα συγκεκριμένο φύλλο από ένα excel με πολλά φύλλα:\n",
    "\n",
    "    df = pd.read_excel (‘data.xlsx', sheet_name= “πληθυσμός_2011”)\n",
    "    \n",
    "    df_text = pd.read_csv(\"data.txt\", sep = \",\")"
   ]
  },
  {
   "cell_type": "markdown",
   "metadata": {},
   "source": [
    "### Εξαγωγή αρχείων\n",
    "\n",
    "για CSV:\n",
    "    \n",
    "    • data.to_csv(“όνομα.csv”)\n",
    "Excel file:\n",
    "\n",
    "    • data.to_excel (“όνομα.xlsx”)"
   ]
  },
  {
   "cell_type": "code",
   "execution_count": 28,
   "metadata": {},
   "outputs": [],
   "source": [
    "df_data = pd.DataFrame(\n",
    "{\"onoma\": [\"Athina\", \"Thessaloniki\", \"Patra\", \"Irakleio\", \"Larisa\"],\n",
    "\"plithismos\": [3218218, 789191, 168202, 153653, 144651],\n",
    "\"diamerisma\": [\"Sterea_Ellada\", \"Makedonia\", \"Peloponissos\", \"Kriti\", \"Thessalia\"]})\n",
    "df_data.to_csv('poleis.csv')"
   ]
  },
  {
   "cell_type": "markdown",
   "metadata": {},
   "source": [
    "# Πακέτο για γραφήματα! Μatplotlib\n",
    "\n",
    "https://matplotlib.org/gallery/index.html\n",
    "\n",
    "![Image of operators](https://pythonforundergradengineers.com/posts/matplotlib/images/four_logos.png)\n",
    "\n",
    "Τώρα μπορούμε να οπτικοποιήσουμε όσα έχουμε μάθει μέχρι στιγμής.\n",
    "\n",
    "Αρχικά καλούμε όλα τα πακέτα."
   ]
  },
  {
   "cell_type": "code",
   "execution_count": 30,
   "metadata": {},
   "outputs": [],
   "source": [
    "import numpy as np\n",
    "import pandas as pd\n",
    "import matplotlib.pyplot as plt"
   ]
  },
  {
   "cell_type": "markdown",
   "metadata": {},
   "source": [
    "Απλό γραμμικό διάγραμμα (Line plot)"
   ]
  },
  {
   "cell_type": "code",
   "execution_count": 35,
   "metadata": {},
   "outputs": [
    {
     "data": {
      "image/png": "[encoded data removed]",
      "text/plain": [
       "<Figure size 432x288 with 1 Axes>"
      ]
     },
     "metadata": {
      "needs_background": "light"
     },
     "output_type": "display_data"
    }
   ],
   "source": [
    "something = np.linspace(0, 20, 50)\n",
    "somenthing_else = np.exp(-a)\n",
    "plt.plot(something, somenthing_else)\n",
    "plt.show()\n"
   ]
  },
  {
   "cell_type": "markdown",
   "metadata": {},
   "source": [
    "Ιστόγραμμα (Histogram)"
   ]
  },
  {
   "cell_type": "code",
   "execution_count": 36,
   "metadata": {},
   "outputs": [
    {
     "data": {
      "image/png": "[encoded data removed]",
      "text/plain": [
       "<Figure size 432x288 with 1 Axes>"
      ]
     },
     "metadata": {
      "needs_background": "light"
     },
     "output_type": "display_data"
    }
   ],
   "source": [
    "x = 3*np.random.randn (200)\n",
    "plt.hist(x, bins=30)\n",
    "plt.show()"
   ]
  },
  {
   "cell_type": "markdown",
   "metadata": {},
   "source": [
    "Διάγραμμα Διασποράς (Scatter plot)"
   ]
  },
  {
   "cell_type": "code",
   "execution_count": 38,
   "metadata": {},
   "outputs": [
    {
     "data": {
      "image/png": "[encoded data removed]",
      "text/plain": [
       "<Figure size 432x288 with 1 Axes>"
      ]
     },
     "metadata": {
      "needs_background": "light"
     },
     "output_type": "display_data"
    }
   ],
   "source": [
    "a = np.random.randn (100)\n",
    "d = np.random.randn (100)\n",
    "plt.scatter(a, d)\n",
    "plt.show()"
   ]
  },
  {
   "cell_type": "code",
   "execution_count": null,
   "metadata": {},
   "outputs": [],
   "source": []
  }
 ],
 "metadata": {
  "kernelspec": {
   "display_name": "Python 3",
   "language": "python",
   "name": "python3"
  },
  "language_info": {
   "codemirror_mode": {
    "name": "ipython",
    "version": 3
   },
   "file_extension": ".py",
   "mimetype": "text/x-python",
   "name": "python",
   "nbconvert_exporter": "python",
   "pygments_lexer": "ipython3",
   "version": "3.7.2"
  }
 },
 "nbformat": 4,
 "nbformat_minor": 2
}
