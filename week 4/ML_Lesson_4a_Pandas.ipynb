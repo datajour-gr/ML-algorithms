{
 "cells": [
  {
   "cell_type": "markdown",
   "metadata": {},
   "source": [
    "# Μάθημα 3: Βασικά πακέτα - Pandas"
   ]
  },
  {
   "cell_type": "markdown",
   "metadata": {},
   "source": [
    "Επανάληψη:\n",
    "\n",
    "## Τα βασικά: Τύποι δεδομένων και δομές δεδομένων:\n",
    "\n",
    "\n",
    "Μάθαμε την προηγούμενη φορά τους τύπους δεδομένων:\n",
    "\n",
    "• Integers: int( ) x = 8\n",
    "\n",
    "• Float: float( ) x = 13.99\n",
    "\n",
    "• Complex: x = 1a + 5d\n",
    "\n",
    "• Bool: bool( ) x = False\n",
    "\n",
    "• Strings: str( ) x = \"Kalimera\"\n",
    "\n",
    "• Lists: list( ) x = [2, 98, 20, 32, -6, -21]\n",
    "\n",
    "• Dictionaries: x = {\"noumera\": [98, 21], \"thermokrasia\": 9.3, \"hlikia\":15}\n",
    "\n",
    "\n",
    "#### Νέοι τύποι δεδομένων:\n",
    "\n",
    "• Panda - Dataframes:\n",
    "    μοιάζουν με αρχεία του excel"
   ]
  },
  {
   "cell_type": "markdown",
   "metadata": {},
   "source": [
    "## Πακέτο Pandas\n",
    "\n",
    "![Image of operators](https://numfocus.org/wp-content/uploads/2016/07/pandas-logo-300.png)\n",
    "\n",
    "Το πακέτο Pandas είναι μία open source βιβλιοθήκη που παρέχει ισχυρές και ταυτόχρονα εύκολες λειτουργίες και εργαλεία για ανάλυση δεδομένων στην Python. Τα Pandas αποτελούν τη ραχοκοκκαλιά των περισσότερων projects δεδομένων και συνήθως συνδυάζονται και με άλλα πακέτα. \n",
    "\n",
    "Τα pandas μας επιτρέπουν να χειριστούμε, να ταξινομούμε, να φιλτράρουμε και να τροποιοιούμε τα δεδομένα μας μέσω των πλαισίων δεδομένων - **DataFrames**."
   ]
  },
  {
   "cell_type": "markdown",
   "metadata": {},
   "source": [
    "##### Pandas-Dataframe: (όπως excel sheets)\n",
    "\n",
    "\n",
    "Τα Pandas DataFrames είναι πλαίσια δεδομένων 2 διαστάσεων και μπορούν να περιέχουν διαφορετικούς τύπους δεδομένων, (αριθμούς, συμβολοσειρές κ.λπ., ακριβώς όπως ένα αρχείο του excel). \n",
    "\n",
    "Τα Pandas DataFrame αποτελούνται από 3 βασικά στοιχεία: τα data, τα rows και τα columns."
   ]
  },
  {
   "cell_type": "markdown",
   "metadata": {},
   "source": [
    "#### Δουλεύοντας με dataframes:\n",
    "\n",
    "Πρώτα: import package: \n",
    "\n",
    "    • import numpy as np (χρειάζεται για τα Pandas)\n",
    "\n",
    "    • import pandas as pd"
   ]
  },
  {
   "cell_type": "markdown",
   "metadata": {},
   "source": [
    "#### Δημιουργία array:"
   ]
  },
  {
   "cell_type": "code",
   "execution_count": 2,
   "metadata": {},
   "outputs": [],
   "source": [
    "import numpy as np\n",
    "\n",
    "import pandas as pd\n",
    "\n",
    "df_data = pd.DataFrame([[1,2],[2,3]])"
   ]
  },
  {
   "cell_type": "markdown",
   "metadata": {},
   "source": [
    "Το DataFrame μπορεί επίσης να δημιουργηθεί από έτοιμα excel, csv, dictonairies, ndarray, lists, μέχρι και από αρχεία κειμένου.\n",
    "\n",
    "*Παραδείγματα:*"
   ]
  },
  {
   "cell_type": "code",
   "execution_count": 3,
   "metadata": {},
   "outputs": [],
   "source": [
    "df1 = pd.DataFrame(np.array( [[1, 2, 3], [4, 5, 6]] ))"
   ]
  },
  {
   "cell_type": "markdown",
   "metadata": {},
   "source": [
    "Πιο περίπλοκα: πρώτα φτιάχνουμε μία λίστα - λεξικό από λίστες. "
   ]
  },
  {
   "cell_type": "code",
   "execution_count": 34,
   "metadata": {},
   "outputs": [],
   "source": [
    "new_data = {'Onoma': ['Maria','Giorgos','Petros','Vasiliki','Alexandra', 'Popi'], \n",
    "            'Ilikia':[22,38,31,19,29,49], \n",
    "            'Poli':['Athens','Patra','Trikala','Sparti','Serres', 'Chios'], 'Epaggelma':['foititria','ilektrologos','kathigitis', 'foititria', 'anergi', 'daskala']}"
   ]
  },
  {
   "cell_type": "code",
   "execution_count": 35,
   "metadata": {},
   "outputs": [
    {
     "data": {
      "text/html": [
       "<div>\n",
       "<style scoped>\n",
       "    .dataframe tbody tr th:only-of-type {\n",
       "        vertical-align: middle;\n",
       "    }\n",
       "\n",
       "    .dataframe tbody tr th {\n",
       "        vertical-align: top;\n",
       "    }\n",
       "\n",
       "    .dataframe thead th {\n",
       "        text-align: right;\n",
       "    }\n",
       "</style>\n",
       "<table border=\"1\" class=\"dataframe\">\n",
       "  <thead>\n",
       "    <tr style=\"text-align: right;\">\n",
       "      <th></th>\n",
       "      <th>Onoma</th>\n",
       "      <th>Ilikia</th>\n",
       "      <th>Poli</th>\n",
       "      <th>Epaggelma</th>\n",
       "    </tr>\n",
       "  </thead>\n",
       "  <tbody>\n",
       "    <tr>\n",
       "      <th>0</th>\n",
       "      <td>Maria</td>\n",
       "      <td>22</td>\n",
       "      <td>Athens</td>\n",
       "      <td>foititria</td>\n",
       "    </tr>\n",
       "    <tr>\n",
       "      <th>1</th>\n",
       "      <td>Giorgos</td>\n",
       "      <td>38</td>\n",
       "      <td>Patra</td>\n",
       "      <td>ilektrologos</td>\n",
       "    </tr>\n",
       "    <tr>\n",
       "      <th>2</th>\n",
       "      <td>Petros</td>\n",
       "      <td>31</td>\n",
       "      <td>Trikala</td>\n",
       "      <td>kathigitis</td>\n",
       "    </tr>\n",
       "    <tr>\n",
       "      <th>3</th>\n",
       "      <td>Vasiliki</td>\n",
       "      <td>19</td>\n",
       "      <td>Sparti</td>\n",
       "      <td>foititria</td>\n",
       "    </tr>\n",
       "    <tr>\n",
       "      <th>4</th>\n",
       "      <td>Alexandra</td>\n",
       "      <td>29</td>\n",
       "      <td>Serres</td>\n",
       "      <td>anergi</td>\n",
       "    </tr>\n",
       "    <tr>\n",
       "      <th>5</th>\n",
       "      <td>Popi</td>\n",
       "      <td>49</td>\n",
       "      <td>Chios</td>\n",
       "      <td>daskala</td>\n",
       "    </tr>\n",
       "  </tbody>\n",
       "</table>\n",
       "</div>"
      ],
      "text/plain": [
       "       Onoma  Ilikia     Poli     Epaggelma\n",
       "0      Maria      22   Athens     foititria\n",
       "1    Giorgos      38    Patra  ilektrologos\n",
       "2     Petros      31  Trikala    kathigitis\n",
       "3   Vasiliki      19   Sparti     foititria\n",
       "4  Alexandra      29   Serres        anergi\n",
       "5       Popi      49    Chios       daskala"
      ]
     },
     "execution_count": 35,
     "metadata": {},
     "output_type": "execute_result"
    }
   ],
   "source": [
    "df2 = pd.DataFrame(new_data)\n",
    "df2"
   ]
  },
  {
   "cell_type": "markdown",
   "metadata": {},
   "source": [
    "Για να δούμε την αρχή και το τέλος του dataframe:\n",
    "    \n",
    "    df.head() \n",
    "    \n",
    "    df.tail()"
   ]
  },
  {
   "cell_type": "markdown",
   "metadata": {},
   "source": [
    "#### Indexing  και  Selecting Data\n",
    "\n",
    "\n",
    "Για να πάρουμε ένα στοιχείο του DataFrame χρησιμοποιούμε τετράγωνες αγκύλες και το όνομα της στήλης ή συγκεκριμένης γραμμής. \n",
    "\n",
    "• Πρόσβαση στα columns με το όνομά τους:"
   ]
  },
  {
   "cell_type": "code",
   "execution_count": 36,
   "metadata": {},
   "outputs": [
    {
     "data": {
      "text/plain": [
       "0    22\n",
       "1    38\n",
       "2    31\n",
       "3    19\n",
       "4    29\n",
       "5    49\n",
       "Name: Ilikia, dtype: int64"
      ]
     },
     "execution_count": 36,
     "metadata": {},
     "output_type": "execute_result"
    }
   ],
   "source": [
    "df2['Ilikia']"
   ]
  },
  {
   "cell_type": "code",
   "execution_count": 37,
   "metadata": {},
   "outputs": [
    {
     "data": {
      "text/html": [
       "<div>\n",
       "<style scoped>\n",
       "    .dataframe tbody tr th:only-of-type {\n",
       "        vertical-align: middle;\n",
       "    }\n",
       "\n",
       "    .dataframe tbody tr th {\n",
       "        vertical-align: top;\n",
       "    }\n",
       "\n",
       "    .dataframe thead th {\n",
       "        text-align: right;\n",
       "    }\n",
       "</style>\n",
       "<table border=\"1\" class=\"dataframe\">\n",
       "  <thead>\n",
       "    <tr style=\"text-align: right;\">\n",
       "      <th></th>\n",
       "      <th>Epaggelma</th>\n",
       "      <th>Poli</th>\n",
       "    </tr>\n",
       "  </thead>\n",
       "  <tbody>\n",
       "    <tr>\n",
       "      <th>0</th>\n",
       "      <td>foititria</td>\n",
       "      <td>Athens</td>\n",
       "    </tr>\n",
       "    <tr>\n",
       "      <th>1</th>\n",
       "      <td>ilektrologos</td>\n",
       "      <td>Patra</td>\n",
       "    </tr>\n",
       "    <tr>\n",
       "      <th>2</th>\n",
       "      <td>kathigitis</td>\n",
       "      <td>Trikala</td>\n",
       "    </tr>\n",
       "    <tr>\n",
       "      <th>3</th>\n",
       "      <td>foititria</td>\n",
       "      <td>Sparti</td>\n",
       "    </tr>\n",
       "    <tr>\n",
       "      <th>4</th>\n",
       "      <td>anergi</td>\n",
       "      <td>Serres</td>\n",
       "    </tr>\n",
       "    <tr>\n",
       "      <th>5</th>\n",
       "      <td>daskala</td>\n",
       "      <td>Chios</td>\n",
       "    </tr>\n",
       "  </tbody>\n",
       "</table>\n",
       "</div>"
      ],
      "text/plain": [
       "      Epaggelma     Poli\n",
       "0     foititria   Athens\n",
       "1  ilektrologos    Patra\n",
       "2    kathigitis  Trikala\n",
       "3     foititria   Sparti\n",
       "4        anergi   Serres\n",
       "5       daskala    Chios"
      ]
     },
     "execution_count": 37,
     "metadata": {},
     "output_type": "execute_result"
    }
   ],
   "source": [
    "df2[['Epaggelma', 'Poli']]"
   ]
  },
  {
   "cell_type": "markdown",
   "metadata": {},
   "source": [
    "#### Επιλογή γραμμής: \n",
    "\n",
    "Υπάρχει μια μοναδική μέθοδος που χρησιμοποιείται για να πάρουμε τα rows ενός DataFrame. το Index ξεκινά από το 0, πρώτα καλούμε το row και στην συνέχεια το column."
   ]
  },
  {
   "cell_type": "markdown",
   "metadata": {},
   "source": [
    "    • df.loc[ ] - επιστρέφει τα rows από το Pandas DataFrame.\n",
    "\n",
    "    • df.iloc[ ] function - επιλέγει με βάση τη θέση \n",
    "\n",
    "Το df.iloc indexer μοιάζει πολύ με το df.loc απλά χρησιμοποιεί τη θέση (integer location) για να επιλέξει. "
   ]
  },
  {
   "cell_type": "code",
   "execution_count": 38,
   "metadata": {},
   "outputs": [
    {
     "data": {
      "text/plain": [
       "'Maria'"
      ]
     },
     "execution_count": 38,
     "metadata": {},
     "output_type": "execute_result"
    }
   ],
   "source": [
    "df2.loc[0][0]"
   ]
  },
  {
   "cell_type": "code",
   "execution_count": 39,
   "metadata": {},
   "outputs": [
    {
     "data": {
      "text/plain": [
       "Onoma             Giorgos\n",
       "Ilikia                 38\n",
       "Poli                Patra\n",
       "Epaggelma    ilektrologos\n",
       "Name: 1, dtype: object"
      ]
     },
     "execution_count": 39,
     "metadata": {},
     "output_type": "execute_result"
    }
   ],
   "source": [
    "df2.iloc[1]"
   ]
  },
  {
   "cell_type": "markdown",
   "metadata": {},
   "source": [
    "Επιλογή όλων των rows και μερικών columns με τη μέθοδο iloc:"
   ]
  },
  {
   "cell_type": "code",
   "execution_count": 40,
   "metadata": {},
   "outputs": [],
   "source": [
    "new = df2.iloc [ :, [1, 2]]"
   ]
  },
  {
   "cell_type": "markdown",
   "metadata": {},
   "source": [
    "#### Άλλες λειτουργίες\n",
    "\n",
    "• Προσθήκη ενός column:\n",
    "\n",
    "    df.insert (loc= ? , column =?, value= ? )\n",
    "\n",
    "*Παράδειγμα:*  "
   ]
  },
  {
   "cell_type": "code",
   "execution_count": 41,
   "metadata": {},
   "outputs": [],
   "source": [
    "df2.insert(loc=1, column= 'mathima', value = 'A')"
   ]
  },
  {
   "cell_type": "markdown",
   "metadata": {},
   "source": [
    "• Ένωση διαφορετικών dataframes:\n",
    "\n",
    "    • pd.merge(data1,data2, how=’right’)\n",
    "\n",
    "    • df1.join(data2, how=’right’)\n",
    "\n",
    "    • pd.concat()"
   ]
  },
  {
   "cell_type": "markdown",
   "metadata": {},
   "source": [
    "**Προσοχή:** το how μπορεί να είναι: right, left, inner, outer – αναλόγως τι θα επιλέξετε"
   ]
  },
  {
   "cell_type": "markdown",
   "metadata": {},
   "source": [
    "• Μετατόπιση (Transposing): \n",
    "    \n",
    "    DataFrame.T "
   ]
  },
  {
   "cell_type": "code",
   "execution_count": 42,
   "metadata": {},
   "outputs": [
    {
     "data": {
      "text/html": [
       "<div>\n",
       "<style scoped>\n",
       "    .dataframe tbody tr th:only-of-type {\n",
       "        vertical-align: middle;\n",
       "    }\n",
       "\n",
       "    .dataframe tbody tr th {\n",
       "        vertical-align: top;\n",
       "    }\n",
       "\n",
       "    .dataframe thead th {\n",
       "        text-align: right;\n",
       "    }\n",
       "</style>\n",
       "<table border=\"1\" class=\"dataframe\">\n",
       "  <thead>\n",
       "    <tr style=\"text-align: right;\">\n",
       "      <th></th>\n",
       "      <th>0</th>\n",
       "      <th>1</th>\n",
       "    </tr>\n",
       "  </thead>\n",
       "  <tbody>\n",
       "    <tr>\n",
       "      <th>0</th>\n",
       "      <td>1</td>\n",
       "      <td>9</td>\n",
       "    </tr>\n",
       "    <tr>\n",
       "      <th>1</th>\n",
       "      <td>5</td>\n",
       "      <td>3</td>\n",
       "    </tr>\n",
       "  </tbody>\n",
       "</table>\n",
       "</div>"
      ],
      "text/plain": [
       "   0  1\n",
       "0  1  9\n",
       "1  5  3"
      ]
     },
     "execution_count": 42,
     "metadata": {},
     "output_type": "execute_result"
    }
   ],
   "source": [
    "df = pd.DataFrame([[1,9],[5,3]])\n",
    "df"
   ]
  },
  {
   "cell_type": "code",
   "execution_count": 43,
   "metadata": {},
   "outputs": [
    {
     "data": {
      "text/html": [
       "<div>\n",
       "<style scoped>\n",
       "    .dataframe tbody tr th:only-of-type {\n",
       "        vertical-align: middle;\n",
       "    }\n",
       "\n",
       "    .dataframe tbody tr th {\n",
       "        vertical-align: top;\n",
       "    }\n",
       "\n",
       "    .dataframe thead th {\n",
       "        text-align: right;\n",
       "    }\n",
       "</style>\n",
       "<table border=\"1\" class=\"dataframe\">\n",
       "  <thead>\n",
       "    <tr style=\"text-align: right;\">\n",
       "      <th></th>\n",
       "      <th>0</th>\n",
       "      <th>1</th>\n",
       "    </tr>\n",
       "  </thead>\n",
       "  <tbody>\n",
       "    <tr>\n",
       "      <th>0</th>\n",
       "      <td>1</td>\n",
       "      <td>5</td>\n",
       "    </tr>\n",
       "    <tr>\n",
       "      <th>1</th>\n",
       "      <td>9</td>\n",
       "      <td>3</td>\n",
       "    </tr>\n",
       "  </tbody>\n",
       "</table>\n",
       "</div>"
      ],
      "text/plain": [
       "   0  1\n",
       "0  1  5\n",
       "1  9  3"
      ]
     },
     "execution_count": 43,
     "metadata": {},
     "output_type": "execute_result"
    }
   ],
   "source": [
    "df.T"
   ]
  },
  {
   "cell_type": "markdown",
   "metadata": {},
   "source": [
    "#### Αλλαγή  index/ονόματα στηλών:\n",
    "\n",
    "• Το Index κανονικά ξεκινά από το 0. Όταν φτιάχνουμε ένα DataFrame, έχουμε την επιλογή να προσθέσουμε το 'index' argument και να επιλέξουμε το index που θέλουμε.\n",
    "\n",
    "    dataframe = pd.DataFrame(data, index = 'values')\n"
   ]
  },
  {
   "cell_type": "markdown",
   "metadata": {},
   "source": [
    "Αλλιώς χρησιμοποιούμε το \n",
    "\n",
    "    set_index()"
   ]
  },
  {
   "cell_type": "markdown",
   "metadata": {},
   "source": [
    "    • Ilikia:(22,38,31,19,29,49)\n",
    "\n",
    "    • df3.set_index('Ilikia')"
   ]
  },
  {
   "cell_type": "markdown",
   "metadata": {},
   "source": [
    "• Μέθοδος df.rename(): για να μετονομάσουμε στήλες \n",
    "\n",
    "\n",
    "**Παράδειγμα** : \n",
    "\n",
    "    newcols = {'Onoma': 'Mikro Onoma'}\n",
    "\n",
    "    df2.rename(columns = newcols, inplace = True)"
   ]
  },
  {
   "cell_type": "markdown",
   "metadata": {},
   "source": [
    "#### Στατιστική:\n",
    "\n",
    "    • df.mean() επιστρέφει το mean των τιμών\n",
    "\n",
    "    • df.median() επιστρέφει το median των τιμών\n",
    "\n",
    "    • df.std() επιστρέφει ένα δείγμα του standard deviation"
   ]
  },
  {
   "cell_type": "markdown",
   "metadata": {},
   "source": [
    "#### Λειτουργίες σε συγκεκριμένο  axis :\n",
    "\n",
    "    axis= 0 ….. index\n",
    "    \n",
    "    axis= 1 ….. columns"
   ]
  },
  {
   "cell_type": "markdown",
   "metadata": {},
   "source": [
    "• Περιγράφει τα στατιστικά\n",
    "\n",
    "    df.describe() "
   ]
  }
 ],
 "metadata": {
  "kernelspec": {
   "display_name": "Python 3",
   "language": "python",
   "name": "python3"
  },
  "language_info": {
   "codemirror_mode": {
    "name": "ipython",
    "version": 3
   },
   "file_extension": ".py",
   "mimetype": "text/x-python",
   "name": "python",
   "nbconvert_exporter": "python",
   "pygments_lexer": "ipython3",
   "version": "3.7.2"
  }
 },
 "nbformat": 4,
 "nbformat_minor": 2
}
