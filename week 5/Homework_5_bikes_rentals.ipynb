{
  "nbformat": 4,
  "nbformat_minor": 0,
  "metadata": {
    "colab": {
      "provenance": []
    },
    "kernelspec": {
      "name": "python3",
      "display_name": "Python 3"
    },
    "language_info": {
      "name": "python"
    }
  },
  "cells": [
    {
      "cell_type": "markdown",
      "source": [
        "HOMEWORK 5"
      ],
      "metadata": {
        "id": "J-YVCtDQs2FC"
      }
    },
    {
      "cell_type": "markdown",
      "source": [
        "Στον φάκελο week5 υπάρχει το dataset 'Bike-Sharing-Dataset' από την ιστοσελίδα του UCI https://archive.ics.uci.edu/ml/datasets/bike+sharing+dataset\n",
        "\n",
        ", διαλέξτε ένα από τα 2 datasets, (day.csv ή hour.csv)\n",
        "\n",
        "και επαναλάβετε τα βήματα που μάθαμε στο Linear Regression notebook. Μπορείτε με γραμμική παλινδρόμηση να προβλέψετε τις ενοικιάσεις ποδηλάτων στην Washington, D.C. με βάση για παράδειγμα τον καιρό? Γράψτε μια μικρή παράγραφο με τα συμπεράσματά σας. \n",
        "**Πριν ξεκινήσετε διαβάστε καλά την περιγραφή των δεδομένων (Attribute Information) και τι σημαίνει η κάθε στήλη!**"
      ],
      "metadata": {
        "id": "r-WPHWFYsvI1"
      }
    },
    {
      "cell_type": "markdown",
      "source": [
        "Εισάγετε τα απαραίτητα πακέτα και βιβλιοθήκες"
      ],
      "metadata": {
        "id": "KrLfIctOuOFS"
      }
    },
    {
      "cell_type": "code",
      "source": [],
      "metadata": {
        "id": "mJZvaGXkuXVw"
      },
      "execution_count": null,
      "outputs": []
    },
    {
      "cell_type": "code",
      "source": [],
      "metadata": {
        "id": "1_qDTEjcuXNw"
      },
      "execution_count": null,
      "outputs": []
    },
    {
      "cell_type": "markdown",
      "source": [
        "Εισάγετε το csv αρχείο με τα δεδομένα"
      ],
      "metadata": {
        "id": "Xx2bsrkHtYfc"
      }
    },
    {
      "cell_type": "code",
      "execution_count": null,
      "metadata": {
        "id": "OeUwS49NsaUw"
      },
      "outputs": [],
      "source": [
        "bike_rentals = pd.read_csv('Bike-Sharing-Dataset/hour.csv') #ex:hour.csv\n",
        "bike_rentals.head()"
      ]
    },
    {
      "cell_type": "markdown",
      "source": [
        "Μετονομάζουμε τις στήλες για να είναι πιο κατανοητές"
      ],
      "metadata": {
        "id": "SgzG9xytudm6"
      }
    },
    {
      "cell_type": "code",
      "source": [
        "bike_rentals.rename(columns={\"hr\": \"hour\", \"dteday\":\"date\", \"yr\":\"year\",\n",
        "                            \"hum\":\"humidity\", \"cnt\":\"totalcount\", \"mnth\":\"month\",\n",
        "                            \"weathersit\":\"weather\"}, inplace=True)\n",
        "\n",
        "bike_rentals  = bike_rentals.drop([\"instant\", \"date\", \"year\", \"registered\"],axis=1)"
      ],
      "metadata": {
        "id": "EZXudtuwtTVy"
      },
      "execution_count": null,
      "outputs": []
    },
    {
      "cell_type": "code",
      "source": [
        "bike_rentals.head(3)"
      ],
      "metadata": {
        "id": "r6z2BR5NtVDt"
      },
      "execution_count": null,
      "outputs": []
    },
    {
      "cell_type": "markdown",
      "source": [
        "Δείτε το περιεχόμενο και το μέγεθος του dataframe"
      ],
      "metadata": {
        "id": "OQVLvZ8gxPfC"
      }
    },
    {
      "cell_type": "code",
      "source": [],
      "metadata": {
        "id": "M4pK5ftAxUUz"
      },
      "execution_count": null,
      "outputs": []
    },
    {
      "cell_type": "code",
      "source": [],
      "metadata": {
        "id": "6OLt59bIxMgs"
      },
      "execution_count": null,
      "outputs": []
    },
    {
      "cell_type": "markdown",
      "source": [
        "Δείτε το description του dataset"
      ],
      "metadata": {
        "id": "dIM4nj8ZvcIV"
      }
    },
    {
      "cell_type": "code",
      "source": [],
      "metadata": {
        "id": "MAOCPLxXviO9"
      },
      "execution_count": null,
      "outputs": []
    },
    {
      "cell_type": "markdown",
      "source": [
        "Καθαρίστε τις τιμές που λείπουν"
      ],
      "metadata": {
        "id": "TU0IaJNJvikU"
      }
    },
    {
      "cell_type": "code",
      "source": [],
      "metadata": {
        "id": "lW4EzpIvvt8R"
      },
      "execution_count": null,
      "outputs": []
    },
    {
      "cell_type": "code",
      "source": [],
      "metadata": {
        "id": "eNrUFxY6vuM3"
      },
      "execution_count": null,
      "outputs": []
    },
    {
      "cell_type": "markdown",
      "source": [
        "Φτιάξτε ένα histogram"
      ],
      "metadata": {
        "id": "3bMr6XmzxlyL"
      }
    },
    {
      "cell_type": "code",
      "source": [
        "plt.hist(bike_rentals.cnt,color='g')"
      ],
      "metadata": {
        "id": "0afPtZXbxqRW"
      },
      "execution_count": null,
      "outputs": []
    },
    {
      "cell_type": "code",
      "source": [],
      "metadata": {
        "id": "0QEZluQ7xx8b"
      },
      "execution_count": null,
      "outputs": []
    },
    {
      "cell_type": "markdown",
      "source": [
        "Φτιάξτε και μερικά γραφήματα διασποράς και περιγράψτε τα"
      ],
      "metadata": {
        "id": "n0F5PVolxyyO"
      }
    },
    {
      "cell_type": "code",
      "source": [],
      "metadata": {
        "id": "rvTuLRfYxyUN"
      },
      "execution_count": null,
      "outputs": []
    },
    {
      "cell_type": "code",
      "source": [],
      "metadata": {
        "id": "t8BBfbIEyKa7"
      },
      "execution_count": null,
      "outputs": []
    },
    {
      "cell_type": "markdown",
      "source": [
        "Χωρίστε (split) τα δεδομένα σε σύνολο εκπαίδευσης (train set) και σύνολο δοκιμής (test set)."
      ],
      "metadata": {
        "id": "9f0KpMlvvux5"
      }
    },
    {
      "cell_type": "code",
      "source": [],
      "metadata": {
        "id": "B-lIecL5y3pt"
      },
      "execution_count": null,
      "outputs": []
    },
    {
      "cell_type": "markdown",
      "source": [
        "Σχεδιάστε ένα γράφημα διασποράς για την μεταβλητή που θέλετε να προβλέψετε"
      ],
      "metadata": {
        "id": "qA9pyxj4y4G8"
      }
    },
    {
      "cell_type": "code",
      "source": [],
      "metadata": {
        "id": "1ons9l81y3ty"
      },
      "execution_count": null,
      "outputs": []
    },
    {
      "cell_type": "code",
      "source": [],
      "metadata": {
        "id": "fYKUP1lzzJ7V"
      },
      "execution_count": null,
      "outputs": []
    },
    {
      "cell_type": "markdown",
      "source": [
        "Εισάγετε και κάνετε fit το Linear Regression μοντέλο "
      ],
      "metadata": {
        "id": "7dCKTgdyzXfU"
      }
    },
    {
      "cell_type": "code",
      "source": [],
      "metadata": {
        "id": "g69SGYzbziYr"
      },
      "execution_count": null,
      "outputs": []
    },
    {
      "cell_type": "markdown",
      "source": [
        "Κάντε την πρόβλεψή σας"
      ],
      "metadata": {
        "id": "jaPzW0qvzioG"
      }
    },
    {
      "cell_type": "code",
      "source": [],
      "metadata": {
        "id": "gHLa1eA0zsOs"
      },
      "execution_count": null,
      "outputs": []
    },
    {
      "cell_type": "markdown",
      "source": [
        "Δημιουργήστε ένα scatter plot"
      ],
      "metadata": {
        "id": "K9HY5t2ozsZ5"
      }
    },
    {
      "cell_type": "code",
      "source": [],
      "metadata": {
        "id": "cb8VfNcCz0PE"
      },
      "execution_count": null,
      "outputs": []
    },
    {
      "cell_type": "code",
      "source": [],
      "metadata": {
        "id": "ZxRFaCEQ2JEW"
      },
      "execution_count": null,
      "outputs": []
    },
    {
      "cell_type": "code",
      "source": [
        "# Good luck!"
      ],
      "metadata": {
        "id": "KnaErMCLtXdT"
      },
      "execution_count": null,
      "outputs": []
    }
  ]
}