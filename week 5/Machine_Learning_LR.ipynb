{
 "cells": [
  {
   "cell_type": "markdown",
   "metadata": {},
   "source": [
    "# Machine Learning \n",
    "\n",
    "## Scikit-learn\n",
    "\n",
    "H βιβλιοθήκη sklearn αποτελείται από πολλούς και διαφορετικούς αλγορίθμους που σχετίζονται με τη μηχανική μάθηση. Είναι αρκετά απλή στη χρήση και περιέχει πολλά εργαλεία για εξόρυξη γνώσης από δεδομένα, ανάλυση και οπτικοποιήση. Έχει σχεδιαστεί ώστε να τρέχει σε περιβάλλον Python και χρειάζεται απαραιτήτως τις βιβλιοθήκες NumPy και SciPy. \n",
    "![Image of operators](https://upload.wikimedia.org/wikipedia/commons/0/05/Scikit_learn_logo_small.svg)"
   ]
  },
  {
   "cell_type": "markdown",
   "metadata": {},
   "source": [
    "## 1. Linear Regression "
   ]
  },
  {
   "cell_type": "markdown",
   "metadata": {},
   "source": [
    "Η βιβλιοθήκη αυτή έχει ενσωματωμένες ορισμένες βάσεις δεδομένων, οπότε πριν αρχίσουμε να χρησιμοποιούμε τα δικά μας δεδομένα θα δοκιμάσουμε τη γραμμική παλινδρόμηση με τα δεδομένα από τα σπίτια της Βοστώνης. Παραπάνω πληροφορίες για τα δεδομένα μπορείτε να βρείτε [εδώ](https://www.cs.toronto.edu/~delve/data/boston/bostonDetail.html)\n",
    "\n",
    "\n",
    "Στόχος μας είναι να προβλέψουμε την τιμή κατοικίας με τα διαθέσιμα χαρακτηριστικά στέγασης χρησιμοποιώντας την τεχνική της γραμμικής παλινδρόμησης. "
   ]
  },
  {
   "cell_type": "markdown",
   "metadata": {},
   "source": [
    "Πριν ξεκινήσουμε όμως εξασκήστε τα skills σας με αυτό το τέλειο παιχνίδι ! http://guessthecorrelation.com/\n",
    "    \n",
    "![Image of operators](http://guessthecorrelation.com/images/guesscor_logo.svg)"
   ]
  },
  {
   "cell_type": "markdown",
   "metadata": {},
   "source": [
    "#### 1. Ξεκινάμε πάντα με την εισαγωγή των απαραίτητων πακέτων και βιβλιοθηκών "
   ]
  },
  {
   "cell_type": "code",
   "execution_count": null,
   "metadata": {},
   "outputs": [],
   "source": [
    "%matplotlib inline \n",
    "\n",
    "import numpy as np\n",
    "import pandas as pd\n",
    "import scipy.stats as stats\n",
    "import matplotlib.pyplot as plt\n",
    "import sklearn\n",
    "import matplotlib.pyplot as plt\n",
    "from sklearn.linear_model import LinearRegression\n",
    "from sklearn.metrics import mean_squared_error\n",
    "import seaborn as sns\n",
    "\n",
    "# special matplotlib argument for improved plots\n",
    "from matplotlib import rcParams\n",
    "sns.set_style(\"whitegrid\")\n",
    "sns.set_context(\"poster\")\n"
   ]
  },
  {
   "cell_type": "markdown",
   "metadata": {},
   "source": [
    "#### 2. Εισάγουμε τα δεδομένα "
   ]
  },
  {
   "cell_type": "code",
   "execution_count": null,
   "metadata": {},
   "outputs": [],
   "source": [
    "from sklearn import datasets\n",
    "\n",
    "boston = datasets.load_boston() "
   ]
  },
  {
   "cell_type": "code",
   "execution_count": null,
   "metadata": {},
   "outputs": [],
   "source": [
    "boston.keys()"
   ]
  },
  {
   "cell_type": "code",
   "execution_count": null,
   "metadata": {},
   "outputs": [],
   "source": [
    "boston.data.shape"
   ]
  },
  {
   "cell_type": "markdown",
   "metadata": {},
   "source": [
    "Ρίξτε μια ματιά στα δεδομένα σας"
   ]
  },
  {
   "cell_type": "code",
   "execution_count": null,
   "metadata": {},
   "outputs": [],
   "source": [
    "boston"
   ]
  },
  {
   "cell_type": "markdown",
   "metadata": {},
   "source": [
    "Τα δεδομένα δεν έρχονται πάντα σητν μορφή που μας βολεύει γιαυτό πρέπει να μάθουμε να είμαστε ευέλικτοι και να γνωρίζουμε πως να διαχειριζόμαστε dictionaries. \n",
    "\n",
    "Για την διαχείριση λεξικών με το scikit-learn πρέπει να ξέρετε τις παρακάτω εντολές: \n",
    "\n",
    "    - .DESCR      (περιγραφή)\n",
    "    - .feature_names    (ονόματα στηλών)\n",
    "    - .data    (features)\n",
    "    - .target    (η μεταβλητή που μας ενδιαφέρει να προβλέψουμε)\n",
    "    - .filename  (θέση που αποθηκεύτηκε)"
   ]
  },
  {
   "cell_type": "code",
   "execution_count": null,
   "metadata": {},
   "outputs": [],
   "source": [
    "# Για να δούμε τα column names\n",
    "print(boston.feature_names)"
   ]
  },
  {
   "cell_type": "code",
   "execution_count": null,
   "metadata": {},
   "outputs": [],
   "source": [
    "# Για να διαβάσουμε το description του Boston housing data set\n",
    "print(boston.DESCR)"
   ]
  },
  {
   "cell_type": "markdown",
   "metadata": {},
   "source": [
    "## Ας ξεκινήσουμε"
   ]
  },
  {
   "cell_type": "code",
   "execution_count": null,
   "metadata": {},
   "outputs": [],
   "source": [
    "boston_df = pd.DataFrame(boston.data, columns=boston.feature_names) \n",
    "boston_df['PRICE'] = pd.Series(boston.target)                           \n",
    "boston_df.head()                                                           "
   ]
  },
  {
   "cell_type": "markdown",
   "metadata": {},
   "source": [
    "#### Τιμές που λείπουν"
   ]
  },
  {
   "cell_type": "code",
   "execution_count": null,
   "metadata": {},
   "outputs": [],
   "source": [
    "boston_df.isnull().sum() "
   ]
  },
  {
   "cell_type": "code",
   "execution_count": null,
   "metadata": {},
   "outputs": [],
   "source": [
    "# ορίζουμε τις τιμές που λείπουν\n",
    "missing_values = [\"n/a\", \"na\", \"--\", 999,9999]   \n",
    "# τις αλλάζουμε όνομα\n",
    "boston_df.replace(to_replace = missing_values, value = np.nan, inplace = True) \n",
    "# πετάμε τις γραμμές με NaNs \n",
    "boston_df.dropna(inplace=True) \n",
    "# Ξαναφέρνουμε το index στη σωστή σειρά, πάντα μετά από κόψιμο και πέταμα στηλών χρειάζεται reindex\n",
    "boston_df.reset_index(drop=True, inplace=True)  "
   ]
  },
  {
   "cell_type": "markdown",
   "metadata": {},
   "source": [
    "Aν χρειάζεται να πετάξουμε χειροκίνητα κάποια τιμή το κάνουμε ως εξής"
   ]
  },
  {
   "cell_type": "code",
   "execution_count": null,
   "metadata": {},
   "outputs": [],
   "source": [
    "ls_lines_to_drop = [10]  \n",
    "boston_df.drop(ls_lines_to_drop, inplace=True) \n",
    "boston_df.head()    "
   ]
  },
  {
   "cell_type": "markdown",
   "metadata": {},
   "source": [
    "## Summary Statistics"
   ]
  },
  {
   "cell_type": "code",
   "execution_count": null,
   "metadata": {},
   "outputs": [],
   "source": [
    "boston_df.describe()"
   ]
  },
  {
   "cell_type": "markdown",
   "metadata": {},
   "source": [
    "### Scatterplots\n",
    "***\n",
    "Ας δούμε μερικά γραφήματα για 3 μεταβλητές: 'CRIM' (per capita crime rate), 'RM' (number of rooms) και 'PTRATIO' (pupil-to-teacher ratio in schools).  "
   ]
  },
  {
   "cell_type": "code",
   "execution_count": null,
   "metadata": {},
   "outputs": [],
   "source": [
    "plt.scatter(boston_df.CRIM, boston_df.PRICE)\n",
    "plt.xlabel(\"Per capita crime rate by town (CRIM)\")\n",
    "plt.ylabel(\"Housing Price\")\n",
    "plt.title(\"Relationship between CRIM and Price\")"
   ]
  },
  {
   "cell_type": "markdown",
   "metadata": {},
   "source": [
    "Ας περιγράψουμε την σχέση αυτή \n",
    " \n",
    "Πρόκειται για μία όχι γραμμική αρνητική σχέση μεταξύ του Per capita crime rate και του Housing prices. Το ενδιαφέρον είναι ότι \n",
    "μετά τα 35 εγκλήματα οι τιμές σταθεροποιούνται κοντά στο 10. Επίσης, παρατηρούμε ότι όταν η τιμή είναι 50, υπάρχει και εκεί ένα Per Capita crime rate μεταξύ του 0 και του 10."
   ]
  },
  {
   "cell_type": "markdown",
   "metadata": {},
   "source": [
    "## Περιγράψτε τις παρακάτω σχέσεις"
   ]
  },
  {
   "cell_type": "code",
   "execution_count": null,
   "metadata": {},
   "outputs": [],
   "source": [
    "plt.scatter(boston_df.RM, boston_df.PRICE)\n",
    "plt.xlabel(\"Average number of rooms in dwelling (RM)\")\n",
    "plt.ylabel(\"Housing Price\")\n",
    "plt.title(\"Relationship between RM and Price\")"
   ]
  },
  {
   "cell_type": "markdown",
   "metadata": {},
   "source": []
  },
  {
   "cell_type": "code",
   "execution_count": null,
   "metadata": {},
   "outputs": [],
   "source": [
    "plt.scatter(boston_df.PTRATIO, boston_df.PRICE)\n",
    "plt.xlabel(\"Pupil-Teacher Ratio per town (PTRATIO)\")\n",
    "plt.ylabel(\"Housing Price\")\n",
    "plt.title(\"Relationship between Pupil-Teacher Ratio and Price\")"
   ]
  },
  {
   "cell_type": "markdown",
   "metadata": {},
   "source": []
  },
  {
   "cell_type": "markdown",
   "metadata": {},
   "source": [
    "## Φτιάξτε 2 δικά σας scatter plots και περιγράψτε τα"
   ]
  },
  {
   "cell_type": "code",
   "execution_count": null,
   "metadata": {},
   "outputs": [],
   "source": []
  },
  {
   "cell_type": "code",
   "execution_count": null,
   "metadata": {},
   "outputs": [],
   "source": []
  },
  {
   "cell_type": "markdown",
   "metadata": {},
   "source": [
    "### Scatterplots με τη βιβλιοθήκη Seaborn  \n",
    "\n",
    "[Seaborn](https://stanford.edu/~mwaskom/software/seaborn/) και [seaborn regplot](https://stanford.edu/~mwaskom/software/seaborn/tutorial/regression.html#functions-to-draw-linear-regression-models) "
   ]
  },
  {
   "cell_type": "code",
   "execution_count": null,
   "metadata": {},
   "outputs": [],
   "source": [
    "sns.regplot(y=\"PRICE\", x=\"RM\", data=boston_df, fit_reg = True)"
   ]
  },
  {
   "cell_type": "code",
   "execution_count": null,
   "metadata": {},
   "outputs": [],
   "source": [
    "plt.hist(np.log(boston_df.CRIM))\n",
    "plt.title(\"CRIM\")\n",
    "plt.xlabel(\"Crime rate per capita\")\n",
    "plt.ylabel(\"Frequencey\")\n",
    "plt.show()"
   ]
  },
  {
   "cell_type": "markdown",
   "metadata": {},
   "source": [
    "#### Χωρισμός δεδομένων και εξερεύνηση \n",
    "Θα ξεκινήσουμε απλά με ένα feature, π.χ. RM number of room, για να προβλέψουμε το PRICE target. \n",
    "\n",
    "Επειδή το Scikit-learn χρειάζεται Numpy ndarrays θα μετατρέψουμε το DataFrame σε np arrays"
   ]
  },
  {
   "cell_type": "code",
   "execution_count": null,
   "metadata": {},
   "outputs": [],
   "source": [
    "x_try = np.array(boston_df.RM)       # Convert the feature of interest RM \n",
    "y_try = np.array(boston_df.PRICE)    # Convert the target \n",
    "x_try = x_try.reshape(-1,1)        # Reshape into 1D\n",
    "y_try = y_try.reshape(-1,1)        # Reshape into 1D\n",
    "print(x_try.shape)\n",
    "print(y_try.shape)"
   ]
  },
  {
   "cell_type": "markdown",
   "metadata": {},
   "source": [
    "Aς σχεδιάσουμε ένα histogram για την μεταβήτή που θέλουμενα προβλέψουμε"
   ]
  },
  {
   "cell_type": "code",
   "execution_count": null,
   "metadata": {},
   "outputs": [],
   "source": []
  },
  {
   "cell_type": "markdown",
   "metadata": {},
   "source": [
    "Και ένα γράφημα διασποράς"
   ]
  },
  {
   "cell_type": "code",
   "execution_count": null,
   "metadata": {
    "scrolled": false
   },
   "outputs": [],
   "source": [
    "s1 = plt.scatter(x_try, y_try, color='r', marker='o', alpha = 0.3) \n",
    "plt.xlabel('Number of rooms')  \n",
    "plt.ylabel('Price')\n",
    "\n",
    "plt.title('Housing in Boston')"
   ]
  },
  {
   "cell_type": "markdown",
   "metadata": {},
   "source": [
    "## Machine Learning - regression model \n",
    "\n",
    "Περισσότερα https://scikit-learn.org/stable/modules/generated/sklearn.linear_model.LinearRegression.html"
   ]
  },
  {
   "cell_type": "code",
   "execution_count": null,
   "metadata": {},
   "outputs": [],
   "source": [
    "from sklearn.linear_model import LinearRegression\n",
    "# Εισαγωγή μοντέλου\n",
    "lm = LinearRegression()\n",
    "# Εκπαίδευση\n",
    "lm.fit(x_try, y_try)\n",
    "# Πρόβλεψη\n",
    "y_pred = lm.predict(x_try)\n",
    "# Υπολογισμός λάθους\n",
    "rmse = np.sqrt(mean_squared_error(y_try, y_pred))\n",
    "print(rmse)"
   ]
  },
  {
   "cell_type": "markdown",
   "metadata": {},
   "source": [
    "Main functions | Description\n",
    "--- | --- \n",
    "`lm.fit()` | Fit a linear model\n",
    "`lm.predit()` | Predict Y using the linear model with estimated coefficients\n",
    "`lm.score()` | Returns the coefficient of determination (R^2). *A measure of how well observed outcomes are replicated by the model, as the proportion of total variation of outcomes explained by the model*"
   ]
  },
  {
   "cell_type": "code",
   "execution_count": null,
   "metadata": {},
   "outputs": [],
   "source": [
    "# Ίδιο με το επάνω\n",
    "s1 = plt.scatter(x_try, y_try, color='b', marker='o', alpha = 0.3) # Plot data\n",
    "plt.xlabel('Number of rooms')  \n",
    "plt.ylabel('Price') \n",
    "plt.title('Housing in Boston') \n",
    "# Αλλά τώρα προσθέσαμε την γραμμή πρόβλεψης\n",
    "plt.plot(x_try, y_pred, color='red') # οπτικοποιεί την πρόβλεψη\n",
    "plt.savefig('lin_reg_house_rm.png', dpi=150, bbox_inches='tight') # Σώζει την εικόνα\n",
    "plt.show() "
   ]
  },
  {
   "cell_type": "markdown",
   "metadata": {},
   "source": [
    "### Linear regression με όλα τα χαρακτηριστικά"
   ]
  },
  {
   "cell_type": "code",
   "execution_count": null,
   "metadata": {},
   "outputs": [],
   "source": [
    "# Βάζουμε όλα τα χαρακτηριστικά εκτός της μεταβλητής που θέλουμε να προβλέψουμε (PRICE)\n",
    "X_try = boston_df.drop('PRICE', axis = 1)\n",
    "# εδώ η μεταβλητή που θέλουμε να προβλέψουμε\n",
    "y_try = boston_df['PRICE']                 \n",
    "# ξεκινάμε το regression\n",
    "all_reg = LinearRegression()\n",
    "# Εκπαίδευση\n",
    "all_reg.fit(X_try, y_try)     \n",
    "# Υπολογισμός προβλέψεων\n",
    "y_pred = all_reg.predict(X_try) \n",
    "# υπολογισμός root mean squared error\n",
    "rmse = np.sqrt(mean_squared_error(y_try, y_pred)) \n",
    "# υπολογισμός r squared\n",
    "r2 = round(all_reg.score(X_try, y_try), 2)  \n",
    "# αποτελέσματα\n",
    "print('R2 score is {}'.format(r2))\n",
    "print('RMSE is {}'.format(rmse))    "
   ]
  },
  {
   "cell_type": "markdown",
   "metadata": {},
   "source": [
    "Επειδή δεν έχουμε μόνο μία διάσταση τώρα, αντί να τυπώσουμε 13 μικρά γραφήματα, μπορούμε να τυπώσουμε το γράφημα της πρόβλεψης σε σχέση με το πραγματικό. "
   ]
  },
  {
   "cell_type": "code",
   "execution_count": null,
   "metadata": {},
   "outputs": [],
   "source": [
    "plt.scatter(y_try, y_pred)\n",
    "plt.xlabel(\"Predicted Price\")\n",
    "plt.ylabel(\"Actual Housing Price\")\n",
    "plt.title(\"Predicted Price vs Actual Price\")\n",
    "\n",
    "plt.xticks(np.arange(0, 70, step=10))\n",
    "plt.yticks(np.arange(0, 70, step=10))\n",
    "\n",
    "plt.plot(np.arange(0, 70, step=10), np.arange(0, 70, step=10), color = 'red')\n",
    "plt.show()\n",
    "plt.clf()"
   ]
  },
  {
   "cell_type": "markdown",
   "metadata": {},
   "source": [
    "## <span style=\"color:red\">*Άσκηση*</span>\n",
    "\n",
    "<span style=\"color:red\">\n",
    "    \n",
    "Στον φάκελο week5 υπάρχει το dataset 'Bike-Sharing-Dataset' από την ιστοσελίδα του UCI https://archive.ics.uci.edu/ml/datasets/bike+sharing+dataset\n",
    "\n",
    ", διαλέξτε ένα από τα 2 datasets, (day.csv ή hour.csv)\n",
    "\n",
    "και επαναλάβετε τα βήματα που μάθαμε σε αυτό το notebook. Μπορείτε με γραμμική παλινδρόμηση να προβλέψετε τις ενοικιάσεις ποδηλάτων στην Washington, D.C. με βάση για παράδειγμα τον καιρό? Γράψτε μια μικρή παράγραφο με τα συμπεράσματά σας. Πριν ξεκινήσετε διαβάστε καλά την περιγραφή των δεδομένων (Attribute Information) και τι σημαίνει η κάθε στήλη!"
   ]
  },
  {
   "cell_type": "code",
   "execution_count": null,
   "metadata": {},
   "outputs": [],
   "source": [
    "bike_rentals = pd.read_csv('Bike-Sharing-Dataset/hour.csv')\n",
    "bike_rentals.head()"
   ]
  },
  {
   "cell_type": "code",
   "execution_count": null,
   "metadata": {},
   "outputs": [],
   "source": [
    "plt.hist(bike_rentals.cnt,color='g')"
   ]
  },
  {
   "cell_type": "code",
   "execution_count": null,
   "metadata": {},
   "outputs": [],
   "source": [
    "bike_rentals.rename(columns={\"hr\": \"hour\", \"dteday\":\"date\", \"yr\":\"year\",\n",
    "                            \"hum\":\"humidity\", \"cnt\":\"totalcount\", \"mnth\":\"month\",\n",
    "                            \"weathersit\":\"weather\"}, inplace=True)\n",
    "\n",
    "bike_rentals  = bike_rentals.drop([\"instant\", \"date\", \"year\"],axis=1)"
   ]
  },
  {
   "cell_type": "code",
   "execution_count": null,
   "metadata": {},
   "outputs": [],
   "source": [
    "bike_rentals.head(3)"
   ]
  },
  {
   "cell_type": "code",
   "execution_count": null,
   "metadata": {},
   "outputs": [],
   "source": [
    "# Good luck!"
   ]
  }
 ],
 "metadata": {
  "kernelspec": {
   "display_name": "Python 3",
   "language": "python",
   "name": "python3"
  },
  "language_info": {
   "codemirror_mode": {
    "name": "ipython",
    "version": 3
   },
   "file_extension": ".py",
   "mimetype": "text/x-python",
   "name": "python",
   "nbconvert_exporter": "python",
   "pygments_lexer": "ipython3",
   "version": "3.7.2"
  }
 },
 "nbformat": 4,
 "nbformat_minor": 2
}
