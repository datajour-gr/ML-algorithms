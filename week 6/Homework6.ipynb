{
 "cells": [
  {
   "cell_type": "markdown",
   "metadata": {},
   "source": [
    "# Homework  6\n",
    "\n"
   ]
  },
  {
   "cell_type": "markdown",
   "metadata": {},
   "source": [
    "# Μηχανική μάθηση - Ροή εργασιών επανάληψη\n",
    "\n",
    "Δεδομένου ότι είδαμε ήδη αρκετά και γνωρίζετε και εσείς καλά πως να κάνετε χρήση των αλγορίθμων που μάθαμε, θα επαναλάβουμε όλα τα βήματα άλλη μια φορά για να διασφαλίσουμε ότι κατανοούμε τις πιο σημαντικές έννοιες μέχρι στιγμής.\n",
    "\n",
    "Σε αυτή την άσκηση θα περάσετε από ολόκληρη τη διαδικασία εισαγωγής και καθαρισμού δεδομένων, για να εκπαιδεύσετε στη συνέχεια δύο διαφορετικά μοντέλα και να τα συγκρίνετε. \n",
    "\n",
    "Προτείνεται να ξεκινήσετε μόνοι σας και να συμβουλευτείτε τις ιστοσελίδες του scikit-learn των οποίων τα links είναι παρακάτω. Αν κολλήσετε τότε ανατρέξτε στις προηγούμενες ασκήσεις.\n",
    "\n",
    "\n",
    "Το dataset: Wine Quality Data Set\n",
    "\n",
    "Εδώ στόχος μας είναι να προβλέψουμε την ποιότητα του κρασιού με βάση μερικά από τα χαρακτηριστικά του.\n",
    "\n",
    "Η εργασία σας: Πρόβλεψη \"ποιότητας\" με βάση τις υπόλοιπες μεταβλητές.\n",
    "\n",
    "\n",
    "\n",
    "Πηγή δεδομένων και λεπτομέρειες για τα δεδομένα: https://archive.ics.uci.edu/ml/datasets/wine+quality\n",
    "\n",
    " "
   ]
  },
  {
   "cell_type": "code",
   "execution_count": null,
   "metadata": {},
   "outputs": [],
   "source": [
    "import pandas as pd\n",
    "import numpy as np\n",
    "import matplotlib.pyplot as plt\n",
    "from sklearn.metrics import mean_squared_error, r2_score\n",
    "from sklearn.linear_model import LinearRegression\n",
    "from sklearn.tree import DecisionTreeRegressor, plot_tree\n",
    "from sklearn.model_selection import RepeatedKFold"
   ]
  },
  {
   "cell_type": "code",
   "execution_count": null,
   "metadata": {},
   "outputs": [],
   "source": [
    "df_wine = pd.read_csv('winequality-white.csv', sep=\";\", header=0)\n",
    "df_wine"
   ]
  },
  {
   "cell_type": "code",
   "execution_count": 1,
   "metadata": {},
   "outputs": [],
   "source": [
    "# 1) Δείτε τα δεδομένα και ελέγξτε για missing values (pandas.DataFrame.isnull)\n",
    "\n",
    "# 2) Αφαιρέστε τις γραμμές που περιέχουν missing values (pandas.DataFrame.dropna)\n",
    "\n",
    "# Θυμηθείτε να κάνετε το quality σαν στόχο και τις υπόλοιπες μεταβλητές σαν features\n"
   ]
  },
  {
   "cell_type": "code",
   "execution_count": null,
   "metadata": {},
   "outputs": [],
   "source": [
    "# 3) Διαλέξτε ποιες μεταβλητές συσχετίζονται με το (correlate) με το quality (pandas.DataFrame.corr)\n"
   ]
  },
  {
   "cell_type": "code",
   "execution_count": null,
   "metadata": {},
   "outputs": [],
   "source": [
    "# 4) Ελέγξτε ποια μεταβλητή έχει την υψηλότερη συσχέτιση με την ποιότητα και κάντε ένα γράφημα που δείχνει τη σχέση τους (scatter plot)\n"
   ]
  },
  {
   "cell_type": "code",
   "execution_count": null,
   "metadata": {},
   "outputs": [],
   "source": [
    "# 5) Εκπαιδεύστε ένα μοντέλο Linear Regression χρησιμοποιώντας k-fold cross validation \n",
    "\n",
    "# εΠαρακάτω υπάρχει μια σειρά εργασιών για να σας βοηθήσει\n",
    "# Υπάρχουν εμφανή λάθη μέσα που πρέπει να προσαρμόσετε τον κώδικα ανάλογα \n",
    "# Ξεκινήστε γραμμή γραμμή να γεμίζετε τις τιμές(αν δεν σας βοηθάει ο κώδικας-δείγμα κάντε τον δικό σας από την αρχή)\n",
    "X = DATAFRAME FEATURES\n",
    "y = DATAFRAME TARGET\n",
    "r2_scores = [] # αυτή η άδεια λίστα χρειάζεται για να αναθέσετε τις τιμές για να ξεκινήσει το Cross-Validation object (our_cv)\n",
    "\n",
    "our_cv = RepeatedKFold(n_splits= SPECIFY NUMBER OF SPLITS, n_repeats= SPECIFY NUMBER OF REPEATS)\n",
    "# λούπα για τα splits που έκανε το our_cv\n",
    "for i_train, i_test in our_cv.split(X):\n",
    "    # Προσδιορίστε το training και test set σύμφωνα με το split\n",
    "    X_train, X_test, y_train, y_test = X.iloc[i_train], X.iloc[i_test], y.iloc[i_train], y.iloc[i_test]\n",
    "    # Ξεκινήστε το regression\n",
    "    lin_reg = \n",
    "    # Εκπαιδεύστε το linear regression\n",
    "    lin_reg.fit()\n",
    "    # Πρόβλεψη\n",
    "    y_pred_test =\n",
    "    # Υπολογισμός του R2 score\n",
    "    r2 = round(lin_reg.score(INSERT VARIABLES HERE), 2)\n",
    "    # Προσθέστε (append) το score στην άδεια λίστα που φτιάξαμε επάνω για τα R2 scores\n",
    "    r2_scores.append(r2) # αυτή η γραμμή είναι σωστή και δεν χρειάζεται αλλαγή "
   ]
  },
  {
   "cell_type": "markdown",
   "metadata": {},
   "source": [
    "Για παραπάνω βοήθεια:\n",
    "\n",
    "Linear Regression: https://scikit-learn.org/stable/modules/generated/sklearn.linear_model.LinearRegression.html\n",
    "\n",
    "k-fold Cross validation: https://scikit-learn.org/stable/modules/generated/sklearn.model_selection.KFold.html"
   ]
  },
  {
   "cell_type": "code",
   "execution_count": null,
   "metadata": {},
   "outputs": [],
   "source": [
    "# 6) Φτιάξτε ένα plot με τα αποτελέσματα - πρέπει να προσθέσετε τη μεταβλητή r2_scores\n",
    "mean_r2 = \n",
    "std_r2 = \n",
    "plt.plot(, marker='o', linestyle='None')\n",
    "plt.xticks([])\n",
    "plt.yticks(np.arange(0,1.1,0.1))\n",
    "plt.title('Accuracy of single repetitions in cross-validation')\n",
    "plt.xlabel('different random data splits')\n",
    "plt.ylabel('r2 score')\n",
    "plt.show()"
   ]
  },
  {
   "cell_type": "code",
   "execution_count": null,
   "metadata": {},
   "outputs": [],
   "source": [
    "#7) Εκπαιδεύστε ένα Decision Tree χρησιμοποιώντας k-fold cross-validation\n",
    "\n",
    "\n",
    "\n"
   ]
  },
  {
   "cell_type": "markdown",
   "metadata": {},
   "source": [
    "Decision Trees for regression: https://scikit-learn.org/stable/auto_examples/tree/plot_tree_regression.html#sphx-glr-auto-examples-tree-plot-tree-regression-py"
   ]
  },
  {
   "cell_type": "code",
   "execution_count": null,
   "metadata": {},
   "outputs": [],
   "source": [
    "# 8) Συγκρίνετε τις αποδόσεις. Ποιο μοντέλο είναι καλύτερο και γιατί?\n",
    "\n"
   ]
  },
  {
   "cell_type": "code",
   "execution_count": null,
   "metadata": {},
   "outputs": [],
   "source": [
    "#9) Βελτιώστε το decision tree ελέγχοντας το βάθος του \n",
    "\n",
    "# Spoiler: Το καλύτερο βάθος είναι το 6. \n",
    "# Δοκιμάστε ξανά το Decision tree με optimal depth το 6 και συγκρίνετε τα μοντέλα ξανά. "
   ]
  },
  {
   "cell_type": "code",
   "execution_count": null,
   "metadata": {},
   "outputs": [],
   "source": [
    "# 10) Γράψτε τα συμπεράσματά σας"
   ]
  },
  {
   "cell_type": "markdown",
   "metadata": {},
   "source": [
    "# Συγχαρητήρια!\n",
    "\n",
    "Επανέλαβες τις πιο σημαντικές έννοιες. Από εδώ και πέρα μπορούμε να μάθουμε πιο εξελιγμένες μεθόδους. :)\n"
   ]
  }
 ],
 "metadata": {
  "kernelspec": {
   "display_name": "Python 3",
   "language": "python",
   "name": "python3"
  },
  "language_info": {
   "codemirror_mode": {
    "name": "ipython",
    "version": 3
   },
   "file_extension": ".py",
   "mimetype": "text/x-python",
   "name": "python",
   "nbconvert_exporter": "python",
   "pygments_lexer": "ipython3",
   "version": "3.7.2"
  }
 },
 "nbformat": 4,
 "nbformat_minor": 2
}
