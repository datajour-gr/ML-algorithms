{
 "cells": [
  {
   "cell_type": "markdown",
   "metadata": {},
   "source": [
    "# Homework  6\n",
    "\n"
   ]
  },
  {
   "cell_type": "markdown",
   "metadata": {},
   "source": [
    "# Μηχανική μάθηση - Ροή εργασιών επανάληψη\n",
    "\n",
    "Δεδομένου ότι είδαμε ήδη αρκετά και γνωρίζετε και εσείς καλά πως να κάνετε χρήση των αλγορίθμων που μάθαμε, θα επαναλάβουμε όλα τα βήματα άλλη μια φορά για να διασφαλίσουμε ότι κατανοούμε τις πιο σημαντικές έννοιες μέχρι στιγμής.\n",
    "\n",
    "Σε αυτή την άσκηση θα περάσετε από ολόκληρη τη διαδικασία εισαγωγής και καθαρισμού δεδομένων, για να εκπαιδεύσετε στη συνέχεια δύο διαφορετικά μοντέλα και να τα συγκρίνετε. \n",
    "\n",
    "Προτείνεται να ξεκινήσετε μόνοι σας και να συμβουλευτείτε τις ιστοσελίδες του scikit-learn των οποίων τα links είναι παρακάτω. Αν κολλήσετε τότε ανατρέξτε στις προηγούμενες ασκήσεις.\n",
    "\n",
    "\n",
    "Το dataset: Wine Quality Data Set\n",
    "\n",
    "Εδώ στόχος μας είναι να προβλέψουμε την ποιότητα του κρασιού με βάση μερικά από τα χαρακτηριστικά του.\n",
    "\n",
    "Η εργασία σας: Πρόβλεψη \"ποιότητας\" με βάση τις υπόλοιπες μεταβλητές.\n",
    "\n",
    "\n",
    "\n",
    "Πηγή δεδομένων και λεπτομέρειες για τα δεδομένα: https://archive.ics.uci.edu/ml/datasets/wine+quality\n",
    "\n",
    " "
   ]
  },
  {
   "cell_type": "code",
   "execution_count": 1,
   "metadata": {},
   "outputs": [],
   "source": [
    "import pandas as pd\n",
    "import numpy as np\n",
    "import matplotlib.pyplot as plt\n",
    "from sklearn.metrics import mean_squared_error, r2_score\n",
    "from sklearn.linear_model import LinearRegression\n",
    "from sklearn.tree import DecisionTreeRegressor, plot_tree\n",
    "from sklearn.model_selection import RepeatedKFold"
   ]
  },
  {
   "cell_type": "code",
   "execution_count": 2,
   "metadata": {},
   "outputs": [
    {
     "data": {
      "text/html": [
       "<div>\n",
       "<style scoped>\n",
       "    .dataframe tbody tr th:only-of-type {\n",
       "        vertical-align: middle;\n",
       "    }\n",
       "\n",
       "    .dataframe tbody tr th {\n",
       "        vertical-align: top;\n",
       "    }\n",
       "\n",
       "    .dataframe thead th {\n",
       "        text-align: right;\n",
       "    }\n",
       "</style>\n",
       "<table border=\"1\" class=\"dataframe\">\n",
       "  <thead>\n",
       "    <tr style=\"text-align: right;\">\n",
       "      <th></th>\n",
       "      <th>fixed acidity</th>\n",
       "      <th>volatile acidity</th>\n",
       "      <th>citric acid</th>\n",
       "      <th>residual sugar</th>\n",
       "      <th>chlorides</th>\n",
       "      <th>free sulfur dioxide</th>\n",
       "      <th>total sulfur dioxide</th>\n",
       "      <th>density</th>\n",
       "      <th>pH</th>\n",
       "      <th>sulphates</th>\n",
       "      <th>alcohol</th>\n",
       "      <th>quality</th>\n",
       "    </tr>\n",
       "  </thead>\n",
       "  <tbody>\n",
       "    <tr>\n",
       "      <th>0</th>\n",
       "      <td>7.0</td>\n",
       "      <td>0.27</td>\n",
       "      <td>0.36</td>\n",
       "      <td>20.7</td>\n",
       "      <td>0.045</td>\n",
       "      <td>45.0</td>\n",
       "      <td>170.0</td>\n",
       "      <td>1.00100</td>\n",
       "      <td>3.00</td>\n",
       "      <td>0.45</td>\n",
       "      <td>8.8</td>\n",
       "      <td>6</td>\n",
       "    </tr>\n",
       "    <tr>\n",
       "      <th>1</th>\n",
       "      <td>6.3</td>\n",
       "      <td>0.30</td>\n",
       "      <td>0.34</td>\n",
       "      <td>1.6</td>\n",
       "      <td>0.049</td>\n",
       "      <td>14.0</td>\n",
       "      <td>132.0</td>\n",
       "      <td>0.99400</td>\n",
       "      <td>3.30</td>\n",
       "      <td>0.49</td>\n",
       "      <td>9.5</td>\n",
       "      <td>6</td>\n",
       "    </tr>\n",
       "    <tr>\n",
       "      <th>2</th>\n",
       "      <td>8.1</td>\n",
       "      <td>0.28</td>\n",
       "      <td>0.40</td>\n",
       "      <td>6.9</td>\n",
       "      <td>0.050</td>\n",
       "      <td>30.0</td>\n",
       "      <td>97.0</td>\n",
       "      <td>0.99510</td>\n",
       "      <td>3.26</td>\n",
       "      <td>0.44</td>\n",
       "      <td>10.1</td>\n",
       "      <td>6</td>\n",
       "    </tr>\n",
       "    <tr>\n",
       "      <th>3</th>\n",
       "      <td>7.2</td>\n",
       "      <td>0.23</td>\n",
       "      <td>0.32</td>\n",
       "      <td>8.5</td>\n",
       "      <td>0.058</td>\n",
       "      <td>47.0</td>\n",
       "      <td>186.0</td>\n",
       "      <td>0.99560</td>\n",
       "      <td>3.19</td>\n",
       "      <td>0.40</td>\n",
       "      <td>9.9</td>\n",
       "      <td>6</td>\n",
       "    </tr>\n",
       "    <tr>\n",
       "      <th>4</th>\n",
       "      <td>7.2</td>\n",
       "      <td>0.23</td>\n",
       "      <td>0.32</td>\n",
       "      <td>8.5</td>\n",
       "      <td>0.058</td>\n",
       "      <td>47.0</td>\n",
       "      <td>186.0</td>\n",
       "      <td>0.99560</td>\n",
       "      <td>3.19</td>\n",
       "      <td>0.40</td>\n",
       "      <td>9.9</td>\n",
       "      <td>6</td>\n",
       "    </tr>\n",
       "    <tr>\n",
       "      <th>...</th>\n",
       "      <td>...</td>\n",
       "      <td>...</td>\n",
       "      <td>...</td>\n",
       "      <td>...</td>\n",
       "      <td>...</td>\n",
       "      <td>...</td>\n",
       "      <td>...</td>\n",
       "      <td>...</td>\n",
       "      <td>...</td>\n",
       "      <td>...</td>\n",
       "      <td>...</td>\n",
       "      <td>...</td>\n",
       "    </tr>\n",
       "    <tr>\n",
       "      <th>4893</th>\n",
       "      <td>6.2</td>\n",
       "      <td>0.21</td>\n",
       "      <td>0.29</td>\n",
       "      <td>1.6</td>\n",
       "      <td>0.039</td>\n",
       "      <td>24.0</td>\n",
       "      <td>92.0</td>\n",
       "      <td>0.99114</td>\n",
       "      <td>3.27</td>\n",
       "      <td>0.50</td>\n",
       "      <td>11.2</td>\n",
       "      <td>6</td>\n",
       "    </tr>\n",
       "    <tr>\n",
       "      <th>4894</th>\n",
       "      <td>6.6</td>\n",
       "      <td>0.32</td>\n",
       "      <td>0.36</td>\n",
       "      <td>8.0</td>\n",
       "      <td>0.047</td>\n",
       "      <td>57.0</td>\n",
       "      <td>168.0</td>\n",
       "      <td>0.99490</td>\n",
       "      <td>3.15</td>\n",
       "      <td>0.46</td>\n",
       "      <td>9.6</td>\n",
       "      <td>5</td>\n",
       "    </tr>\n",
       "    <tr>\n",
       "      <th>4895</th>\n",
       "      <td>6.5</td>\n",
       "      <td>0.24</td>\n",
       "      <td>0.19</td>\n",
       "      <td>1.2</td>\n",
       "      <td>0.041</td>\n",
       "      <td>30.0</td>\n",
       "      <td>111.0</td>\n",
       "      <td>0.99254</td>\n",
       "      <td>2.99</td>\n",
       "      <td>0.46</td>\n",
       "      <td>9.4</td>\n",
       "      <td>6</td>\n",
       "    </tr>\n",
       "    <tr>\n",
       "      <th>4896</th>\n",
       "      <td>5.5</td>\n",
       "      <td>0.29</td>\n",
       "      <td>0.30</td>\n",
       "      <td>1.1</td>\n",
       "      <td>0.022</td>\n",
       "      <td>20.0</td>\n",
       "      <td>110.0</td>\n",
       "      <td>0.98869</td>\n",
       "      <td>3.34</td>\n",
       "      <td>0.38</td>\n",
       "      <td>12.8</td>\n",
       "      <td>7</td>\n",
       "    </tr>\n",
       "    <tr>\n",
       "      <th>4897</th>\n",
       "      <td>6.0</td>\n",
       "      <td>0.21</td>\n",
       "      <td>0.38</td>\n",
       "      <td>0.8</td>\n",
       "      <td>0.020</td>\n",
       "      <td>22.0</td>\n",
       "      <td>98.0</td>\n",
       "      <td>0.98941</td>\n",
       "      <td>3.26</td>\n",
       "      <td>0.32</td>\n",
       "      <td>11.8</td>\n",
       "      <td>6</td>\n",
       "    </tr>\n",
       "  </tbody>\n",
       "</table>\n",
       "<p>4898 rows × 12 columns</p>\n",
       "</div>"
      ],
      "text/plain": [
       "      fixed acidity  volatile acidity  citric acid  residual sugar  chlorides  \\\n",
       "0               7.0              0.27         0.36            20.7      0.045   \n",
       "1               6.3              0.30         0.34             1.6      0.049   \n",
       "2               8.1              0.28         0.40             6.9      0.050   \n",
       "3               7.2              0.23         0.32             8.5      0.058   \n",
       "4               7.2              0.23         0.32             8.5      0.058   \n",
       "...             ...               ...          ...             ...        ...   \n",
       "4893            6.2              0.21         0.29             1.6      0.039   \n",
       "4894            6.6              0.32         0.36             8.0      0.047   \n",
       "4895            6.5              0.24         0.19             1.2      0.041   \n",
       "4896            5.5              0.29         0.30             1.1      0.022   \n",
       "4897            6.0              0.21         0.38             0.8      0.020   \n",
       "\n",
       "      free sulfur dioxide  total sulfur dioxide  density    pH  sulphates  \\\n",
       "0                    45.0                 170.0  1.00100  3.00       0.45   \n",
       "1                    14.0                 132.0  0.99400  3.30       0.49   \n",
       "2                    30.0                  97.0  0.99510  3.26       0.44   \n",
       "3                    47.0                 186.0  0.99560  3.19       0.40   \n",
       "4                    47.0                 186.0  0.99560  3.19       0.40   \n",
       "...                   ...                   ...      ...   ...        ...   \n",
       "4893                 24.0                  92.0  0.99114  3.27       0.50   \n",
       "4894                 57.0                 168.0  0.99490  3.15       0.46   \n",
       "4895                 30.0                 111.0  0.99254  2.99       0.46   \n",
       "4896                 20.0                 110.0  0.98869  3.34       0.38   \n",
       "4897                 22.0                  98.0  0.98941  3.26       0.32   \n",
       "\n",
       "      alcohol  quality  \n",
       "0         8.8        6  \n",
       "1         9.5        6  \n",
       "2        10.1        6  \n",
       "3         9.9        6  \n",
       "4         9.9        6  \n",
       "...       ...      ...  \n",
       "4893     11.2        6  \n",
       "4894      9.6        5  \n",
       "4895      9.4        6  \n",
       "4896     12.8        7  \n",
       "4897     11.8        6  \n",
       "\n",
       "[4898 rows x 12 columns]"
      ]
     },
     "execution_count": 2,
     "metadata": {},
     "output_type": "execute_result"
    }
   ],
   "source": [
    "df_wine = pd.read_csv('winequality-white.csv', sep=\";\", header=0)\n",
    "df_wine"
   ]
  },
  {
   "cell_type": "code",
   "execution_count": 5,
   "metadata": {},
   "outputs": [
    {
     "name": "stdout",
     "output_type": "stream",
     "text": [
      "Index(['fixed acidity', 'volatile acidity', 'citric acid', 'residual sugar',\n",
      "       'chlorides', 'free sulfur dioxide', 'total sulfur dioxide', 'density',\n",
      "       'pH', 'sulphates', 'alcohol', 'quality'],\n",
      "      dtype='object')\n",
      "(4898, 12)\n",
      "   fixed acidity  volatile acidity  citric acid  residual sugar  chlorides  \\\n",
      "0            7.0              0.27         0.36            20.7      0.045   \n",
      "1            6.3              0.30         0.34             1.6      0.049   \n",
      "2            8.1              0.28         0.40             6.9      0.050   \n",
      "3            7.2              0.23         0.32             8.5      0.058   \n",
      "4            7.2              0.23         0.32             8.5      0.058   \n",
      "\n",
      "   free sulfur dioxide  total sulfur dioxide  density    pH  sulphates  \\\n",
      "0                 45.0                 170.0   1.0010  3.00       0.45   \n",
      "1                 14.0                 132.0   0.9940  3.30       0.49   \n",
      "2                 30.0                  97.0   0.9951  3.26       0.44   \n",
      "3                 47.0                 186.0   0.9956  3.19       0.40   \n",
      "4                 47.0                 186.0   0.9956  3.19       0.40   \n",
      "\n",
      "   alcohol  quality  \n",
      "0      8.8        6  \n",
      "1      9.5        6  \n",
      "2     10.1        6  \n",
      "3      9.9        6  \n",
      "4      9.9        6  \n"
     ]
    }
   ],
   "source": [
    "# 1) Δείτε τα δεδομένα και ελέγξτε για missing values (pandas.DataFrame.isnull)\n",
    "\n",
    "print(df_wine.keys())\n",
    "print(df_wine.shape) \n",
    "print(df_wine.head())"
   ]
  },
  {
   "cell_type": "code",
   "execution_count": 4,
   "metadata": {},
   "outputs": [
    {
     "data": {
      "text/plain": [
       "fixed acidity           0\n",
       "volatile acidity        0\n",
       "citric acid             0\n",
       "residual sugar          0\n",
       "chlorides               0\n",
       "free sulfur dioxide     0\n",
       "total sulfur dioxide    0\n",
       "density                 0\n",
       "pH                      0\n",
       "sulphates               0\n",
       "alcohol                 0\n",
       "quality                 0\n",
       "dtype: int64"
      ]
     },
     "execution_count": 4,
     "metadata": {},
     "output_type": "execute_result"
    }
   ],
   "source": [
    "# 2) Αφαιρέστε τις γραμμές που περιέχουν missing values (pandas.DataFrame.dropna)\n",
    "\n",
    "df_wine.isnull().sum()  #den ehei"
   ]
  },
  {
   "cell_type": "code",
   "execution_count": 8,
   "metadata": {},
   "outputs": [
    {
     "data": {
      "text/plain": [
       "Text(0.5,1,'White wine quality')"
      ]
     },
     "execution_count": 8,
     "metadata": {},
     "output_type": "execute_result"
    },
    {
     "data": {
      "image/png": "[encoded data removed]",
      "text/plain": [
       "<Figure size 432x288 with 1 Axes>"
      ]
     },
     "metadata": {
      "needs_background": "light"
     },
     "output_type": "display_data"
    }
   ],
   "source": [
    "# 3) Διαλέξτε ποιες μεταβλητές συσχετίζονται με το (correlate) με το quality (pandas.DataFrame.corr)\n",
    "# 4) Ελέγξτε ποια μεταβλητή έχει την υψηλότερη συσχέτιση με την ποιότητα και κάντε ένα γράφημα που δείχνει τη σχέση τους (scatter plot)\n",
    "\n",
    "x_try = df_wine.alcohol[0:500]\n",
    "y_try = df_wine.quality[0:500]\n",
    "\n",
    "# Plot scatter plot\n",
    "s1 = plt.scatter(x_try, y_try, color='g', marker='o', alpha = 0.3) # Plot data\n",
    "# Add labels\n",
    "plt.xlabel('Alcohol')  # Set xlabel\n",
    "plt.ylabel('Quality') # Set ylabel\n",
    "# Add title\n",
    "plt.title('White wine quality') # Set title \n",
    "\n",
    "# Megalitero correlation me to alcohol content \n",
    "# Mporoume na to doume kai an paroume ena deigma me 500 entries kai to kanoume plot"
   ]
  },
  {
   "cell_type": "code",
   "execution_count": 9,
   "metadata": {},
   "outputs": [],
   "source": [
    "# 5) Εκπαιδεύστε ένα μοντέλο Linear Regression χρησιμοποιώντας k-fold cross validation \n",
    "\n",
    "X = df_wine.drop(columns = 'quality')\n",
    "y = df_wine['quality']\n",
    "\n",
    "r2_scores = []\n",
    "\n",
    "\n",
    "our_cv = RepeatedKFold(n_splits=10, n_repeats=10)\n",
    "\n",
    "for i_train, i_test in our_cv.split(X):\n",
    "  \n",
    "    X_train, X_test, y_train, y_test = X.iloc[i_train], X.iloc[i_test], y.iloc[i_train], y.iloc[i_test]\n",
    "\n",
    "    lin_reg = LinearRegression()\n",
    "\n",
    "    lin_reg.fit(X_train, y_train)  \n",
    "\n",
    "    y_pred_test = lin_reg.predict(X_test)\n",
    "\n",
    "    r2 = round(lin_reg.score(X_test, y_test), 2)\n",
    "\n",
    "    r2_scores.append(r2)"
   ]
  },
  {
   "cell_type": "code",
   "execution_count": 10,
   "metadata": {},
   "outputs": [
    {
     "name": "stdout",
     "output_type": "stream",
     "text": [
      "Mean of r2 scores: 0.27 \n",
      "Standard deviation of r2 scores: 0.04\n"
     ]
    },
    {
     "data": {
      "image/png": "[encoded data removed]",
      "text/plain": [
       "<Figure size 432x288 with 1 Axes>"
      ]
     },
     "metadata": {
      "needs_background": "light"
     },
     "output_type": "display_data"
    }
   ],
   "source": [
    "# 6) Φτιάξτε ένα plot με τα αποτελέσματα - πρέπει να προσθέσετε τη μεταβλητή r2_scores\n",
    "\n",
    "#Calculating mean and standard deviation\n",
    "mean_r2 = round(np.mean(r2_scores),2)\n",
    "std_r2 = round(np.std(r2_scores),2)\n",
    "print('Mean of r2 scores: {} \\nStandard deviation of r2 scores: {}'\n",
    "      .format(mean_r2, std_r2))\n",
    "\n",
    "# Plotting accuracy of different random splits\n",
    "plt.plot(r2_scores, marker='o', linestyle='None')\n",
    "plt.xticks([])\n",
    "plt.yticks(np.arange(0,1.1,0.1))\n",
    "plt.title('Accuracy of single repetitions in cross-validation')\n",
    "plt.xlabel('different random data splits')\n",
    "plt.ylabel('r2 score')\n",
    "plt.show()"
   ]
  },
  {
   "cell_type": "code",
   "execution_count": 12,
   "metadata": {},
   "outputs": [],
   "source": [
    "#7) Εκπαιδεύστε ένα Decision Tree χρησιμοποιώντας k-fold cross-validation\n",
    "\n",
    "\n",
    "X = df_wine.drop(columns = 'quality')\n",
    "y = df_wine['quality']\n",
    "\n",
    "r2_scores = []\n",
    "\n",
    "# (cv)\n",
    "our_cv = RepeatedKFold(n_splits=10, n_repeats=10)\n",
    "\n",
    "for i_train, i_test in our_cv.split(X):\n",
    "\n",
    "    X_train, X_test, y_train, y_test = X.iloc[i_train], X.iloc[i_test], y.iloc[i_train], y.iloc[i_test]\n",
    "\n",
    "    dec_tree = DecisionTreeRegressor()\n",
    "\n",
    "    dec_tree.fit(X_train, y_train)\n",
    "\n",
    "    y_pred_test = dec_tree.predict(X_test)\n",
    "\n",
    "    r2 = round(dec_tree.score(X_test, y_test), 2)\n",
    "\n",
    "    r2_scores.append(r2)\n",
    "\n"
   ]
  },
  {
   "cell_type": "code",
   "execution_count": 13,
   "metadata": {},
   "outputs": [
    {
     "name": "stdout",
     "output_type": "stream",
     "text": [
      "Mean of r2 scores: 0.13 \n",
      "Standard deviation of r2 scores: 0.09\n"
     ]
    },
    {
     "data": {
      "image/png": "[encoded data removed]",
      "text/plain": [
       "<Figure size 432x288 with 1 Axes>"
      ]
     },
     "metadata": {
      "needs_background": "light"
     },
     "output_type": "display_data"
    }
   ],
   "source": [
    "# apotelesmata Decision trees me cv\n",
    "\n",
    "#Calculating mean and standard deviation\n",
    "mean_r2 = round(np.mean(r2_scores),2)\n",
    "std_r2 = round(np.std(r2_scores),2)\n",
    "print('Mean of r2 scores: {} \\nStandard deviation of r2 scores: {}'\n",
    "      .format(mean_r2, std_r2))\n",
    "\n",
    "# Plotting accuracy of different random splits\n",
    "plt.plot(r2_scores, marker='o', linestyle='None')\n",
    "plt.xticks([])\n",
    "plt.yticks(np.arange(0,1.1,0.1))\n",
    "plt.title('Accuracy of single repetitions in cross-validation')\n",
    "plt.xlabel('different random data splits')\n",
    "plt.ylabel('r2 score')\n",
    "plt.show()"
   ]
  },
  {
   "cell_type": "code",
   "execution_count": null,
   "metadata": {},
   "outputs": [],
   "source": [
    "# 8) Συγκρίνετε τις αποδόσεις. Ποιο μοντέλο είναι καλύτερο και γιατί?\n",
    "\n",
    "#To linear model einai kalitero me R²  0.27"
   ]
  },
  {
   "cell_type": "code",
   "execution_count": 14,
   "metadata": {},
   "outputs": [
    {
     "data": {
      "image/png": "[encoded data removed]",
      "text/plain": [
       "<Figure size 432x288 with 1 Axes>"
      ]
     },
     "metadata": {
      "needs_background": "light"
     },
     "output_type": "display_data"
    }
   ],
   "source": [
    "#9) Βελτιώστε το decision tree ελέγχοντας το βάθος του \n",
    "\n",
    "\n",
    "ls_total_r2_test = []\n",
    "ls_total_r2_train = []\n",
    "\n",
    "ls_max_depth = []\n",
    "\n",
    "for current_max_depth in np.arange(10): \n",
    "    \n",
    "    our_cv = RepeatedKFold(n_splits=10, n_repeats=10)\n",
    "    \n",
    "    dec_tree = DecisionTreeRegressor(max_depth=current_max_depth+1)\n",
    "    \n",
    "    ls_r2_test = []\n",
    "    ls_r2_train = []\n",
    "    \n",
    "    for i_train, i_test in our_cv.split(X):\n",
    "        \n",
    "        X_train, X_test, y_train, y_test = X.iloc[i_train], X.iloc[i_test], y.iloc[i_train], y.iloc[i_test]\n",
    "        \n",
    "        dec_tree.fit(X_train, y_train)\n",
    "       \n",
    "        y_pred_test = dec_tree.predict(X_test)\n",
    "        y_pred_train = dec_tree.predict(X_train)\n",
    "        \n",
    "        current_r2_test = r2_score(y_test, y_pred_test)\n",
    "        current_r2_train = r2_score(y_train, y_pred_train)\n",
    "        \n",
    "        ls_r2_test.append(current_r2_test)\n",
    "        ls_r2_train.append(current_r2_train)\n",
    "\n",
    "    ls_max_depth.append(current_max_depth+1)\n",
    "\n",
    "    ls_total_r2_test.append(np.mean(ls_r2_test))  \n",
    "    ls_total_r2_train.append(np.mean(ls_r2_train))  \n",
    "    \n",
    "\n",
    "plt.plot(ls_max_depth, ls_total_r2_train, label=\"Training data\")\n",
    "plt.plot(ls_max_depth, ls_total_r2_test, label=\"Testing data\")\n",
    "plt.xticks(np.arange(10)+1)\n",
    "plt.xlabel('tree depth')\n",
    "plt.ylabel('R²')\n",
    "plt.legend()\n",
    "plt.show()\n"
   ]
  },
  {
   "cell_type": "code",
   "execution_count": 15,
   "metadata": {},
   "outputs": [],
   "source": [
    "# To kalitero depth einai to 6, to vazoume sto idi etoimo modelo kai paratiroume ti veltiwsi"
   ]
  },
  {
   "cell_type": "code",
   "execution_count": 18,
   "metadata": {},
   "outputs": [
    {
     "name": "stdout",
     "output_type": "stream",
     "text": [
      "Mean of r2 scores: 0.3 \n",
      "Standard deviation of r2 scores: 0.04\n"
     ]
    },
    {
     "data": {
      "image/png": "[encoded data removed]",
      "text/plain": [
       "<Figure size 432x288 with 1 Axes>"
      ]
     },
     "metadata": {
      "needs_background": "light"
     },
     "output_type": "display_data"
    }
   ],
   "source": [
    "X = df_wine.drop(columns = 'quality')\n",
    "y = df_wine['quality']\n",
    "\n",
    "r2_scores = []\n",
    "\n",
    "\n",
    "our_cv = RepeatedKFold(n_splits=10, n_repeats=10)\n",
    "\n",
    "for i_train, i_test in our_cv.split(X):\n",
    "    \n",
    "    X_train, X_test, y_train, y_test = X.iloc[i_train], X.iloc[i_test], y.iloc[i_train], y.iloc[i_test]\n",
    "    \n",
    "    dec_tree = DecisionTreeRegressor(max_depth=6)\n",
    "    \n",
    "    dec_tree.fit(X_train, y_train)\n",
    "    \n",
    "    y_pred_test = dec_tree.predict(X_test)\n",
    "    \n",
    "    r2 = round(dec_tree.score(X_test, y_test), 2)\n",
    "   \n",
    "    r2_scores.append(r2)\n",
    "    \n",
    "\n",
    "mean_r2 = round(np.mean(r2_scores),2)\n",
    "std_r2 = round(np.std(r2_scores),2)\n",
    "print('Mean of r2 scores: {} \\nStandard deviation of r2 scores: {}'\n",
    "      .format(mean_r2, std_r2))\n",
    "\n",
    "\n",
    "plt.plot(r2_scores, marker='o', linestyle='None')\n",
    "plt.xticks([])\n",
    "plt.yticks(np.arange(0,1.1,0.1))\n",
    "plt.title('Accuracy of single repetitions in cross-validation')\n",
    "plt.xlabel('different random data splits')\n",
    "plt.ylabel('r2 score')\n",
    "plt.show()"
   ]
  },
  {
   "cell_type": "code",
   "execution_count": null,
   "metadata": {},
   "outputs": [],
   "source": [
    "#to kalitero apotelesma 0.3 "
   ]
  }
 ],
 "metadata": {
  "kernelspec": {
   "display_name": "Python 3",
   "language": "python",
   "name": "python3"
  },
  "language_info": {
   "codemirror_mode": {
    "name": "ipython",
    "version": 3
   },
   "file_extension": ".py",
   "mimetype": "text/x-python",
   "name": "python",
   "nbconvert_exporter": "python",
   "pygments_lexer": "ipython3",
   "version": "3.7.2"
  }
 },
 "nbformat": 4,
 "nbformat_minor": 2
}
