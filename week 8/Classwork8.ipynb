{
  "nbformat": 4,
  "nbformat_minor": 0,
  "metadata": {
    "kernelspec": {
      "display_name": "Python 3",
      "language": "python",
      "name": "python3"
    },
    "language_info": {
      "codemirror_mode": {
        "name": "ipython",
        "version": 3
      },
      "file_extension": ".py",
      "mimetype": "text/x-python",
      "name": "python",
      "nbconvert_exporter": "python",
      "pygments_lexer": "ipython3",
      "version": "3.7.2"
    },
    "colab": {
      "name": " Classwork8.ipynb",
      "provenance": []
    }
  },
  "cells": [
    {
      "cell_type": "markdown",
      "metadata": {
        "id": "4qUwuOKb5Yt1",
        "colab_type": "text"
      },
      "source": [
        "# Classwork 8 - To πρόβλημα της διαστατικότητας"
      ]
    },
    {
      "cell_type": "markdown",
      "metadata": {
        "id": "9_NRjVH95Yt2",
        "colab_type": "text"
      },
      "source": [
        "## 1. Προετοιμασία\n",
        "\n",
        "Θα χρησιμοποιήσουμε πάλι τα δεδομένα για την ποιότητα του κρασιου και ως συνήθως θα  προσπαθήσουμε να προβλέψουμε την ποιότητα με βάση χαρακτηριστικά όπως παραπάνω ζάχαρη, κιτρικό οξύ κ.λπ."
      ]
    },
    {
      "cell_type": "code",
      "metadata": {
        "id": "OmrVG_hS5Yt3",
        "colab_type": "code",
        "colab": {}
      },
      "source": [
        "# Import\n",
        "import pandas as pd\n",
        "import numpy as np\n",
        "import matplotlib.pyplot as plt\n",
        "from sklearn.metrics import mean_squared_error, r2_score\n",
        "from sklearn.tree import DecisionTreeRegressor, plot_tree\n",
        "from sklearn.linear_model import LinearRegression\n",
        "from sklearn.ensemble import RandomForestRegressor\n",
        "from sklearn.model_selection import RepeatedKFold, train_test_split"
      ],
      "execution_count": 0,
      "outputs": []
    },
    {
      "cell_type": "code",
      "metadata": {
        "scrolled": true,
        "id": "2Y1mRa385Yt6",
        "colab_type": "code",
        "colab": {
          "base_uri": "https://localhost:8080/",
          "height": 122
        },
        "outputId": "ea5464c3-8084-4f7f-9f41-277887e60410"
      },
      "source": [
        "from google.colab import drive\n",
        "drive.mount('/gdrive')"
      ],
      "execution_count": 2,
      "outputs": [
        {
          "output_type": "stream",
          "text": [
            "Go to this URL in a browser: https://accounts.google.com/o/oauth2/auth?client_id=947318989803-6bn6qk8qdgf4n4g3pfee6491hc0brc4i.apps.googleusercontent.com&redirect_uri=urn%3aietf%3awg%3aoauth%3a2.0%3aoob&response_type=code&scope=email%20https%3a%2f%2fwww.googleapis.com%2fauth%2fdocs.test%20https%3a%2f%2fwww.googleapis.com%2fauth%2fdrive%20https%3a%2f%2fwww.googleapis.com%2fauth%2fdrive.photos.readonly%20https%3a%2f%2fwww.googleapis.com%2fauth%2fpeopleapi.readonly\n",
            "\n",
            "Enter your authorization code:\n",
            "··········\n",
            "Mounted at /gdrive\n"
          ],
          "name": "stdout"
        }
      ]
    },
    {
      "cell_type": "code",
      "metadata": {
        "id": "4yKXAFUT5sdN",
        "colab_type": "code",
        "colab": {
          "base_uri": "https://localhost:8080/",
          "height": 436
        },
        "outputId": "cc2f034d-feae-46bb-9634-37eb3b0f52d5"
      },
      "source": [
        "df_wine = pd.read_csv('/gdrive/My Drive/Colab Notebooks/winequality-white.csv', sep=\";\", header=0)\n",
        "df_wine"
      ],
      "execution_count": 3,
      "outputs": [
        {
          "output_type": "execute_result",
          "data": {
            "text/html": [
              "<div>\n",
              "<style scoped>\n",
              "    .dataframe tbody tr th:only-of-type {\n",
              "        vertical-align: middle;\n",
              "    }\n",
              "\n",
              "    .dataframe tbody tr th {\n",
              "        vertical-align: top;\n",
              "    }\n",
              "\n",
              "    .dataframe thead th {\n",
              "        text-align: right;\n",
              "    }\n",
              "</style>\n",
              "<table border=\"1\" class=\"dataframe\">\n",
              "  <thead>\n",
              "    <tr style=\"text-align: right;\">\n",
              "      <th></th>\n",
              "      <th>fixed acidity</th>\n",
              "      <th>volatile acidity</th>\n",
              "      <th>citric acid</th>\n",
              "      <th>residual sugar</th>\n",
              "      <th>chlorides</th>\n",
              "      <th>free sulfur dioxide</th>\n",
              "      <th>total sulfur dioxide</th>\n",
              "      <th>density</th>\n",
              "      <th>pH</th>\n",
              "      <th>sulphates</th>\n",
              "      <th>alcohol</th>\n",
              "      <th>quality</th>\n",
              "    </tr>\n",
              "  </thead>\n",
              "  <tbody>\n",
              "    <tr>\n",
              "      <th>0</th>\n",
              "      <td>7.0</td>\n",
              "      <td>0.27</td>\n",
              "      <td>0.36</td>\n",
              "      <td>20.7</td>\n",
              "      <td>0.045</td>\n",
              "      <td>45.0</td>\n",
              "      <td>170.0</td>\n",
              "      <td>1.00100</td>\n",
              "      <td>3.00</td>\n",
              "      <td>0.45</td>\n",
              "      <td>8.8</td>\n",
              "      <td>6</td>\n",
              "    </tr>\n",
              "    <tr>\n",
              "      <th>1</th>\n",
              "      <td>6.3</td>\n",
              "      <td>0.30</td>\n",
              "      <td>0.34</td>\n",
              "      <td>1.6</td>\n",
              "      <td>0.049</td>\n",
              "      <td>14.0</td>\n",
              "      <td>132.0</td>\n",
              "      <td>0.99400</td>\n",
              "      <td>3.30</td>\n",
              "      <td>0.49</td>\n",
              "      <td>9.5</td>\n",
              "      <td>6</td>\n",
              "    </tr>\n",
              "    <tr>\n",
              "      <th>2</th>\n",
              "      <td>8.1</td>\n",
              "      <td>0.28</td>\n",
              "      <td>0.40</td>\n",
              "      <td>6.9</td>\n",
              "      <td>0.050</td>\n",
              "      <td>30.0</td>\n",
              "      <td>97.0</td>\n",
              "      <td>0.99510</td>\n",
              "      <td>3.26</td>\n",
              "      <td>0.44</td>\n",
              "      <td>10.1</td>\n",
              "      <td>6</td>\n",
              "    </tr>\n",
              "    <tr>\n",
              "      <th>3</th>\n",
              "      <td>7.2</td>\n",
              "      <td>0.23</td>\n",
              "      <td>0.32</td>\n",
              "      <td>8.5</td>\n",
              "      <td>0.058</td>\n",
              "      <td>47.0</td>\n",
              "      <td>186.0</td>\n",
              "      <td>0.99560</td>\n",
              "      <td>3.19</td>\n",
              "      <td>0.40</td>\n",
              "      <td>9.9</td>\n",
              "      <td>6</td>\n",
              "    </tr>\n",
              "    <tr>\n",
              "      <th>4</th>\n",
              "      <td>7.2</td>\n",
              "      <td>0.23</td>\n",
              "      <td>0.32</td>\n",
              "      <td>8.5</td>\n",
              "      <td>0.058</td>\n",
              "      <td>47.0</td>\n",
              "      <td>186.0</td>\n",
              "      <td>0.99560</td>\n",
              "      <td>3.19</td>\n",
              "      <td>0.40</td>\n",
              "      <td>9.9</td>\n",
              "      <td>6</td>\n",
              "    </tr>\n",
              "    <tr>\n",
              "      <th>...</th>\n",
              "      <td>...</td>\n",
              "      <td>...</td>\n",
              "      <td>...</td>\n",
              "      <td>...</td>\n",
              "      <td>...</td>\n",
              "      <td>...</td>\n",
              "      <td>...</td>\n",
              "      <td>...</td>\n",
              "      <td>...</td>\n",
              "      <td>...</td>\n",
              "      <td>...</td>\n",
              "      <td>...</td>\n",
              "    </tr>\n",
              "    <tr>\n",
              "      <th>4893</th>\n",
              "      <td>6.2</td>\n",
              "      <td>0.21</td>\n",
              "      <td>0.29</td>\n",
              "      <td>1.6</td>\n",
              "      <td>0.039</td>\n",
              "      <td>24.0</td>\n",
              "      <td>92.0</td>\n",
              "      <td>0.99114</td>\n",
              "      <td>3.27</td>\n",
              "      <td>0.50</td>\n",
              "      <td>11.2</td>\n",
              "      <td>6</td>\n",
              "    </tr>\n",
              "    <tr>\n",
              "      <th>4894</th>\n",
              "      <td>6.6</td>\n",
              "      <td>0.32</td>\n",
              "      <td>0.36</td>\n",
              "      <td>8.0</td>\n",
              "      <td>0.047</td>\n",
              "      <td>57.0</td>\n",
              "      <td>168.0</td>\n",
              "      <td>0.99490</td>\n",
              "      <td>3.15</td>\n",
              "      <td>0.46</td>\n",
              "      <td>9.6</td>\n",
              "      <td>5</td>\n",
              "    </tr>\n",
              "    <tr>\n",
              "      <th>4895</th>\n",
              "      <td>6.5</td>\n",
              "      <td>0.24</td>\n",
              "      <td>0.19</td>\n",
              "      <td>1.2</td>\n",
              "      <td>0.041</td>\n",
              "      <td>30.0</td>\n",
              "      <td>111.0</td>\n",
              "      <td>0.99254</td>\n",
              "      <td>2.99</td>\n",
              "      <td>0.46</td>\n",
              "      <td>9.4</td>\n",
              "      <td>6</td>\n",
              "    </tr>\n",
              "    <tr>\n",
              "      <th>4896</th>\n",
              "      <td>5.5</td>\n",
              "      <td>0.29</td>\n",
              "      <td>0.30</td>\n",
              "      <td>1.1</td>\n",
              "      <td>0.022</td>\n",
              "      <td>20.0</td>\n",
              "      <td>110.0</td>\n",
              "      <td>0.98869</td>\n",
              "      <td>3.34</td>\n",
              "      <td>0.38</td>\n",
              "      <td>12.8</td>\n",
              "      <td>7</td>\n",
              "    </tr>\n",
              "    <tr>\n",
              "      <th>4897</th>\n",
              "      <td>6.0</td>\n",
              "      <td>0.21</td>\n",
              "      <td>0.38</td>\n",
              "      <td>0.8</td>\n",
              "      <td>0.020</td>\n",
              "      <td>22.0</td>\n",
              "      <td>98.0</td>\n",
              "      <td>0.98941</td>\n",
              "      <td>3.26</td>\n",
              "      <td>0.32</td>\n",
              "      <td>11.8</td>\n",
              "      <td>6</td>\n",
              "    </tr>\n",
              "  </tbody>\n",
              "</table>\n",
              "<p>4898 rows × 12 columns</p>\n",
              "</div>"
            ],
            "text/plain": [
              "      fixed acidity  volatile acidity  citric acid  ...  sulphates  alcohol  quality\n",
              "0               7.0              0.27         0.36  ...       0.45      8.8        6\n",
              "1               6.3              0.30         0.34  ...       0.49      9.5        6\n",
              "2               8.1              0.28         0.40  ...       0.44     10.1        6\n",
              "3               7.2              0.23         0.32  ...       0.40      9.9        6\n",
              "4               7.2              0.23         0.32  ...       0.40      9.9        6\n",
              "...             ...               ...          ...  ...        ...      ...      ...\n",
              "4893            6.2              0.21         0.29  ...       0.50     11.2        6\n",
              "4894            6.6              0.32         0.36  ...       0.46      9.6        5\n",
              "4895            6.5              0.24         0.19  ...       0.46      9.4        6\n",
              "4896            5.5              0.29         0.30  ...       0.38     12.8        7\n",
              "4897            6.0              0.21         0.38  ...       0.32     11.8        6\n",
              "\n",
              "[4898 rows x 12 columns]"
            ]
          },
          "metadata": {
            "tags": []
          },
          "execution_count": 3
        }
      ]
    },
    {
      "cell_type": "code",
      "metadata": {
        "scrolled": true,
        "id": "NKX6-HOA5Yt-",
        "colab_type": "code",
        "colab": {
          "base_uri": "https://localhost:8080/",
          "height": 238
        },
        "outputId": "0bd67ab1-ea15-4c54-ad65-a5d16536ba06"
      },
      "source": [
        "# κενές τιμές\n",
        "df_wine.isnull().sum() "
      ],
      "execution_count": 4,
      "outputs": [
        {
          "output_type": "execute_result",
          "data": {
            "text/plain": [
              "fixed acidity           0\n",
              "volatile acidity        0\n",
              "citric acid             0\n",
              "residual sugar          0\n",
              "chlorides               0\n",
              "free sulfur dioxide     0\n",
              "total sulfur dioxide    0\n",
              "density                 0\n",
              "pH                      0\n",
              "sulphates               0\n",
              "alcohol                 0\n",
              "quality                 0\n",
              "dtype: int64"
            ]
          },
          "metadata": {
            "tags": []
          },
          "execution_count": 4
        }
      ]
    },
    {
      "cell_type": "markdown",
      "metadata": {
        "id": "k_0oCicb5YuA",
        "colab_type": "text"
      },
      "source": [
        "# 2. Προσθήκη τυχαίων διαστάσεων"
      ]
    },
    {
      "cell_type": "markdown",
      "metadata": {
        "id": "FYEPvWiZ5YuA",
        "colab_type": "text"
      },
      "source": [
        "Τώρα θα δοκιμάσουμε τι θα συμβεί αν προσθέσουμε τυχαίες διαστάσεις στο σύνολο δεδομένων μας. Αυτό το κάνουμε προσθέτοντας επιπλέον στήλες τυχαίων τιμών στο dataframe μας."
      ]
    },
    {
      "cell_type": "code",
      "metadata": {
        "id": "Y0P6bZyE5YuB",
        "colab_type": "code",
        "colab": {}
      },
      "source": [
        "#Δεδομένου ότι θα αλλάξουμε το dataframe μας, δημιουργούμε πρώτα ένα αντίγραφο, έτσι η αρχική μορφή του df_wine παραμένει όπως είναι\n",
        "df_wine_noise = df_wine.copy()\n",
        "\n",
        "# Δημιουργία τυχαίων δεδομένων (μέγεθος: όσο το μήκος του dataframe x, όσες διαστάσεις θέλουμε)\n",
        "random_data = np.random.randn(len(df_wine_noise), 5) #  μπορείτε να αλλάξετε τη δεύτερη τιμή, χρησιμοποιούμε 5 για τώρα\n",
        "\n",
        "# Μετατρέπουμε τα random data σε ένα df, για να καλέσουμε μετά το function 'df.join' \n",
        "random_data = pd.DataFrame(random_data)\n",
        "\n",
        "# Προσθήκη των δεδομένων που δημιουργήθηκαν με τυχαίες τιμές στο dataframe\n",
        "df_wine_noise = df_wine_noise.join(random_data)"
      ],
      "execution_count": 0,
      "outputs": []
    },
    {
      "cell_type": "markdown",
      "metadata": {
        "id": "CwLJFqYO5YuD",
        "colab_type": "text"
      },
      "source": [
        "Μπορούμε να δούμε τις επιπλέον στήλες στο dataframe:"
      ]
    },
    {
      "cell_type": "code",
      "metadata": {
        "id": "yUH4aT-c5YuE",
        "colab_type": "code",
        "colab": {
          "base_uri": "https://localhost:8080/",
          "height": 473
        },
        "outputId": "3e85c4ad-5eef-41fb-fe2b-74bee70bcca2"
      },
      "source": [
        "df_wine_noise"
      ],
      "execution_count": 6,
      "outputs": [
        {
          "output_type": "execute_result",
          "data": {
            "text/html": [
              "<div>\n",
              "<style scoped>\n",
              "    .dataframe tbody tr th:only-of-type {\n",
              "        vertical-align: middle;\n",
              "    }\n",
              "\n",
              "    .dataframe tbody tr th {\n",
              "        vertical-align: top;\n",
              "    }\n",
              "\n",
              "    .dataframe thead th {\n",
              "        text-align: right;\n",
              "    }\n",
              "</style>\n",
              "<table border=\"1\" class=\"dataframe\">\n",
              "  <thead>\n",
              "    <tr style=\"text-align: right;\">\n",
              "      <th></th>\n",
              "      <th>fixed acidity</th>\n",
              "      <th>volatile acidity</th>\n",
              "      <th>citric acid</th>\n",
              "      <th>residual sugar</th>\n",
              "      <th>chlorides</th>\n",
              "      <th>free sulfur dioxide</th>\n",
              "      <th>total sulfur dioxide</th>\n",
              "      <th>density</th>\n",
              "      <th>pH</th>\n",
              "      <th>sulphates</th>\n",
              "      <th>alcohol</th>\n",
              "      <th>quality</th>\n",
              "      <th>0</th>\n",
              "      <th>1</th>\n",
              "      <th>2</th>\n",
              "      <th>3</th>\n",
              "      <th>4</th>\n",
              "    </tr>\n",
              "  </thead>\n",
              "  <tbody>\n",
              "    <tr>\n",
              "      <th>0</th>\n",
              "      <td>7.0</td>\n",
              "      <td>0.27</td>\n",
              "      <td>0.36</td>\n",
              "      <td>20.7</td>\n",
              "      <td>0.045</td>\n",
              "      <td>45.0</td>\n",
              "      <td>170.0</td>\n",
              "      <td>1.00100</td>\n",
              "      <td>3.00</td>\n",
              "      <td>0.45</td>\n",
              "      <td>8.8</td>\n",
              "      <td>6</td>\n",
              "      <td>0.230135</td>\n",
              "      <td>0.454685</td>\n",
              "      <td>-0.241500</td>\n",
              "      <td>2.001299</td>\n",
              "      <td>0.223767</td>\n",
              "    </tr>\n",
              "    <tr>\n",
              "      <th>1</th>\n",
              "      <td>6.3</td>\n",
              "      <td>0.30</td>\n",
              "      <td>0.34</td>\n",
              "      <td>1.6</td>\n",
              "      <td>0.049</td>\n",
              "      <td>14.0</td>\n",
              "      <td>132.0</td>\n",
              "      <td>0.99400</td>\n",
              "      <td>3.30</td>\n",
              "      <td>0.49</td>\n",
              "      <td>9.5</td>\n",
              "      <td>6</td>\n",
              "      <td>1.498350</td>\n",
              "      <td>0.788594</td>\n",
              "      <td>-0.443910</td>\n",
              "      <td>-0.313426</td>\n",
              "      <td>0.558995</td>\n",
              "    </tr>\n",
              "    <tr>\n",
              "      <th>2</th>\n",
              "      <td>8.1</td>\n",
              "      <td>0.28</td>\n",
              "      <td>0.40</td>\n",
              "      <td>6.9</td>\n",
              "      <td>0.050</td>\n",
              "      <td>30.0</td>\n",
              "      <td>97.0</td>\n",
              "      <td>0.99510</td>\n",
              "      <td>3.26</td>\n",
              "      <td>0.44</td>\n",
              "      <td>10.1</td>\n",
              "      <td>6</td>\n",
              "      <td>-0.536965</td>\n",
              "      <td>0.409805</td>\n",
              "      <td>-0.549905</td>\n",
              "      <td>1.106321</td>\n",
              "      <td>0.868527</td>\n",
              "    </tr>\n",
              "    <tr>\n",
              "      <th>3</th>\n",
              "      <td>7.2</td>\n",
              "      <td>0.23</td>\n",
              "      <td>0.32</td>\n",
              "      <td>8.5</td>\n",
              "      <td>0.058</td>\n",
              "      <td>47.0</td>\n",
              "      <td>186.0</td>\n",
              "      <td>0.99560</td>\n",
              "      <td>3.19</td>\n",
              "      <td>0.40</td>\n",
              "      <td>9.9</td>\n",
              "      <td>6</td>\n",
              "      <td>1.417805</td>\n",
              "      <td>-1.214940</td>\n",
              "      <td>-0.598394</td>\n",
              "      <td>-0.955934</td>\n",
              "      <td>1.968815</td>\n",
              "    </tr>\n",
              "    <tr>\n",
              "      <th>4</th>\n",
              "      <td>7.2</td>\n",
              "      <td>0.23</td>\n",
              "      <td>0.32</td>\n",
              "      <td>8.5</td>\n",
              "      <td>0.058</td>\n",
              "      <td>47.0</td>\n",
              "      <td>186.0</td>\n",
              "      <td>0.99560</td>\n",
              "      <td>3.19</td>\n",
              "      <td>0.40</td>\n",
              "      <td>9.9</td>\n",
              "      <td>6</td>\n",
              "      <td>-0.112797</td>\n",
              "      <td>0.036462</td>\n",
              "      <td>0.532877</td>\n",
              "      <td>-0.209394</td>\n",
              "      <td>-2.060742</td>\n",
              "    </tr>\n",
              "    <tr>\n",
              "      <th>...</th>\n",
              "      <td>...</td>\n",
              "      <td>...</td>\n",
              "      <td>...</td>\n",
              "      <td>...</td>\n",
              "      <td>...</td>\n",
              "      <td>...</td>\n",
              "      <td>...</td>\n",
              "      <td>...</td>\n",
              "      <td>...</td>\n",
              "      <td>...</td>\n",
              "      <td>...</td>\n",
              "      <td>...</td>\n",
              "      <td>...</td>\n",
              "      <td>...</td>\n",
              "      <td>...</td>\n",
              "      <td>...</td>\n",
              "      <td>...</td>\n",
              "    </tr>\n",
              "    <tr>\n",
              "      <th>4893</th>\n",
              "      <td>6.2</td>\n",
              "      <td>0.21</td>\n",
              "      <td>0.29</td>\n",
              "      <td>1.6</td>\n",
              "      <td>0.039</td>\n",
              "      <td>24.0</td>\n",
              "      <td>92.0</td>\n",
              "      <td>0.99114</td>\n",
              "      <td>3.27</td>\n",
              "      <td>0.50</td>\n",
              "      <td>11.2</td>\n",
              "      <td>6</td>\n",
              "      <td>-0.912638</td>\n",
              "      <td>-0.510462</td>\n",
              "      <td>0.538021</td>\n",
              "      <td>-1.942175</td>\n",
              "      <td>-2.383410</td>\n",
              "    </tr>\n",
              "    <tr>\n",
              "      <th>4894</th>\n",
              "      <td>6.6</td>\n",
              "      <td>0.32</td>\n",
              "      <td>0.36</td>\n",
              "      <td>8.0</td>\n",
              "      <td>0.047</td>\n",
              "      <td>57.0</td>\n",
              "      <td>168.0</td>\n",
              "      <td>0.99490</td>\n",
              "      <td>3.15</td>\n",
              "      <td>0.46</td>\n",
              "      <td>9.6</td>\n",
              "      <td>5</td>\n",
              "      <td>1.122304</td>\n",
              "      <td>-2.592388</td>\n",
              "      <td>1.445659</td>\n",
              "      <td>-0.259886</td>\n",
              "      <td>0.453539</td>\n",
              "    </tr>\n",
              "    <tr>\n",
              "      <th>4895</th>\n",
              "      <td>6.5</td>\n",
              "      <td>0.24</td>\n",
              "      <td>0.19</td>\n",
              "      <td>1.2</td>\n",
              "      <td>0.041</td>\n",
              "      <td>30.0</td>\n",
              "      <td>111.0</td>\n",
              "      <td>0.99254</td>\n",
              "      <td>2.99</td>\n",
              "      <td>0.46</td>\n",
              "      <td>9.4</td>\n",
              "      <td>6</td>\n",
              "      <td>2.992858</td>\n",
              "      <td>0.072314</td>\n",
              "      <td>-0.875931</td>\n",
              "      <td>1.174879</td>\n",
              "      <td>0.424350</td>\n",
              "    </tr>\n",
              "    <tr>\n",
              "      <th>4896</th>\n",
              "      <td>5.5</td>\n",
              "      <td>0.29</td>\n",
              "      <td>0.30</td>\n",
              "      <td>1.1</td>\n",
              "      <td>0.022</td>\n",
              "      <td>20.0</td>\n",
              "      <td>110.0</td>\n",
              "      <td>0.98869</td>\n",
              "      <td>3.34</td>\n",
              "      <td>0.38</td>\n",
              "      <td>12.8</td>\n",
              "      <td>7</td>\n",
              "      <td>-0.287088</td>\n",
              "      <td>0.467642</td>\n",
              "      <td>0.239946</td>\n",
              "      <td>-0.776312</td>\n",
              "      <td>0.354962</td>\n",
              "    </tr>\n",
              "    <tr>\n",
              "      <th>4897</th>\n",
              "      <td>6.0</td>\n",
              "      <td>0.21</td>\n",
              "      <td>0.38</td>\n",
              "      <td>0.8</td>\n",
              "      <td>0.020</td>\n",
              "      <td>22.0</td>\n",
              "      <td>98.0</td>\n",
              "      <td>0.98941</td>\n",
              "      <td>3.26</td>\n",
              "      <td>0.32</td>\n",
              "      <td>11.8</td>\n",
              "      <td>6</td>\n",
              "      <td>-2.071559</td>\n",
              "      <td>1.388818</td>\n",
              "      <td>0.578357</td>\n",
              "      <td>-0.538754</td>\n",
              "      <td>0.149527</td>\n",
              "    </tr>\n",
              "  </tbody>\n",
              "</table>\n",
              "<p>4898 rows × 17 columns</p>\n",
              "</div>"
            ],
            "text/plain": [
              "      fixed acidity  volatile acidity  ...         3         4\n",
              "0               7.0              0.27  ...  2.001299  0.223767\n",
              "1               6.3              0.30  ... -0.313426  0.558995\n",
              "2               8.1              0.28  ...  1.106321  0.868527\n",
              "3               7.2              0.23  ... -0.955934  1.968815\n",
              "4               7.2              0.23  ... -0.209394 -2.060742\n",
              "...             ...               ...  ...       ...       ...\n",
              "4893            6.2              0.21  ... -1.942175 -2.383410\n",
              "4894            6.6              0.32  ... -0.259886  0.453539\n",
              "4895            6.5              0.24  ...  1.174879  0.424350\n",
              "4896            5.5              0.29  ... -0.776312  0.354962\n",
              "4897            6.0              0.21  ... -0.538754  0.149527\n",
              "\n",
              "[4898 rows x 17 columns]"
            ]
          },
          "metadata": {
            "tags": []
          },
          "execution_count": 6
        }
      ]
    },
    {
      "cell_type": "markdown",
      "metadata": {
        "id": "voytF_vf5YuG",
        "colab_type": "text"
      },
      "source": [
        "# 3. Δοκιμή"
      ]
    },
    {
      "cell_type": "markdown",
      "metadata": {
        "id": "DtPV_Mnz5YuG",
        "colab_type": "text"
      },
      "source": [
        "Αυτοματοποιούμε τη διαδικασία προσθήκης τυχαίων διαστάσεων στο σύνολο των δεδομένων μας και βλέπουμε πώς επηρεάζει τις προβλέψεις σε διαφορετικά μοντέλα. Χρησιμοποιούμε την ακόλουθη λίστα διαστάσεων για να προσθέσουμε: [0, 1, 2, 5, 10, 20, 50, 100, 200, 500]\n",
        "\n",
        "\n",
        "\n",
        "*Σε περίπτωση που αναρωτιέστε: στον κώδικα παρακάτω θέτουμε μια τυχαία κατάσταση (random state) πολλές φορές. Με αυτόν τον τρόπο τα ίδια τυχαία δεδομένα δημιουργούνται κάθε φορά. Αυτό μας βοηθά να συγκρίνουμε τα τρία μοντέλα, εφόσον όλα πήραν τα ίδια τυχαία δεδομένα με για είσοδο.*"
      ]
    },
    {
      "cell_type": "markdown",
      "metadata": {
        "id": "aygPFxD25YuH",
        "colab_type": "text"
      },
      "source": [
        "## 3.1 Γραμμική παλινδρόμηση\n",
        "\n",
        "Αυτοματοποιούμε τη διαδικασία προσθήκης τυχαίων διαστάσεων στο σύνολο των δεδομένων μας και βλέπουμε πώς επηρεάζει τις προβλέψεις με το μοντέλο γραμμικής παλινδρόμησης. Χρησιμοποιούμε την ακόλουθη λίστα διαστάσεων για να προσθέσουμε: \n",
        "[0, 1, 2, 5, 10, 20, 50, 100, 200, 500]"
      ]
    },
    {
      "cell_type": "code",
      "metadata": {
        "id": "WUC-uhYf5YuH",
        "colab_type": "code",
        "colab": {}
      },
      "source": [
        "# Προετοιμασία κενής λίστας (συμπληρώνεται με τους μέσους όρους των αποτελέσματων στη συνέχεια) \n",
        "ls_r2_test_lin_regr = []\n",
        "ls_r2_train_lin_regr = []\n",
        "\n",
        "# δοκιμή διαφορετικού αριθμού τυχαίων διαστάσεων\n",
        "ls_dim = [0, 1, 2, 5, 10, 20, 50, 100, 200, 500]\n",
        "\n",
        "# Λούπα πάνω από τη λίστα των τυχαίων διαστάσεων\n",
        "for dimension in ls_dim:\n",
        "    # Δημιουργία αντιγράφου του πρωτοτύπου df_wine\n",
        "    df_wine_noise = df_wine.copy()\n",
        "    # κατασκευάζει τις τυχαίες διαστάσεις (μέγεθος: length of dataframe x current dimensions)\n",
        "    # Αυτός ο κώδικας είναι απαραίτητος για να δημιουργείτε πάντα τα ίδια τυχαία δεδομένα\n",
        "    random_data = np.random.RandomState(0).randn(dimension,len(df_wine_noise)).T\n",
        "    # Μετατρέψτε random_data σε dataframe\n",
        "    random_data = pd.DataFrame(random_data)\n",
        "    # Προσθέστε τα δεδομένα που δημιουργήθηκαν με τυχαίες τιμές στο dataframe\n",
        "    df_wine_noise = df_wine_noise.join(random_data)\n",
        "    # Δημιουργία Regressor \n",
        "    lin_regr = LinearRegression()\n",
        "    # Ορισμός X και y σε κάθε λούπα, επειδή έχουμε ένα νέο dataframe (με τυχαίες στήλες) σε κάθε λούπα\n",
        "    X = df_wine_noise.drop(columns='quality')\n",
        "    y = df_wine_noise.quality\n",
        "    # 1. Split data σε training και test set\n",
        "    X_train, X_test, y_train, y_test = train_test_split(X,y, random_state=0)\n",
        "    # 2. Fitting το Regression\n",
        "    lin_regr.fit(X_train, y_train)\n",
        "    # 3. Test τον regressor με τα test data (και τα training data για να τα συγκρίνουμε)\n",
        "    y_pred_test = lin_regr.predict(X_test)\n",
        "    y_pred_train = lin_regr.predict(X_train)\n",
        "    # 4. υπολογισμός μετρικών (π.χ. r2)\n",
        "    r2_test = r2_score(y_test, y_pred_test)\n",
        "    r2_train = r2_score(y_train, y_pred_train)\n",
        "    # 5. Προσάρτηση του score σε λίστα\n",
        "    ls_r2_test_lin_regr.append(r2_test)\n",
        "    ls_r2_train_lin_regr.append(r2_train)"
      ],
      "execution_count": 0,
      "outputs": []
    },
    {
      "cell_type": "code",
      "metadata": {
        "id": "yNqMrISe5YuK",
        "colab_type": "code",
        "colab": {
          "base_uri": "https://localhost:8080/",
          "height": 295
        },
        "outputId": "d32204b3-bc15-4277-e871-a41486ee40a4"
      },
      "source": [
        "# plot των τιμών R2 στα διαφορετικά depths\n",
        "plt.plot(ls_dim, ls_r2_train_lin_regr, label=\"Training data\")\n",
        "plt.plot(ls_dim, ls_r2_test_lin_regr, label=\"Testing data\")\n",
        "plt.title('Linear Regression')\n",
        "plt.xlabel('Number of random dimensions')\n",
        "plt.ylabel('R²')\n",
        "plt.legend()\n",
        "plt.show()"
      ],
      "execution_count": 14,
      "outputs": [
        {
          "output_type": "display_data",
          "data": {
            "image/png": "[encoded data removed]",
            "text/plain": [
              "<Figure size 432x288 with 1 Axes>"
            ]
          },
          "metadata": {
            "tags": [],
            "needs_background": "light"
          }
        }
      ]
    },
    {
      "cell_type": "markdown",
      "metadata": {
        "id": "zXDpRxPF5YuM",
        "colab_type": "text"
      },
      "source": [
        "## 3.2 Δέντρο αποφάσεων\n",
        "\n",
        "Αυτοματοποιούμε τη διαδικασία προσθήκης τυχαίων διαστάσεων στο σύνολο των δεδομένων μας και βλέπουμε πώς επηρεάζει τις προβλέψεις με το μοντέλο του δέντρου αποφάσεων. Χρησιμοποιούμε την ακόλουθη λίστα διαστάσεων για να προσθέσουμε: \n",
        "[0, 1, 2, 5, 10, 20, 50, 100, 200, 500]"
      ]
    },
    {
      "cell_type": "code",
      "metadata": {
        "id": "KixbuFYe5YuM",
        "colab_type": "code",
        "colab": {}
      },
      "source": [
        "# Προετοιμασία κενής λίστας (συμπληρώνεται με τους μέσους όρους των αποτελέσματων στη συνέχεια) \n",
        "ls_r2_test_dec_tree = []\n",
        "ls_r2_train_dec_tree = []\n",
        "\n",
        "# δοκιμή διαφορετικού αριθμού τυχαίων διαστάσεων\n",
        "ls_dim = [0, 1, 2, 5, 10, 20, 50, 100, 200, 500]\n",
        "\n",
        "# Λούπα πάνω από τη λίστα των τυχαίων διαστάσεων\n",
        "for dimension in ls_dim:\n",
        "    # Δημιουργία αντιγράφου του πρωτοτύπου df_wine\n",
        "    df_wine_noise = df_wine.copy()\n",
        "    # κατασκευάζει τις τυχαίες διαστάσεις (μέγεθος: length of dataframe x current dimensions)\n",
        "    # Αυτός ο κώδικας είναι απαραίτητος για να δημιουργείτε πάντα τα ίδια τυχαία δεδομένα\n",
        "    random_data = np.random.RandomState(0).randn(dimension,len(df_wine_noise)).T\n",
        "    # Μετατρέψτε random_data σε dataframe\n",
        "    random_data = pd.DataFrame(random_data)\n",
        "    # Προσθέστε τα δεδομένα που δημιουργήθηκαν με τυχαίες τιμές στο dataframe\n",
        "    df_wine_noise = df_wine_noise.join(random_data)\n",
        "    # Δημιουργία του Regressor, με max_depth=6, αφού στην άσκηση 6 αυτό ήταν το βέλτιστο\n",
        "    dec_tree = DecisionTreeRegressor(max_depth=6)\n",
        "    # Ορισμός X και y σε κάθε λούπα, επειδή έχουμε ένα νέο dataframe (με τυχαίες στήλες) σε κάθε λούπα\n",
        "    X = df_wine_noise.drop(columns='quality')\n",
        "    y = df_wine_noise.quality\n",
        "    # 1. Split data σε training και test set\n",
        "    X_train, X_test, y_train, y_test = train_test_split(X,y, random_state=0)\n",
        "    # 2. Fitting το Regression\n",
        "    dec_tree.fit(X_train, y_train)\n",
        "    # 3. Test τον regressor με τα test data (και τα training data για να τα συγκρίνουμε)\n",
        "    y_pred_test = dec_tree.predict(X_test)\n",
        "    y_pred_train = dec_tree.predict(X_train)\n",
        "    # 4. υπολογισμός μετρικών (π.χ. r2)\n",
        "    r2_test = r2_score(y_test, y_pred_test)\n",
        "    r2_train = r2_score(y_train, y_pred_train)\n",
        "    # 5. Προσάρτηση του score σε λίστα\n",
        "    ls_r2_test_dec_tree.append(r2_test)\n",
        "    ls_r2_train_dec_tree.append(r2_train)"
      ],
      "execution_count": 0,
      "outputs": []
    },
    {
      "cell_type": "code",
      "metadata": {
        "id": "k7p1FV6h5YuP",
        "colab_type": "code",
        "colab": {
          "base_uri": "https://localhost:8080/",
          "height": 295
        },
        "outputId": "5c9a44e4-4d89-474a-eee0-15f136715432"
      },
      "source": [
        "# plot των τιμών R2 στα διαφορετικά depths\n",
        "plt.plot(ls_dim, ls_r2_train_dec_tree, label=\"Training data\")\n",
        "plt.plot(ls_dim, ls_r2_test_dec_tree, label=\"Testing data\")\n",
        "plt.title('Decision Tree')\n",
        "plt.xlabel('Number of random dimensions')\n",
        "plt.ylabel('R²')\n",
        "plt.legend()\n",
        "plt.show()"
      ],
      "execution_count": 16,
      "outputs": [
        {
          "output_type": "display_data",
          "data": {
            "image/png": "[encoded data removed]",
            "text/plain": [
              "<Figure size 432x288 with 1 Axes>"
            ]
          },
          "metadata": {
            "tags": [],
            "needs_background": "light"
          }
        }
      ]
    },
    {
      "cell_type": "markdown",
      "metadata": {
        "id": "2w1kY0d25YuR",
        "colab_type": "text"
      },
      "source": [
        "## 3.3 Τυχαίο Δάσος\n",
        "Αυτοματοποιούμε τη διαδικασία προσθήκης τυχαίων διαστάσεων στο σύνολο των δεδομένων μας και βλέπουμε πώς επηρεάζει τις προβλέψεις με το μοντέλο του τυχαίου δάσους. Χρησιμοποιούμε την ακόλουθη λίστα διαστάσεων για να προσθέσουμε: \n",
        "[0, 1, 2, 5, 10, 20, 50, 100, 200, 500]"
      ]
    },
    {
      "cell_type": "code",
      "metadata": {
        "id": "Q2mqGt2G5YuS",
        "colab_type": "code",
        "colab": {}
      },
      "source": [
        "# Προετοιμασία κενής λίστας (συμπληρώνεται με τους μέσους όρους των αποτελέσματων στη συνέχεια)  \n",
        "ls_r2_test_rf_regr = []\n",
        "ls_r2_train_rf_regr = []\n",
        "\n",
        "# δοκιμή διαφορετικού αριθμού τυχαίων διαστάσεων\n",
        "ls_dim = [0, 1, 2, 5, 10, 20, 50, 100, 200, 500] \n",
        "\n",
        "# Λούπα πάνω από τη λίστα των τυχαίων διαστάσεων\n",
        "for dimension in ls_dim:\n",
        "    # Δημιουργία αντιγράφου του πρωτοτύπου df_wine\n",
        "    df_wine_noise = df_wine.copy()\n",
        "    # κατασκευάζει τις τυχαίες διαστάσεις (μέγεθος: length of dataframe x current dimensions)\n",
        "    # Αυτός ο κώδικας είναι απαραίτητος για να δημιουργείτε πάντα τα ίδια τυχαία δεδομένα\n",
        "    random_data = np.random.RandomState(0).randn(dimension,len(df_wine_noise)).T\n",
        "    # Μετατρέψτε random_data σε dataframe\n",
        "    random_data = pd.DataFrame(random_data)\n",
        "    # Προσθέστε τα δεδομένα που δημιουργήθηκαν με τυχαίες τιμές στο dataframe\n",
        "    df_wine_noise = df_wine_noise.join(random_data)\n",
        "    # Δημιουργία του Regressor, περιορίζει τα n_estimators μόνο για τη μείωση του χρόνου υπολογισμού\n",
        "    rf_regr = RandomForestRegressor(n_estimators=20)\n",
        "    # Ορισμός X και y σε κάθε λούπα, επειδή έχουμε ένα νέο dataframe (με τυχαίες στήλες) σε κάθε λούπα\n",
        "    X = df_wine_noise.drop(columns='quality')\n",
        "    y = df_wine_noise.quality\n",
        "    # 1. Split data σε training και test set\n",
        "    X_train, X_test, y_train, y_test = train_test_split(X,y, random_state=0)\n",
        "    # 2. Fitting το Regression\n",
        "    rf_regr.fit(X_train, y_train)\n",
        "    # 3. Test τον regressor με τα test data (και τα training data για να τα συγκρίνουμε)\n",
        "    y_pred_test = rf_regr.predict(X_test)\n",
        "    y_pred_train = rf_regr.predict(X_train)\n",
        "    # 4. Yπολογισμός μετρικών (π.χ. r2)\n",
        "    r2_test = r2_score(y_test, y_pred_test)\n",
        "    r2_train = r2_score(y_train, y_pred_train)\n",
        "    # 5. Προσάρτηση του score σε λίστα\n",
        "    ls_r2_test_rf_regr.append(r2_test)\n",
        "    ls_r2_train_rf_regr.append(r2_train)"
      ],
      "execution_count": 0,
      "outputs": []
    },
    {
      "cell_type": "code",
      "metadata": {
        "scrolled": false,
        "id": "FpF8_jAS5YuU",
        "colab_type": "code",
        "colab": {
          "base_uri": "https://localhost:8080/",
          "height": 295
        },
        "outputId": "cf131a10-4c0a-4efc-c913-a5bf44eded62"
      },
      "source": [
        "# plot των τιμών R2 στα διαφορετικά depths\n",
        "plt.plot(ls_dim, ls_r2_train_rf_regr, label=\"Training data\")\n",
        "plt.plot(ls_dim, ls_r2_test_rf_regr, label=\"Testing data\")\n",
        "plt.title('Random Forest')\n",
        "plt.xlabel('Number of random dimensions')\n",
        "plt.ylabel('R²')\n",
        "plt.legend()\n",
        "plt.show()"
      ],
      "execution_count": 18,
      "outputs": [
        {
          "output_type": "display_data",
          "data": {
            "image/png": "[encoded data removed]",
            "text/plain": [
              "<Figure size 432x288 with 1 Axes>"
            ]
          },
          "metadata": {
            "tags": [],
            "needs_background": "light"
          }
        }
      ]
    },
    {
      "cell_type": "markdown",
      "metadata": {
        "id": "ILQhox8X5YuW",
        "colab_type": "text"
      },
      "source": [
        "Τα αποτελέσματα δείχνουν ότι οι διάστασεις εισόδου που δεν φέρουν σημαντικές πληροφορίες (μόνο τυχαία δεδομένα) θα επιδεινώσει τα αποτελέσματα των προβλέψεών μας. Βλέπουμε επίσης ότι ορισμένες μέθοδοι είναι πιο ευαίσθητες από άλλες. Δηλαδή, η πρόβλεψη του δέντρου αποφάσεων πέφτει πολύ γρήγορα με τον αριθμό των διαστάσεις εισόδου που δεν φέρουν κανένα νόημα, ενώ η γραμμική παλινδρόμηση είναι πιο ανθεκτική και πέφτει πιο αργά. Ωστόσο, και οι δύο μέθοδοι φτάνουν σε 0.15 R² με 500 τυχαίες διαστάσεις. Το τυχαίο δάσος αποδεικνύεται ως η πιο ανθεκτική (robust) μέθοδος. Ακόμη και με 500 τυχαίες διαστάσεις εισόδου, η μέθοδος μπορεί να επιτύχει περίπου 0,25 R²."
      ]
    },
    {
      "cell_type": "markdown",
      "metadata": {
        "id": "LlubhVq25YuX",
        "colab_type": "text"
      },
      "source": [
        "# 4. Άσκηση\n",
        "\n",
        "\n",
        "Για την επόμενη φορά θα έχετε δύο ασκήσεις. Μπορείτε να τις λύσετε **σε αυτό το notebook**, δεν χρειάζεται να δημιουργήσετε ένα νέο.\n",
        "\n",
        " - Προσθέστε 1000 και περισσότερες διαστάσεις και στα τρία μοντέλα και εκτελέστε τα. \n",
        "\n",
        " - Δημιουργήστε ένα νέο plot με τα αποτελέσματα (μόνο τα testing data χρειάζονται) και των τριών διαφορετικών μοντέλων στο ίδιο γράφημα. Βοήθεια: Ο κώδικας είναι ακριβώς ο ίδιος με επάνω, οπότε πρακτικά έχετε ήδη έτοιμα τα  R² values και σωσμένα σε λίστες. Δεν χρειάζεται να υπολογίζετε νέες τιμές για το plot. Γράψτε μια παράγραφο με τα αποτελέσματά σας."
      ]
    },
    {
      "cell_type": "code",
      "metadata": {
        "id": "yWHxR5e58BZB",
        "colab_type": "code",
        "colab": {}
      },
      "source": [
        ""
      ],
      "execution_count": 0,
      "outputs": []
    }
  ]
}