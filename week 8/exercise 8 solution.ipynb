{
 "cells": [
  {
   "cell_type": "markdown",
   "metadata": {},
   "source": [
    "# Solution exercise 8 - Curse of dimensionality "
   ]
  },
  {
   "cell_type": "markdown",
   "metadata": {},
   "source": [
    "##  Preparing the data"
   ]
  },
  {
   "cell_type": "code",
   "execution_count": 2,
   "metadata": {},
   "outputs": [],
   "source": [
    "# Import packages\n",
    "import pandas as pd\n",
    "import numpy as np\n",
    "import matplotlib.pyplot as plt\n",
    "from sklearn.metrics import mean_squared_error, r2_score\n",
    "from sklearn.tree import DecisionTreeRegressor, plot_tree\n",
    "from sklearn.linear_model import LinearRegression\n",
    "from sklearn.ensemble import RandomForestRegressor\n",
    "from sklearn.model_selection import RepeatedKFold, train_test_split"
   ]
  },
  {
   "cell_type": "code",
   "execution_count": 3,
   "metadata": {
    "scrolled": true
   },
   "outputs": [],
   "source": [
    "# Import data\n",
    "df_wine = pd.read_csv('winequality-white.csv', sep=\";\", header=0)"
   ]
  },
  {
   "cell_type": "markdown",
   "metadata": {},
   "source": [
    "##  Linear Regression"
   ]
  },
  {
   "cell_type": "code",
   "execution_count": 8,
   "metadata": {},
   "outputs": [],
   "source": [
    "# Initialize empty list (to be filled with average results afterwards) \n",
    "ls_r2_test_lin_regr = []\n",
    "ls_r2_train_lin_regr = []\n",
    "\n",
    "# trying different number of random dimensions\n",
    "ls_dim = [0, 1, 2, 5, 10, 20, 50, 100, 200, 500, 1000]\n",
    "\n",
    "# Loop over list of random dimensions\n",
    "for dimension in ls_dim:\n",
    "    # Create copy of the original df_wine\n",
    "    df_wine_noise = df_wine.copy()\n",
    "    # Create random data (size: length of dataframe x current dimensions)\n",
    "    # This code is needed to always create the same random data\n",
    "    random_data = np.random.RandomState(0).randn(dimension,len(df_wine_noise)).T\n",
    "    # Turn random_data into a dataframe\n",
    "    random_data = pd.DataFrame(random_data)\n",
    "    # Add the created data with random values to the dataframe\n",
    "    df_wine_noise = df_wine_noise.join(random_data)\n",
    "    # Instantiate Regressor \n",
    "    lin_regr = LinearRegression()\n",
    "    # Define X and y in every loop, because we have a new dataframe (with random columns) in every loop\n",
    "    X = df_wine_noise.drop(columns='quality')\n",
    "    y = df_wine_noise.quality\n",
    "    # 1. Split data into training and test set\n",
    "    X_train, X_test, y_train, y_test = train_test_split(X,y, random_state=0)\n",
    "    # 2. Fitting the Regression\n",
    "    lin_regr.fit(X_train, y_train)\n",
    "    # 3. Test regressor with test data (and training data to compare them)\n",
    "    y_pred_test = lin_regr.predict(X_test)\n",
    "    y_pred_train = lin_regr.predict(X_train)\n",
    "    # 4. Calc metric (e.g. r2)\n",
    "    r2_test = r2_score(y_test, y_pred_test)\n",
    "    r2_train = r2_score(y_train, y_pred_train)\n",
    "    # 5. Append score to list\n",
    "    ls_r2_test_lin_regr.append(r2_test)\n",
    "    ls_r2_train_lin_regr.append(r2_train)"
   ]
  },
  {
   "cell_type": "markdown",
   "metadata": {},
   "source": [
    "## Decision Tree"
   ]
  },
  {
   "cell_type": "code",
   "execution_count": 9,
   "metadata": {},
   "outputs": [],
   "source": [
    "# Initialize empty list (to be filled with average results afterwards) \n",
    "ls_r2_test_dec_tree = []\n",
    "ls_r2_train_dec_tree = []\n",
    "\n",
    "# trying different number of random dimensions\n",
    "ls_dim = [0, 1, 2, 5, 10, 20, 50, 100, 200, 500, 1000]\n",
    "\n",
    "# Loop over list of random dimensions\n",
    "for dimension in ls_dim:\n",
    "    # Create copy of the original df_wine\n",
    "    df_wine_noise = df_wine.copy()\n",
    "    # Create random data (size: length of dataframe x current dimensions)\n",
    "    # This code is needed to always create the same random data\n",
    "    random_data = np.random.RandomState(0).randn(dimension,len(df_wine_noise)).T\n",
    "    # Turn random_data into a dataframe\n",
    "    random_data = pd.DataFrame(random_data)\n",
    "    # Add the created data with random values to the dataframe\n",
    "    df_wine_noise = df_wine_noise.join(random_data)\n",
    "    # Instantiate Regressor, using max_depth=6, since we already found out in exercise 6 that it is the best setting\n",
    "    dec_tree = DecisionTreeRegressor(max_depth=6)\n",
    "    # Define X and y in every loop, because we have a new dataframe (with random columns) in every loop\n",
    "    X = df_wine_noise.drop(columns='quality')\n",
    "    y = df_wine_noise.quality\n",
    "    # 1. Split data into training and test set\n",
    "    X_train, X_test, y_train, y_test = train_test_split(X,y, random_state=0)\n",
    "    # 2. Fitting the Regression\n",
    "    dec_tree.fit(X_train, y_train)\n",
    "    # 3. Test regressor with test data (and training data to compare them)\n",
    "    y_pred_test = dec_tree.predict(X_test)\n",
    "    y_pred_train = dec_tree.predict(X_train)\n",
    "    # 4. Calc metric (e.g. r2)\n",
    "    r2_test = r2_score(y_test, y_pred_test)\n",
    "    r2_train = r2_score(y_train, y_pred_train)\n",
    "    # 5. Append score to list\n",
    "    ls_r2_test_dec_tree.append(r2_test)\n",
    "    ls_r2_train_dec_tree.append(r2_train)"
   ]
  },
  {
   "cell_type": "markdown",
   "metadata": {},
   "source": [
    "## Random Forest"
   ]
  },
  {
   "cell_type": "code",
   "execution_count": 10,
   "metadata": {},
   "outputs": [],
   "source": [
    "# Initialize empty list (to be filled with average results afterwards) \n",
    "ls_r2_test_rf_regr = []\n",
    "ls_r2_train_rf_regr = []\n",
    "\n",
    "# trying different number of random dimensions\n",
    "ls_dim = [0, 1, 2, 5, 10, 20, 50, 100, 200, 500, 1000] \n",
    "\n",
    "# Loop over list of random dimensions\n",
    "for dimension in ls_dim:\n",
    "    # Create copy of the original df_wine\n",
    "    df_wine_noise = df_wine.copy()\n",
    "    # Create random data (size: length of dataframe x current dimensions)\n",
    "    # This code is needed to always create the same random data\n",
    "    random_data = np.random.RandomState(0).randn(dimension,len(df_wine_noise)).T\n",
    "    # Turn random_data into a dataframe\n",
    "    random_data = pd.DataFrame(random_data)\n",
    "    # Add the created data with random values to the dataframe\n",
    "    df_wine_noise = df_wine_noise.join(random_data)\n",
    "    # Instantiate Regressor, restricting n_estimators only to reduce computation time\n",
    "    rf_regr = RandomForestRegressor(n_estimators=20)\n",
    "    # Define X and y in every loop, because we have a new dataframe (with random columns) in every loop\n",
    "    X = df_wine_noise.drop(columns='quality')\n",
    "    y = df_wine_noise.quality\n",
    "    # 1. Split data into training and test set\n",
    "    X_train, X_test, y_train, y_test = train_test_split(X,y, random_state=0)\n",
    "    # 2. Fitting the Regression\n",
    "    rf_regr.fit(X_train, y_train)\n",
    "    # 3. Test regressor with test data (and training data to compare them)\n",
    "    y_pred_test = rf_regr.predict(X_test)\n",
    "    y_pred_train = rf_regr.predict(X_train)\n",
    "    # 4. Calc metric (e.g. r2)\n",
    "    r2_test = r2_score(y_test, y_pred_test)\n",
    "    r2_train = r2_score(y_train, y_pred_train)\n",
    "    # 5. Append score to list\n",
    "    ls_r2_test_rf_regr.append(r2_test)\n",
    "    ls_r2_train_rf_regr.append(r2_train)"
   ]
  },
  {
   "cell_type": "markdown",
   "metadata": {},
   "source": [
    "# Exercise\n",
    "\n",
    "Here are two extra exercises. You can **solve them in this notebook**, no need to create a new one.\n",
    "\n",
    " - Add 1000 and more dimensions to all of the three models and run them. \n",
    "\n",
    " - Create a new plot with the outcomes (only testing data necessary) of all three different models in the same graph. Hint: After the first part of this exercise, you already computed all R² values and saved them to lists. You do not need to compute any new values for the plot."
   ]
  },
  {
   "cell_type": "code",
   "execution_count": 11,
   "metadata": {
    "scrolled": false
   },
   "outputs": [
    {
     "data": {
      "image/png": "[encoded data removed]",
      "text/plain": [
       "<Figure size 432x288 with 1 Axes>"
      ]
     },
     "metadata": {
      "needs_background": "light"
     },
     "output_type": "display_data"
    }
   ],
   "source": [
    "# plot of R2 values over depths\n",
    "plt.plot(ls_dim, ls_r2_test_lin_regr, label=\"Linear regression\")\n",
    "plt.plot(ls_dim, ls_r2_test_dec_tree, label=\"Decision Tree\")\n",
    "plt.plot(ls_dim, ls_r2_test_rf_regr, label=\"Random Forest\")\n",
    "plt.title('Comparing Models')\n",
    "plt.xlabel('Number of random dimensions')\n",
    "plt.ylabel('R²')\n",
    "plt.legend()\n",
    "plt.show()"
   ]
  },
  {
   "cell_type": "markdown",
   "metadata": {},
   "source": [
    "**The R² Score (of the testing set) of a linear regression decreases continuously as we add more dimensions. R² is almost at zero, when 1000 extra dimensions are added.**"
   ]
  },
  {
   "cell_type": "markdown",
   "metadata": {},
   "source": [
    "**The R² Score (of the testing set) of a decision tree decreases as we add more dimensions. It drops faster, but then the curve flattens out at an R² of approximately 0.15, when 200 dimensions or more are added.**"
   ]
  },
  {
   "cell_type": "markdown",
   "metadata": {},
   "source": [
    "**The R² Score (of the testing set) of a random forest behaves similar to the one of the decision tree, which is not surprising as they are very similar. The random forest just makes better predictions than a single decision tree. It is more robust to the curse of dimensionality.**"
   ]
  }
 ],
 "metadata": {
  "kernelspec": {
   "display_name": "Python 3",
   "language": "python",
   "name": "python3"
  },
  "language_info": {
   "codemirror_mode": {
    "name": "ipython",
    "version": 3
   },
   "file_extension": ".py",
   "mimetype": "text/x-python",
   "name": "python",
   "nbconvert_exporter": "python",
   "pygments_lexer": "ipython3",
   "version": "3.7.7"
  }
 },
 "nbformat": 4,
 "nbformat_minor": 2
}
