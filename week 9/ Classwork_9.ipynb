{
 "cells": [
  {
   "cell_type": "markdown",
   "metadata": {},
   "source": [
    "# Eρμηνεία του μοντέλου\n",
    "\n",
    "Η άσκηση αυτή επικεντρώνεται στην ερμηνεία του μοντέλου. Στο πλαίσιο αυτό, η ερμηνεία του μοντέλου σημαίνει η συμβολή των επιμέρους χαρακτηριστικών στο αποτέλεσμα της πρόβλεψης. \n",
    "\n",
    " Επιπλέον υλικό:\n",
    "\n",
    "- https://machinelearningmastery.com/calculate-feature-importance-with-python/\n",
    "\n",
    "- https://realpython.com/linear-regression-in-python/\n",
    "\n",
    "- https://pythonprogramming.net/regression-introduction-machine-learning-tutorial/\n",
    "\n",
    "- https://www.analyticsvidhya.com/blog/2020/04/feature-scaling-machine-learning-normalization-standardization/\n",
    "\n",
    "- https://christophm.github.io/interpretable-ml-book/"
   ]
  },
  {
   "cell_type": "code",
   "execution_count": 1,
   "metadata": {},
   "outputs": [],
   "source": [
    "import pandas as pd\n",
    "import numpy as np\n",
    "import matplotlib.pyplot as plt\n",
    "from sklearn.metrics import mean_squared_error, r2_score\n",
    "from sklearn.tree import DecisionTreeRegressor, plot_tree\n",
    "from sklearn.linear_model import LinearRegression\n",
    "from sklearn.ensemble import RandomForestRegressor\n",
    "from sklearn.model_selection import RepeatedKFold, train_test_split"
   ]
  },
  {
   "cell_type": "markdown",
   "metadata": {},
   "source": [
    "## Προετοιμασία των δεδομένων\n",
    "\n",
    "Χρησιμοποιούμε ξανά το σύνολο των δεδομένων ποιότητας κρασιού. Ως συνήθως, προσπαθούμε να προβλέψουμε την ποιότητα του κρασιού από μερικές μετρικές κρασιού, π.χ. υπολειμματική ζάχαρη, κιτρικό οξύ, κλπ. Αυτή τη φορά, ωστόσο, ο τελικός στόχος είναι να κατανοήσουμε ποια από τα χαρακτηριστικά είναι σημαντικά για το αποτέλεσμα της πρόβλεψης."
   ]
  },
  {
   "cell_type": "code",
   "execution_count": 3,
   "metadata": {},
   "outputs": [
    {
     "data": {
      "text/html": [
       "<div>\n",
       "<style scoped>\n",
       "    .dataframe tbody tr th:only-of-type {\n",
       "        vertical-align: middle;\n",
       "    }\n",
       "\n",
       "    .dataframe tbody tr th {\n",
       "        vertical-align: top;\n",
       "    }\n",
       "\n",
       "    .dataframe thead th {\n",
       "        text-align: right;\n",
       "    }\n",
       "</style>\n",
       "<table border=\"1\" class=\"dataframe\">\n",
       "  <thead>\n",
       "    <tr style=\"text-align: right;\">\n",
       "      <th></th>\n",
       "      <th>fixed acidity</th>\n",
       "      <th>volatile acidity</th>\n",
       "      <th>citric acid</th>\n",
       "      <th>residual sugar</th>\n",
       "      <th>chlorides</th>\n",
       "      <th>free sulfur dioxide</th>\n",
       "      <th>total sulfur dioxide</th>\n",
       "      <th>density</th>\n",
       "      <th>pH</th>\n",
       "      <th>sulphates</th>\n",
       "      <th>alcohol</th>\n",
       "      <th>quality</th>\n",
       "    </tr>\n",
       "  </thead>\n",
       "  <tbody>\n",
       "    <tr>\n",
       "      <th>0</th>\n",
       "      <td>7.0</td>\n",
       "      <td>0.27</td>\n",
       "      <td>0.36</td>\n",
       "      <td>20.7</td>\n",
       "      <td>0.045</td>\n",
       "      <td>45.0</td>\n",
       "      <td>170.0</td>\n",
       "      <td>1.0010</td>\n",
       "      <td>3.00</td>\n",
       "      <td>0.45</td>\n",
       "      <td>8.8</td>\n",
       "      <td>6</td>\n",
       "    </tr>\n",
       "    <tr>\n",
       "      <th>1</th>\n",
       "      <td>6.3</td>\n",
       "      <td>0.30</td>\n",
       "      <td>0.34</td>\n",
       "      <td>1.6</td>\n",
       "      <td>0.049</td>\n",
       "      <td>14.0</td>\n",
       "      <td>132.0</td>\n",
       "      <td>0.9940</td>\n",
       "      <td>3.30</td>\n",
       "      <td>0.49</td>\n",
       "      <td>9.5</td>\n",
       "      <td>6</td>\n",
       "    </tr>\n",
       "    <tr>\n",
       "      <th>2</th>\n",
       "      <td>8.1</td>\n",
       "      <td>0.28</td>\n",
       "      <td>0.40</td>\n",
       "      <td>6.9</td>\n",
       "      <td>0.050</td>\n",
       "      <td>30.0</td>\n",
       "      <td>97.0</td>\n",
       "      <td>0.9951</td>\n",
       "      <td>3.26</td>\n",
       "      <td>0.44</td>\n",
       "      <td>10.1</td>\n",
       "      <td>6</td>\n",
       "    </tr>\n",
       "    <tr>\n",
       "      <th>3</th>\n",
       "      <td>7.2</td>\n",
       "      <td>0.23</td>\n",
       "      <td>0.32</td>\n",
       "      <td>8.5</td>\n",
       "      <td>0.058</td>\n",
       "      <td>47.0</td>\n",
       "      <td>186.0</td>\n",
       "      <td>0.9956</td>\n",
       "      <td>3.19</td>\n",
       "      <td>0.40</td>\n",
       "      <td>9.9</td>\n",
       "      <td>6</td>\n",
       "    </tr>\n",
       "    <tr>\n",
       "      <th>4</th>\n",
       "      <td>7.2</td>\n",
       "      <td>0.23</td>\n",
       "      <td>0.32</td>\n",
       "      <td>8.5</td>\n",
       "      <td>0.058</td>\n",
       "      <td>47.0</td>\n",
       "      <td>186.0</td>\n",
       "      <td>0.9956</td>\n",
       "      <td>3.19</td>\n",
       "      <td>0.40</td>\n",
       "      <td>9.9</td>\n",
       "      <td>6</td>\n",
       "    </tr>\n",
       "  </tbody>\n",
       "</table>\n",
       "</div>"
      ],
      "text/plain": [
       "   fixed acidity  volatile acidity  citric acid  residual sugar  chlorides  \\\n",
       "0            7.0              0.27         0.36            20.7      0.045   \n",
       "1            6.3              0.30         0.34             1.6      0.049   \n",
       "2            8.1              0.28         0.40             6.9      0.050   \n",
       "3            7.2              0.23         0.32             8.5      0.058   \n",
       "4            7.2              0.23         0.32             8.5      0.058   \n",
       "\n",
       "   free sulfur dioxide  total sulfur dioxide  density    pH  sulphates  \\\n",
       "0                 45.0                 170.0   1.0010  3.00       0.45   \n",
       "1                 14.0                 132.0   0.9940  3.30       0.49   \n",
       "2                 30.0                  97.0   0.9951  3.26       0.44   \n",
       "3                 47.0                 186.0   0.9956  3.19       0.40   \n",
       "4                 47.0                 186.0   0.9956  3.19       0.40   \n",
       "\n",
       "   alcohol  quality  \n",
       "0      8.8        6  \n",
       "1      9.5        6  \n",
       "2     10.1        6  \n",
       "3      9.9        6  \n",
       "4      9.9        6  "
      ]
     },
     "execution_count": 3,
     "metadata": {},
     "output_type": "execute_result"
    }
   ],
   "source": [
    "# Εισαγωγή δεδομένων \n",
    "df_wine = pd.read_csv('winequality-white.csv', sep=\";\", header=0)\n",
    "df_wine.head()"
   ]
  },
  {
   "cell_type": "code",
   "execution_count": 4,
   "metadata": {},
   "outputs": [],
   "source": [
    "#Κάντε uncomment \n",
    "#from google.colab import drive\n",
    "#drive.mount('/gdrive')"
   ]
  },
  {
   "cell_type": "code",
   "execution_count": 5,
   "metadata": {},
   "outputs": [],
   "source": [
    "#df_wine = pd.read_csv('/gdrive/My Drive/Colab Notebooks/winequality-white.csv', sep=\";\", header=0)\n",
    "#df_wine"
   ]
  },
  {
   "cell_type": "code",
   "execution_count": 6,
   "metadata": {},
   "outputs": [
    {
     "data": {
      "text/plain": [
       "fixed acidity           0\n",
       "volatile acidity        0\n",
       "citric acid             0\n",
       "residual sugar          0\n",
       "chlorides               0\n",
       "free sulfur dioxide     0\n",
       "total sulfur dioxide    0\n",
       "density                 0\n",
       "pH                      0\n",
       "sulphates               0\n",
       "alcohol                 0\n",
       "quality                 0\n",
       "dtype: int64"
      ]
     },
     "execution_count": 6,
     "metadata": {},
     "output_type": "execute_result"
    }
   ],
   "source": [
    "# κενές τιμές\n",
    "df_wine.isnull().sum() "
   ]
  },
  {
   "cell_type": "code",
   "execution_count": 7,
   "metadata": {},
   "outputs": [],
   "source": [
    "# προετοιμασία χαρακτηριστικών και target\n",
    "X = df_wine.drop(columns='quality')\n",
    "y = df_wine.quality\n",
    "y = y.values.reshape(-1, 1)"
   ]
  },
  {
   "cell_type": "markdown",
   "metadata": {},
   "source": [
    "Δεδομένου ότι εργαστήκαμε ήδη σε αυτά τα δεδομένα κρατάμε το μέρος πρόβλεψης απλό. \n",
    "Ωστόσο, βεβαιωθείτε ότι έχετε κατανοήσει τον κώδικα και συμβουλευτείτε τις προηγούμενες ασκήσεις, αν κάτι δεν σας είναι σαφές! "
   ]
  },
  {
   "cell_type": "code",
   "execution_count": 8,
   "metadata": {},
   "outputs": [
    {
     "name": "stdout",
     "output_type": "stream",
     "text": [
      "Predictions:  [[5.5912529 ]\n",
      " [5.4637415 ]\n",
      " [6.09168743]\n",
      " ...\n",
      " [6.44740715]\n",
      " [5.8809231 ]\n",
      " [4.89256558]]\n",
      "Test performance:  0.24380039034361645\n",
      "Train performance:  0.29167618400020867\n"
     ]
    }
   ],
   "source": [
    "# 1. Split data σε training και test set\n",
    "X_train, X_test, y_train, y_test = train_test_split(X,y, test_size=0.25, random_state=0)\n",
    "# Δημιουργία του  Regressor \n",
    "lin_regr = LinearRegression()\n",
    "# 2. Fitting του Regression\n",
    "lin_regr.fit(X_train, y_train)\n",
    "# 3. Test τον regressor με τα test data και με τα  training για σύγκριση\n",
    "y_pred_test = lin_regr.predict(X_test)\n",
    "y_pred_train = lin_regr.predict(X_train)\n",
    "# 4. υπολογισμός μετρικών (π.χ. r2)\n",
    "r2_test = r2_score(y_test, y_pred_test)\n",
    "r2_train = r2_score(y_train, y_pred_train)\n",
    "# Έχουμε τώρα τις προβλέψεις μας και τη συνολική απόδοση του μοντέλου μας\n",
    "print('Predictions: ', y_pred_test)\n",
    "print('Test performance: ', r2_test)\n",
    "print('Train performance: ', r2_train)"
   ]
  },
  {
   "cell_type": "markdown",
   "metadata": {},
   "source": [
    "Όπως ήταν αναμενόμενο, η απόδοση στο test set είναι χαμηλότερη από την απόδοση στο training set."
   ]
  },
  {
   "cell_type": "markdown",
   "metadata": {},
   "source": [
    "## Επιθεώρηση του μοντέλου\n",
    "\n",
    "## Γραμμική παλινδρόμηση\n",
    "\n",
    "Θυμηθείτε η γραμμική παλινδρόμηση ταιριάζει ένα γραμμικό μοντέλο με συντελεστές/coeffiecients w = (w1, ..., wp) για την ελαχιστοποίηση του αθροίσματος των τετραγώνων μεταξύ των παρατηρούμενων μεταβλητών-στόχων στο σύνολο δεδομένων και των στόχων που προβλέπονται από τη γραμμική προσέγγιση.\n",
    "\n",
    "Μπορούμε να έχουμε πρόσβαση στα coeffiecients χρησιμοποιώντας .coef_ στην γραμμική παλινδρόμηση μας. \n"
   ]
  },
  {
   "cell_type": "code",
   "execution_count": 10,
   "metadata": {},
   "outputs": [
    {
     "name": "stdout",
     "output_type": "stream",
     "text": [
      "[[ 1.15953365e-01 -1.81594265e+00 -1.66810488e-02  9.65149311e-02\n",
      "  -5.13583573e-01  4.74413246e-03 -2.17957734e-04 -1.98333673e+02\n",
      "   8.79948572e-01  6.27189921e-01  1.31644131e-01]]\n"
     ]
    }
   ],
   "source": [
    "# Ποια είναι τα coefficients?\n",
    "coef = lin_regr.coef_\n",
    "print(coef)"
   ]
  },
  {
   "cell_type": "code",
   "execution_count": 11,
   "metadata": {},
   "outputs": [
    {
     "name": "stdout",
     "output_type": "stream",
     "text": [
      "<class 'numpy.ndarray'>\n",
      "<class 'list'>\n",
      "[0.11595336528372614, -1.8159426509738266, -0.01668104884524941, 0.09651493113232847, -0.5135835725745626, 0.004744132457673411, -0.0002179577341205885, -198.33367328276253, 0.8799485721205452, 0.6271899211708463, 0.1316441313307526]\n"
     ]
    }
   ],
   "source": [
    "# Tα coefficients επιστρέφονται ως numpy array. \n",
    "#Θα μετατρέψουμε αυτό το array σε λίστα για να οπτικοποιήσουμε τα coefficients. \n",
    "print(type(coef))\n",
    "coef = coef.tolist()[0] # μετατροπή σε .tolist()\n",
    "print(type(coef))\n",
    "print(coef)"
   ]
  },
  {
   "cell_type": "code",
   "execution_count": 12,
   "metadata": {},
   "outputs": [
    {
     "name": "stdout",
     "output_type": "stream",
     "text": [
      "['fixed acidity', 'volatile acidity', 'citric acid', 'residual sugar', 'chlorides', 'free sulfur dioxide', 'total sulfur dioxide', 'density', 'pH', 'sulphates', 'alcohol']\n"
     ]
    }
   ],
   "source": [
    "# Πάρτε τις ετικέτες για τα χαρακτηριστικά ως λίστα. \n",
    "# Επιστρέφει μια λίστα των χαρακτηριστικών εκτός από το target (quality)\n",
    "labels = df_wine.columns.values[:-1].tolist()\n",
    "print(labels)"
   ]
  },
  {
   "cell_type": "code",
   "execution_count": 13,
   "metadata": {},
   "outputs": [
    {
     "data": {
      "image/png": "[encoded data removed]",
      "text/plain": [
       "<Figure size 432x288 with 1 Axes>"
      ]
     },
     "metadata": {
      "needs_background": "light"
     },
     "output_type": "display_data"
    }
   ],
   "source": [
    "# Plot τα coefficients για κάθε feature\n",
    "fig = plt.figure()\n",
    "ax = fig.add_axes([0, 0, 1, 1])\n",
    "plt.xticks(rotation=90)\n",
    "ax.bar(labels, coef)\n",
    "plt.xlabel('Features')\n",
    "plt.ylabel('coefficient values')\n",
    "plt.show()"
   ]
  },
  {
   "cell_type": "markdown",
   "metadata": {},
   "source": [
    "Ας ρίξουμε μια ματιά στους συντελεστές μας. Ποιος είναι ο πιο σημαντικός;\n",
    "Λοιπόν, σε αυτό το σημείο δεν μπορούμε πραγματικά να πούμε. Το πρόβλημα είναι οι διαφορετικές κλίμακες των χαρακτηριστικών μας. Ας ρίξουμε άλλη μια ματιά στις τιμές των δεδομένων μας."
   ]
  },
  {
   "cell_type": "code",
   "execution_count": 14,
   "metadata": {},
   "outputs": [
    {
     "data": {
      "text/html": [
       "<div>\n",
       "<style scoped>\n",
       "    .dataframe tbody tr th:only-of-type {\n",
       "        vertical-align: middle;\n",
       "    }\n",
       "\n",
       "    .dataframe tbody tr th {\n",
       "        vertical-align: top;\n",
       "    }\n",
       "\n",
       "    .dataframe thead th {\n",
       "        text-align: right;\n",
       "    }\n",
       "</style>\n",
       "<table border=\"1\" class=\"dataframe\">\n",
       "  <thead>\n",
       "    <tr style=\"text-align: right;\">\n",
       "      <th></th>\n",
       "      <th>fixed acidity</th>\n",
       "      <th>volatile acidity</th>\n",
       "      <th>citric acid</th>\n",
       "      <th>residual sugar</th>\n",
       "      <th>chlorides</th>\n",
       "      <th>free sulfur dioxide</th>\n",
       "      <th>total sulfur dioxide</th>\n",
       "      <th>density</th>\n",
       "      <th>pH</th>\n",
       "      <th>sulphates</th>\n",
       "      <th>alcohol</th>\n",
       "    </tr>\n",
       "  </thead>\n",
       "  <tbody>\n",
       "    <tr>\n",
       "      <th>0</th>\n",
       "      <td>7.0</td>\n",
       "      <td>0.27</td>\n",
       "      <td>0.36</td>\n",
       "      <td>20.7</td>\n",
       "      <td>0.045</td>\n",
       "      <td>45.0</td>\n",
       "      <td>170.0</td>\n",
       "      <td>1.0010</td>\n",
       "      <td>3.00</td>\n",
       "      <td>0.45</td>\n",
       "      <td>8.8</td>\n",
       "    </tr>\n",
       "    <tr>\n",
       "      <th>1</th>\n",
       "      <td>6.3</td>\n",
       "      <td>0.30</td>\n",
       "      <td>0.34</td>\n",
       "      <td>1.6</td>\n",
       "      <td>0.049</td>\n",
       "      <td>14.0</td>\n",
       "      <td>132.0</td>\n",
       "      <td>0.9940</td>\n",
       "      <td>3.30</td>\n",
       "      <td>0.49</td>\n",
       "      <td>9.5</td>\n",
       "    </tr>\n",
       "    <tr>\n",
       "      <th>2</th>\n",
       "      <td>8.1</td>\n",
       "      <td>0.28</td>\n",
       "      <td>0.40</td>\n",
       "      <td>6.9</td>\n",
       "      <td>0.050</td>\n",
       "      <td>30.0</td>\n",
       "      <td>97.0</td>\n",
       "      <td>0.9951</td>\n",
       "      <td>3.26</td>\n",
       "      <td>0.44</td>\n",
       "      <td>10.1</td>\n",
       "    </tr>\n",
       "    <tr>\n",
       "      <th>3</th>\n",
       "      <td>7.2</td>\n",
       "      <td>0.23</td>\n",
       "      <td>0.32</td>\n",
       "      <td>8.5</td>\n",
       "      <td>0.058</td>\n",
       "      <td>47.0</td>\n",
       "      <td>186.0</td>\n",
       "      <td>0.9956</td>\n",
       "      <td>3.19</td>\n",
       "      <td>0.40</td>\n",
       "      <td>9.9</td>\n",
       "    </tr>\n",
       "    <tr>\n",
       "      <th>4</th>\n",
       "      <td>7.2</td>\n",
       "      <td>0.23</td>\n",
       "      <td>0.32</td>\n",
       "      <td>8.5</td>\n",
       "      <td>0.058</td>\n",
       "      <td>47.0</td>\n",
       "      <td>186.0</td>\n",
       "      <td>0.9956</td>\n",
       "      <td>3.19</td>\n",
       "      <td>0.40</td>\n",
       "      <td>9.9</td>\n",
       "    </tr>\n",
       "  </tbody>\n",
       "</table>\n",
       "</div>"
      ],
      "text/plain": [
       "   fixed acidity  volatile acidity  citric acid  residual sugar  chlorides  \\\n",
       "0            7.0              0.27         0.36            20.7      0.045   \n",
       "1            6.3              0.30         0.34             1.6      0.049   \n",
       "2            8.1              0.28         0.40             6.9      0.050   \n",
       "3            7.2              0.23         0.32             8.5      0.058   \n",
       "4            7.2              0.23         0.32             8.5      0.058   \n",
       "\n",
       "   free sulfur dioxide  total sulfur dioxide  density    pH  sulphates  \\\n",
       "0                 45.0                 170.0   1.0010  3.00       0.45   \n",
       "1                 14.0                 132.0   0.9940  3.30       0.49   \n",
       "2                 30.0                  97.0   0.9951  3.26       0.44   \n",
       "3                 47.0                 186.0   0.9956  3.19       0.40   \n",
       "4                 47.0                 186.0   0.9956  3.19       0.40   \n",
       "\n",
       "   alcohol  \n",
       "0      8.8  \n",
       "1      9.5  \n",
       "2     10.1  \n",
       "3      9.9  \n",
       "4      9.9  "
      ]
     },
     "execution_count": 14,
     "metadata": {},
     "output_type": "execute_result"
    }
   ],
   "source": [
    "X.head()"
   ]
  },
  {
   "cell_type": "markdown",
   "metadata": {},
   "source": [
    "Οι γραμμικοί αλγόριθμοι μηχανικής εκμάθησης ταιριάζουν/fit σε ένα μοντέλο στο οποίο η πρόβλεψη είναι το σταθμισμένο άθροισμα των τιμών εισόδου .\n",
    "\n",
    "Αυτοί οι αλγόριθμοι βρίσκουν ένα σύνολο συντελεστών που θα χρησιμοποιηθούν στο σταθμισμένο άθροισμα για να κάνουν μια πρόβλεψη. Αυτοί οι συντελεστές μπορούν να χρησιμοποιηθούν άμεσα ως βαθμολογία σπουδαιότητας χαρακτηριστικών (feature importance score). Ωστόσο, υπάρχει ένα πρόβλημα. Τα βάρη εξαρτώνται από την κλίμακα της μεταβλητής εισόδου. Τα βάρη είναι μικρά εάν οι τιμές μιας μεταβλητής είναι μεγάλες και αντίστροφα. Ένας τρόπος αντιμετώπισης αυτού του προβλήματος είναι το standardization.\n",
    "\n",
    "\n",
    "**Μικρή επανάληψη του standardization:** \n",
    "\n",
    "Το standardization είναι η διαδικασία τοποθέτησης διαφορετικών μεταβλητών στην ίδια κλίμακα. Αυτή η διαδικασία σάς επιτρέπει να συγκρίνετε βαθμολογίες μεταξύ διαφορετικών τύπων μεταβλητών. Συνήθως, για να τυποποιήσετε μεταβλητές, υπολογίζετε τη μέση και τυπική απόκλιση για μια μεταβλητή. Στη συνέχεια, για κάθε παρατηρούμενη τιμή της μεταβλητής, αφαιρείτε τη μέση τιμή και διαιρείτε με την τυπική απόκλιση.\n",
    "\n",
    "Μέσα στο **Scikit learn** μπορούμε να χρησιμοποιήσουμε το StandardScaler."
   ]
  },
  {
   "cell_type": "code",
   "execution_count": 15,
   "metadata": {},
   "outputs": [],
   "source": [
    "# Είσοδος του standardizer package\n",
    "from sklearn.preprocessing import StandardScaler\n",
    "# Διαχωρισμός σε training και test set\n",
    "X_train, X_test, y_train, y_test = train_test_split(X,y, test_size=0.25, random_state=0)\n",
    "#############################################################################\n",
    "# Εδώ είναι το StandardScaler application\n",
    "# Standardize data using StandardScaler - \n",
    "# Create and fit StandardScaler\n",
    "scaler_features = StandardScaler(copy=True, with_mean=True, with_std=True).fit(X_train)\n",
    "scaler_targets = StandardScaler(copy=True, with_mean=True, with_std=True).fit(y_train)\n",
    "# Transform the data\n",
    "X_train = scaler_features.transform(X_train)\n",
    "y_train = scaler_targets.transform(y_train)\n",
    "X_test = scaler_features.transform(X_test)\n",
    "y_test = scaler_targets.transform(y_test)\n",
    "#############################################################################\n",
    "# Από εδώ και στο εξής κάνουμε τα συνηθισμένα βήματα \n",
    "# Δημιουργία του Regressor \n",
    "lin_regr = LinearRegression()\n",
    "# Fitting του Regression\n",
    "lin_regr.fit(X_train, y_train)\n",
    "# Test regressor \n",
    "y_pred_test = lin_regr.predict(X_test)\n",
    "y_pred_train = lin_regr.predict(X_train)\n",
    "# υπολογισμός μετρικών (π.χ. r2)\n",
    "r2_test = r2_score(y_test, y_pred_test)\n",
    "r2_train = r2_score(y_train, y_pred_train)\n",
    "# Παίρνουμε τα coefficients \n",
    "coef = lin_regr.coef_.tolist()[0]"
   ]
  },
  {
   "cell_type": "code",
   "execution_count": 16,
   "metadata": {},
   "outputs": [
    {
     "name": "stdout",
     "output_type": "stream",
     "text": [
      "0.2438003903436109\n",
      "0.2916761840002079\n"
     ]
    }
   ],
   "source": [
    "# Το μοντέλο μας αποδίδει εξίσου καλά\n",
    "print(r2_test)\n",
    "print(r2_train)"
   ]
  },
  {
   "cell_type": "code",
   "execution_count": 17,
   "metadata": {},
   "outputs": [
    {
     "name": "stdout",
     "output_type": "stream",
     "text": [
      "[0.10941402566308751, -0.2085261319967129, -0.0022724468414604543, 0.55116116721633, -0.012982560086368606, 0.09175746502552051, -0.01051023897185479, -0.6651319646990003, 0.1515538759584271, 0.08332294354747737, 0.18513486257580453]\n"
     ]
    }
   ],
   "source": [
    "# Ας δούμε τα coefficients\n",
    "print(coef)"
   ]
  },
  {
   "cell_type": "code",
   "execution_count": 18,
   "metadata": {},
   "outputs": [
    {
     "data": {
      "image/png": "[encoded data removed]",
      "text/plain": [
       "<Figure size 432x288 with 1 Axes>"
      ]
     },
     "metadata": {
      "needs_background": "light"
     },
     "output_type": "display_data"
    }
   ],
   "source": [
    "# Δημιουργία της ίδιας γραφικής παράστασης όπως και πριν\n",
    "fig = plt.figure()\n",
    "ax = fig.add_axes([0,0,1,1])\n",
    "plt.xticks(rotation=90)\n",
    "ax.bar(labels,coef)\n",
    "plt.xlabel('Features')\n",
    "plt.ylabel('coefficient values')\n",
    "plt.show()"
   ]
  },
  {
   "cell_type": "markdown",
   "metadata": {},
   "source": [
    "Τώρα που τα χαρακτηριστικά είναι στην ίδια κλίμακα μπορούμε να συγκρίνουμε τους συντελεστές. \n",
    "\n",
    "Ωστόσο, δεδομένου ότι τους τυποποιήσαμε με το standardition, η συνήθης ερμηνεία των βαρών δεν είναι πλέον αλήθινή. Συνήθως, οι συντελεστές υποδεικνύουν την αύξηση/μείωση κατά μήκος του άξονα y για κάθε μονάδα αύξησης κατά μήκος του άξονα x. \n",
    "Για να μπορέσουμε να ερμηνεύσουμε τους συντελεστές με αυτόν τον τρόπο και πάλι πρέπει να **αντιστρέψουμε** τον μετασχηματισμό που κάναμε.\n"
   ]
  },
  {
   "cell_type": "code",
   "execution_count": 19,
   "metadata": {},
   "outputs": [
    {
     "name": "stdout",
     "output_type": "stream",
     "text": [
      "[6.94963192e+00 2.57598095e-01 3.32737615e-01 9.09231218e+00\n",
      " 4.55800378e-02 3.68579049e+01 1.38085478e+02 9.92044231e-01\n",
      " 3.21094012e+00 5.00013435e-01 1.07487563e+01]\n"
     ]
    }
   ],
   "source": [
    "# αντίστροφος μετασχηματισμός συντελεστών. \n",
    "coef_retransformed = scaler_features.inverse_transform(coef)\n",
    "print(coef_retransformed)"
   ]
  },
  {
   "cell_type": "markdown",
   "metadata": {},
   "source": [
    "Συνοψίζοντας: πρέπει να τυποποιήσουμε/standardize τα χαρακτηριστικά μας πριν τα βάλουμε στο μοντέλο γραμμικής παλινδρόμησης. Αυτό μας επιτρέπει να συγκρίνουμε τη σημασία τους μεταξύ τους. \n",
    "Προκειμένου να ερμηνεύσουμε την επίδρασή τους στη μεταβλητή στόχο μας με το συνηθισμένο τρόπο πρέπει να αντιστρέψουμε τον εφαρμοζόμενο μετασχηματισμό που κάναμε για να πάρουμε πίσω το βάρος στην κλίμακα των αρχικών δεδομένων.  "
   ]
  },
  {
   "cell_type": "markdown",
   "metadata": {},
   "source": [
    "## Decision Trees \n",
    "\n",
    "Όταν επιθεωρούμε ένα γραμμικό μοντέλο παλινδρόμησης, εξετάζουμε από κοντά τους συντελεστές για να κατανοήσουμε τα χαρακτηριστικά μας και την σημασία τους. \n",
    "Σε μεθόδους που βασίζονται σε δέντρα δεν υπάρχουν συντελεστές όπως αυτοί στη γραμμική παλινδρόμηση. Ωστόσο, μπορούμε να επιθεωρήσουμε τη σημασία των χαρακτηριστικών μας, όπως μετράται από τη συμβολή τους στη μείωση σφαλμάτων.\n",
    "Η σημασία ενός χαρακτηριστικού υπολογίζεται ως η (κανονικοποιημένη) συνολική μείωση του κριτηρίου που αποφέρει αυτή αυτό το χαρακτηριστικό, π.χ. πόσο μειώνεται το MSE κατά ένα συγκεκριμένο χαρακτηριστικό. "
   ]
  },
  {
   "cell_type": "code",
   "execution_count": 20,
   "metadata": {},
   "outputs": [],
   "source": [
    "# Σημείωση: Δεν θα χρειαστεί να ξανακάνουμε το standarization δεδομένου ότι τα δεδομένα είναι ακόμα τυποποιημένα.\n",
    "# Ωστόσο, το αφήσαμε μέσα ώστε να μπορείτε να κάνετε εναλλαγή μεταξύ τυποποιημένων / μη τυποποιημένων.\n",
    "# δοκιμάστε το και με τους δύο τρόπους και παρατηρήστε τι συμβαίνει!\n",
    "\n",
    "# Προετοιμασία features και target - προετοιμασμένα για επαναφόρτωση των δεδομένων / διερεύνηση του standarization\n",
    "X = df_wine.drop(columns='quality')\n",
    "y = df_wine.quality.values.reshape(-1, 1)\n",
    "# Split σε training και test set\n",
    "X_train, X_test, y_train, y_test = train_test_split(X,y, test_size=0.25, random_state=0)\n",
    "# Create and fit StandardScaler\n",
    "scaler_features = StandardScaler(copy=True, with_mean=True, with_std=True).fit(X_train)\n",
    "# Transform the data\n",
    "X_train = scaler_features.transform(X_train)\n",
    "X_test = scaler_features.transform(X_test)\n",
    "# Δημιουργία του Regressor, με max_depth=6\n",
    "dec_tree = DecisionTreeRegressor(max_depth=6)\n",
    "# Fitting το Decision tree\n",
    "dec_tree.fit(X_train, y_train)\n",
    "# Test τον Decision tree με τα test data (και τα training data για να τα συγκρίνουμε)\n",
    "y_pred_test = dec_tree.predict(X_test)\n",
    "y_pred_train = dec_tree.predict(X_train)\n",
    "# Yπολογισμός μετρικών (π.χ. r2)\n",
    "r2_test = r2_score(y_test, y_pred_test)\n",
    "r2_train = r2_score(y_train, y_pred_train)"
   ]
  },
  {
   "cell_type": "code",
   "execution_count": 21,
   "metadata": {},
   "outputs": [
    {
     "name": "stdout",
     "output_type": "stream",
     "text": [
      "0.23996183738907761\n",
      "0.44090750504129284\n"
     ]
    }
   ],
   "source": [
    "print(r2_test)\n",
    "print(r2_train)"
   ]
  },
  {
   "cell_type": "code",
   "execution_count": 22,
   "metadata": {},
   "outputs": [
    {
     "name": "stdout",
     "output_type": "stream",
     "text": [
      "[0.02211834 0.20920089 0.02062834 0.03770348 0.02153732 0.11728009\n",
      " 0.0039179  0.00756367 0.04210066 0.03107985 0.48686946]\n"
     ]
    }
   ],
   "source": [
    "# Η σημασία των χαρακτηριστικών υπολογίζεται αυτόματα κατά την εκπαίδευση του DT και αποθηκεύεται στη μεταβλητή feature_importance_\n",
    "print(dec_tree.feature_importances_)"
   ]
  },
  {
   "cell_type": "code",
   "execution_count": 23,
   "metadata": {},
   "outputs": [
    {
     "name": "stdout",
     "output_type": "stream",
     "text": [
      "[0.02211833857531633, 0.20920089268944073, 0.0206283358562916, 0.03770348413949899, 0.021537320281023415, 0.1172800873525452, 0.003917902605681925, 0.007563673287065892, 0.042100656286840114, 0.031079849838678744, 0.48686945908761714]\n"
     ]
    }
   ],
   "source": [
    "# Μετατροπή features importance σε list\n",
    "feat_imp = dec_tree.feature_importances_.tolist()\n",
    "print(feat_imp)"
   ]
  },
  {
   "cell_type": "code",
   "execution_count": 24,
   "metadata": {},
   "outputs": [
    {
     "data": {
      "image/png": "[encoded data removed]",
      "text/plain": [
       "<Figure size 432x288 with 1 Axes>"
      ]
     },
     "metadata": {
      "needs_background": "light"
     },
     "output_type": "display_data"
    }
   ],
   "source": [
    "# Δημιουργήστε την ίδια γραφική παράσταση όπως και για στο γραμμικό μοντέλο\n",
    "fig = plt.figure()\n",
    "ax = fig.add_axes([0, 0, 1, 1])\n",
    "plt.xticks(rotation=90)\n",
    "ax.bar(labels,feat_imp)\n",
    "plt.xlabel('Features')\n",
    "plt.ylabel('Feature Importances - Decision Tree')\n",
    "plt.show()"
   ]
  },
  {
   "cell_type": "markdown",
   "metadata": {},
   "source": [
    "Εδώ βλέπουμε τις συνεισφορές κάθε χαρακτηριστικού στη γενική μείωση MSE του δέντρου απόφασης. Τα αποτελέσματα δεν είναι τα ίδια όπως στη γραμμική παλινδρόμηση. Τα χαρακτηριστικά έχουν άλλη σημασία. Αυτό είναι λογικό, δεδομένου ότι η απόδοση των δύο μεθόδων δεν είναι η ίδια επίσης.\n",
    "\n",
    "Μια ακόμη σημείωση είναι η τυποποίηση σε μεθόδους που βασίζονται σε δέντρα:\n",
    "Οι αλγόριθμοι που βασίζονται σε δέντρα είναι αρκετά αναίσθητοι στην κλίμακα των δυνατοτήτων. Σκεφτείτε το, ένα δέντρο αποφάσεων διαιρεί μόνο έναν κόμβο βασισμένο σε ένα ενιαίο χαρακτηριστικό γνώρισμα. Το δέντρο απόφασης διαιρεί έναν κόμβο σε ένα χαρακτηριστικό που αυξάνει την ομοιογένεια του κόμβου/μειώνει το σφάλμα. Αυτή η διαίρεση σε ένα χαρακτηριστικό δεν επηρεάζεται από άλλα χαρακτηριστικά.\n",
    "\n",
    "Εξερευνήστε αυτή τη συμπεριφορά στο παραπάνω παράδειγμα με  comment/uncomment τις γραμμές κώδικα που υλοποιεί την τυποποίηση ! :)\n",
    "\n",
    "Ας συνεχίσουμε με το τυχαίο δάσος που μοιάζει με  το δέντρο αποφάσεων. "
   ]
  },
  {
   "cell_type": "markdown",
   "metadata": {},
   "source": [
    "## Random Forest"
   ]
  },
  {
   "cell_type": "code",
   "execution_count": 25,
   "metadata": {},
   "outputs": [],
   "source": [
    "# Split σε training και test set\n",
    "X_train, X_test, y_train, y_test = train_test_split(X,y, test_size=0.25, random_state=0)\n",
    "# Create and fit StandardScaler\n",
    "scaler_features = StandardScaler(copy=True, with_mean=True, with_std=True).fit(X_train)\n",
    "scaler_targets = StandardScaler(copy=True, with_mean=True, with_std=True).fit(y_train)\n",
    "# Transform the data\n",
    "X_train = scaler_features.transform(X_train)\n",
    "y_train = np.ravel(scaler_targets.transform(y_train))\n",
    "X_test = scaler_features.transform(X_test)\n",
    "y_test = np.ravel(scaler_targets.transform(y_test))\n",
    "# Δημιουργία του Regressor, με λίγα n_estimators για να  μην πάρει πολύ χρόνο\n",
    "rf_regr = RandomForestRegressor(n_estimators=50)\n",
    "# Fitting το RF\n",
    "rf_regr.fit(X_train, y_train)\n",
    "# Test το RF με test data (και τα training data για να τα συγκρίνουμε)\n",
    "y_pred_test = rf_regr.predict(X_test)\n",
    "y_pred_train = rf_regr.predict(X_train)\n",
    "# Yπολογισμός μετρικών (π.χ. r2)\n",
    "r2_test = r2_score(y_test, y_pred_test)\n",
    "r2_train = r2_score(y_train, y_pred_train)"
   ]
  },
  {
   "cell_type": "code",
   "execution_count": 26,
   "metadata": {},
   "outputs": [
    {
     "name": "stdout",
     "output_type": "stream",
     "text": [
      "0.4521581910107886\n",
      "0.9306426047604298\n"
     ]
    }
   ],
   "source": [
    "print(r2_test)\n",
    "print(r2_train)"
   ]
  },
  {
   "cell_type": "code",
   "execution_count": 27,
   "metadata": {},
   "outputs": [
    {
     "name": "stdout",
     "output_type": "stream",
     "text": [
      "[0.05819208360441959, 0.12410097848446351, 0.058483688411960916, 0.06873437024113872, 0.06726581576723864, 0.11419445899587341, 0.06514471846743602, 0.056943970702289445, 0.0732261386631123, 0.06334522515657584, 0.2503685515054917]\n"
     ]
    }
   ],
   "source": [
    "# Η σημασία των χαρακτηριστικών υπολογίζεται αυτόματα κατά την εκπαίδευση του DT και αποθηκεύεται στη μεταβλητή feature_importance_\n",
    "rf_feat_imp = rf_regr.feature_importances_.tolist()\n",
    "print(rf_feat_imp)"
   ]
  },
  {
   "cell_type": "code",
   "execution_count": 28,
   "metadata": {},
   "outputs": [
    {
     "data": {
      "image/png": "[encoded data removed]",
      "text/plain": [
       "<Figure size 432x288 with 1 Axes>"
      ]
     },
     "metadata": {
      "needs_background": "light"
     },
     "output_type": "display_data"
    }
   ],
   "source": [
    "# Το ίδιο γράφημα με πριν\n",
    "fig = plt.figure()\n",
    "ax = fig.add_axes([0,0,1,1])\n",
    "plt.xticks(rotation=90)\n",
    "ax.bar(labels,rf_feat_imp)\n",
    "plt.xlabel('Features')\n",
    "plt.ylabel('Feature Importances -  Random Forest')\n",
    "plt.show()"
   ]
  },
  {
   "cell_type": "markdown",
   "metadata": {},
   "source": [
    "# Συγχαρητήρια!\n",
    "\n",
    "Επεκτείνατε τις γνώσεις σας από την προηγούμενη εβδομάδα. Τώρα ξέρετε πώς να αξιολογήσετε ένα μοντέλο σχετικά με ποιο χαρακτηριστικό γνώρισμα είναι σημαντικό για τις προβλέψεις."
   ]
  },
  {
   "cell_type": "markdown",
   "metadata": {},
   "source": [
    "# Άσκηση\n",
    "\n",
    "Τώρα θα ξαναδούμε το σύνολο δεδομένων Boston housing dataset . Γνωρίζουμε ήδη πώς να προβλέψουμε τις τιμές, αλλά δεν γνωρίζουμε ακόμα ποιες είναι οι σημαντικές μεταβλητές για να γίνει αυτό. \n",
    "\n",
    "Εισαγάγετε το σετ κατοικιών της Βοστώνης. Κάντε όλα τα συνήθη βήματα της προετοιμασίας των δεδομένων και το training και testing. Δεν χρειάζεται να ανησυχείτε για το cross-validation (χρησιμοποιήστε ένα train-test split όπως κάναμε σε αυτές τις ασκήσεις). Αντ'αυτού πάρτε το χρόνο σας και εξερευνήστε τις συνεισφορές των χαρακτηριστικών χρησιμοποιώντας τη γραμμική παλινδρόμηση, τα δέντρα απόφασης και τα τυχαία δάση.  "
   ]
  },
  {
   "cell_type": "code",
   "execution_count": null,
   "metadata": {},
   "outputs": [],
   "source": [
    "# Import \n",
    "from sklearn import datasets\n",
    "boston_set = datasets.load_boston()"
   ]
  }
 ],
 "metadata": {
  "kernelspec": {
   "display_name": "Python 3",
   "language": "python",
   "name": "python3"
  },
  "language_info": {
   "codemirror_mode": {
    "name": "ipython",
    "version": 3
   },
   "file_extension": ".py",
   "mimetype": "text/x-python",
   "name": "python",
   "nbconvert_exporter": "python",
   "pygments_lexer": "ipython3",
   "version": "3.7.2"
  }
 },
 "nbformat": 4,
 "nbformat_minor": 2
}
