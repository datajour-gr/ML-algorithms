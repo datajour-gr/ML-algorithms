{
  "cells": [
    {
      "cell_type": "markdown",
      "metadata": {
        "id": "qT2-oRLxnt78"
      },
      "source": [
        "# Eρμηνεία του μοντέλου\n",
        "\n",
        "Η άσκηση αυτή επικεντρώνεται στην ερμηνεία του μοντέλου. Στο πλαίσιο αυτό, η ερμηνεία του μοντέλου σημαίνει η συμβολή των επιμέρους χαρακτηριστικών στο αποτέλεσμα της πρόβλεψης. \n",
        "\n",
        " Επιπλέον υλικό:\n",
        "\n",
        "- https://machinelearningmastery.com/calculate-feature-importance-with-python/\n",
        "\n",
        "- https://realpython.com/linear-regression-in-python/\n",
        "\n",
        "- https://pythonprogramming.net/regression-introduction-machine-learning-tutorial/\n",
        "\n",
        "- https://www.analyticsvidhya.com/blog/2020/04/feature-scaling-machine-learning-normalization-standardization/\n",
        "\n",
        "- https://christophm.github.io/interpretable-ml-book/"
      ]
    },
    {
      "cell_type": "code",
      "execution_count": 6,
      "metadata": {
        "id": "9VJgWpvCnt8R"
      },
      "outputs": [],
      "source": [
        "import pandas as pd\n",
        "import numpy as np\n",
        "import matplotlib.pyplot as plt\n",
        "from sklearn.metrics import mean_squared_error, r2_score\n",
        "from sklearn.tree import DecisionTreeRegressor, plot_tree\n",
        "from sklearn.linear_model import LinearRegression\n",
        "from sklearn.ensemble import RandomForestRegressor\n",
        "from sklearn.model_selection import RepeatedKFold, train_test_split"
      ]
    },
    {
      "cell_type": "markdown",
      "metadata": {
        "id": "ollCCeQdnt8T"
      },
      "source": [
        "## Προετοιμασία των δεδομένων\n",
        "\n",
        "Χρησιμοποιούμε ξανά το σύνολο των δεδομένων ποιότητας κρασιού. Ως συνήθως, προσπαθούμε να προβλέψουμε την ποιότητα του κρασιού από μερικές μετρικές κρασιού, π.χ. υπολειμματική ζάχαρη, κιτρικό οξύ, κλπ. Αυτή τη φορά, ωστόσο, ο τελικός στόχος είναι να κατανοήσουμε ποια από τα χαρακτηριστικά είναι σημαντικά για το αποτέλεσμα της πρόβλεψης."
      ]
    },
    {
      "cell_type": "code",
      "execution_count": 7,
      "metadata": {
        "id": "M-jT0fxLnt8U",
        "outputId": "92ad96a0-19f5-4d05-a46f-2b2c24696182",
        "colab": {
          "base_uri": "https://localhost:8080/",
          "height": 206
        }
      },
      "outputs": [
        {
          "output_type": "execute_result",
          "data": {
            "text/plain": [
              "   fixed acidity  volatile acidity  citric acid  residual sugar  chlorides  \\\n",
              "0            7.0              0.27         0.36            20.7      0.045   \n",
              "1            6.3              0.30         0.34             1.6      0.049   \n",
              "2            8.1              0.28         0.40             6.9      0.050   \n",
              "3            7.2              0.23         0.32             8.5      0.058   \n",
              "4            7.2              0.23         0.32             8.5      0.058   \n",
              "\n",
              "   free sulfur dioxide  total sulfur dioxide  density    pH  sulphates  \\\n",
              "0                 45.0                 170.0   1.0010  3.00       0.45   \n",
              "1                 14.0                 132.0   0.9940  3.30       0.49   \n",
              "2                 30.0                  97.0   0.9951  3.26       0.44   \n",
              "3                 47.0                 186.0   0.9956  3.19       0.40   \n",
              "4                 47.0                 186.0   0.9956  3.19       0.40   \n",
              "\n",
              "   alcohol  quality  \n",
              "0      8.8        6  \n",
              "1      9.5        6  \n",
              "2     10.1        6  \n",
              "3      9.9        6  \n",
              "4      9.9        6  "
            ],
            "text/html": [
              "\n",
              "  <div id=\"df-ae429143-5158-476e-908a-de1a98d4ccb5\">\n",
              "    <div class=\"colab-df-container\">\n",
              "      <div>\n",
              "<style scoped>\n",
              "    .dataframe tbody tr th:only-of-type {\n",
              "        vertical-align: middle;\n",
              "    }\n",
              "\n",
              "    .dataframe tbody tr th {\n",
              "        vertical-align: top;\n",
              "    }\n",
              "\n",
              "    .dataframe thead th {\n",
              "        text-align: right;\n",
              "    }\n",
              "</style>\n",
              "<table border=\"1\" class=\"dataframe\">\n",
              "  <thead>\n",
              "    <tr style=\"text-align: right;\">\n",
              "      <th></th>\n",
              "      <th>fixed acidity</th>\n",
              "      <th>volatile acidity</th>\n",
              "      <th>citric acid</th>\n",
              "      <th>residual sugar</th>\n",
              "      <th>chlorides</th>\n",
              "      <th>free sulfur dioxide</th>\n",
              "      <th>total sulfur dioxide</th>\n",
              "      <th>density</th>\n",
              "      <th>pH</th>\n",
              "      <th>sulphates</th>\n",
              "      <th>alcohol</th>\n",
              "      <th>quality</th>\n",
              "    </tr>\n",
              "  </thead>\n",
              "  <tbody>\n",
              "    <tr>\n",
              "      <th>0</th>\n",
              "      <td>7.0</td>\n",
              "      <td>0.27</td>\n",
              "      <td>0.36</td>\n",
              "      <td>20.7</td>\n",
              "      <td>0.045</td>\n",
              "      <td>45.0</td>\n",
              "      <td>170.0</td>\n",
              "      <td>1.0010</td>\n",
              "      <td>3.00</td>\n",
              "      <td>0.45</td>\n",
              "      <td>8.8</td>\n",
              "      <td>6</td>\n",
              "    </tr>\n",
              "    <tr>\n",
              "      <th>1</th>\n",
              "      <td>6.3</td>\n",
              "      <td>0.30</td>\n",
              "      <td>0.34</td>\n",
              "      <td>1.6</td>\n",
              "      <td>0.049</td>\n",
              "      <td>14.0</td>\n",
              "      <td>132.0</td>\n",
              "      <td>0.9940</td>\n",
              "      <td>3.30</td>\n",
              "      <td>0.49</td>\n",
              "      <td>9.5</td>\n",
              "      <td>6</td>\n",
              "    </tr>\n",
              "    <tr>\n",
              "      <th>2</th>\n",
              "      <td>8.1</td>\n",
              "      <td>0.28</td>\n",
              "      <td>0.40</td>\n",
              "      <td>6.9</td>\n",
              "      <td>0.050</td>\n",
              "      <td>30.0</td>\n",
              "      <td>97.0</td>\n",
              "      <td>0.9951</td>\n",
              "      <td>3.26</td>\n",
              "      <td>0.44</td>\n",
              "      <td>10.1</td>\n",
              "      <td>6</td>\n",
              "    </tr>\n",
              "    <tr>\n",
              "      <th>3</th>\n",
              "      <td>7.2</td>\n",
              "      <td>0.23</td>\n",
              "      <td>0.32</td>\n",
              "      <td>8.5</td>\n",
              "      <td>0.058</td>\n",
              "      <td>47.0</td>\n",
              "      <td>186.0</td>\n",
              "      <td>0.9956</td>\n",
              "      <td>3.19</td>\n",
              "      <td>0.40</td>\n",
              "      <td>9.9</td>\n",
              "      <td>6</td>\n",
              "    </tr>\n",
              "    <tr>\n",
              "      <th>4</th>\n",
              "      <td>7.2</td>\n",
              "      <td>0.23</td>\n",
              "      <td>0.32</td>\n",
              "      <td>8.5</td>\n",
              "      <td>0.058</td>\n",
              "      <td>47.0</td>\n",
              "      <td>186.0</td>\n",
              "      <td>0.9956</td>\n",
              "      <td>3.19</td>\n",
              "      <td>0.40</td>\n",
              "      <td>9.9</td>\n",
              "      <td>6</td>\n",
              "    </tr>\n",
              "  </tbody>\n",
              "</table>\n",
              "</div>\n",
              "      <button class=\"colab-df-convert\" onclick=\"convertToInteractive('df-ae429143-5158-476e-908a-de1a98d4ccb5')\"\n",
              "              title=\"Convert this dataframe to an interactive table.\"\n",
              "              style=\"display:none;\">\n",
              "        \n",
              "  <svg xmlns=\"http://www.w3.org/2000/svg\" height=\"24px\"viewBox=\"0 0 24 24\"\n",
              "       width=\"24px\">\n",
              "    <path d=\"M0 0h24v24H0V0z\" fill=\"none\"/>\n",
              "    <path d=\"M18.56 5.44l.94 2.06.94-2.06 2.06-.94-2.06-.94-.94-2.06-.94 2.06-2.06.94zm-11 1L8.5 8.5l.94-2.06 2.06-.94-2.06-.94L8.5 2.5l-.94 2.06-2.06.94zm10 10l.94 2.06.94-2.06 2.06-.94-2.06-.94-.94-2.06-.94 2.06-2.06.94z\"/><path d=\"M17.41 7.96l-1.37-1.37c-.4-.4-.92-.59-1.43-.59-.52 0-1.04.2-1.43.59L10.3 9.45l-7.72 7.72c-.78.78-.78 2.05 0 2.83L4 21.41c.39.39.9.59 1.41.59.51 0 1.02-.2 1.41-.59l7.78-7.78 2.81-2.81c.8-.78.8-2.07 0-2.86zM5.41 20L4 18.59l7.72-7.72 1.47 1.35L5.41 20z\"/>\n",
              "  </svg>\n",
              "      </button>\n",
              "      \n",
              "  <style>\n",
              "    .colab-df-container {\n",
              "      display:flex;\n",
              "      flex-wrap:wrap;\n",
              "      gap: 12px;\n",
              "    }\n",
              "\n",
              "    .colab-df-convert {\n",
              "      background-color: #E8F0FE;\n",
              "      border: none;\n",
              "      border-radius: 50%;\n",
              "      cursor: pointer;\n",
              "      display: none;\n",
              "      fill: #1967D2;\n",
              "      height: 32px;\n",
              "      padding: 0 0 0 0;\n",
              "      width: 32px;\n",
              "    }\n",
              "\n",
              "    .colab-df-convert:hover {\n",
              "      background-color: #E2EBFA;\n",
              "      box-shadow: 0px 1px 2px rgba(60, 64, 67, 0.3), 0px 1px 3px 1px rgba(60, 64, 67, 0.15);\n",
              "      fill: #174EA6;\n",
              "    }\n",
              "\n",
              "    [theme=dark] .colab-df-convert {\n",
              "      background-color: #3B4455;\n",
              "      fill: #D2E3FC;\n",
              "    }\n",
              "\n",
              "    [theme=dark] .colab-df-convert:hover {\n",
              "      background-color: #434B5C;\n",
              "      box-shadow: 0px 1px 3px 1px rgba(0, 0, 0, 0.15);\n",
              "      filter: drop-shadow(0px 1px 2px rgba(0, 0, 0, 0.3));\n",
              "      fill: #FFFFFF;\n",
              "    }\n",
              "  </style>\n",
              "\n",
              "      <script>\n",
              "        const buttonEl =\n",
              "          document.querySelector('#df-ae429143-5158-476e-908a-de1a98d4ccb5 button.colab-df-convert');\n",
              "        buttonEl.style.display =\n",
              "          google.colab.kernel.accessAllowed ? 'block' : 'none';\n",
              "\n",
              "        async function convertToInteractive(key) {\n",
              "          const element = document.querySelector('#df-ae429143-5158-476e-908a-de1a98d4ccb5');\n",
              "          const dataTable =\n",
              "            await google.colab.kernel.invokeFunction('convertToInteractive',\n",
              "                                                     [key], {});\n",
              "          if (!dataTable) return;\n",
              "\n",
              "          const docLinkHtml = 'Like what you see? Visit the ' +\n",
              "            '<a target=\"_blank\" href=https://colab.research.google.com/notebooks/data_table.ipynb>data table notebook</a>'\n",
              "            + ' to learn more about interactive tables.';\n",
              "          element.innerHTML = '';\n",
              "          dataTable['output_type'] = 'display_data';\n",
              "          await google.colab.output.renderOutput(dataTable, element);\n",
              "          const docLink = document.createElement('div');\n",
              "          docLink.innerHTML = docLinkHtml;\n",
              "          element.appendChild(docLink);\n",
              "        }\n",
              "      </script>\n",
              "    </div>\n",
              "  </div>\n",
              "  "
            ]
          },
          "metadata": {},
          "execution_count": 7
        }
      ],
      "source": [
        "# Εισαγωγή δεδομένων \n",
        "df_wine = pd.read_csv('winequality-white.csv', sep=\";\", header=0)\n",
        "df_wine.head()"
      ]
    },
    {
      "cell_type": "code",
      "source": [
        "##from google.colab import drive\n",
        "##drive.mount('/content/drive')"
      ],
      "metadata": {
        "id": "NKwTsAz28AbM"
      },
      "execution_count": 8,
      "outputs": []
    },
    {
      "cell_type": "code",
      "execution_count": 9,
      "metadata": {
        "id": "M0gBpiY7nt8V"
      },
      "outputs": [],
      "source": [
        "#Κάντε uncomment \n",
        "#from google.colab import drive\n",
        "#drive.mount('/gdrive')"
      ]
    },
    {
      "cell_type": "code",
      "execution_count": 10,
      "metadata": {
        "id": "ED15YoHWnt8V"
      },
      "outputs": [],
      "source": [
        "#df_wine = pd.read_csv('/gdrive/My Drive/Colab Notebooks/winequality-white.csv', sep=\";\", header=0)\n",
        "#df_wine"
      ]
    },
    {
      "cell_type": "code",
      "execution_count": 11,
      "metadata": {
        "id": "3vptv47Fnt8W",
        "outputId": "578bcb42-0c38-4ace-debb-1997c4aa50d0",
        "colab": {
          "base_uri": "https://localhost:8080/"
        }
      },
      "outputs": [
        {
          "output_type": "execute_result",
          "data": {
            "text/plain": [
              "fixed acidity           0\n",
              "volatile acidity        0\n",
              "citric acid             0\n",
              "residual sugar          0\n",
              "chlorides               0\n",
              "free sulfur dioxide     0\n",
              "total sulfur dioxide    0\n",
              "density                 0\n",
              "pH                      0\n",
              "sulphates               0\n",
              "alcohol                 0\n",
              "quality                 0\n",
              "dtype: int64"
            ]
          },
          "metadata": {},
          "execution_count": 11
        }
      ],
      "source": [
        "# κενές τιμές\n",
        "df_wine.isnull().sum() "
      ]
    },
    {
      "cell_type": "code",
      "execution_count": 12,
      "metadata": {
        "id": "3wSnUvTAnt8X"
      },
      "outputs": [],
      "source": [
        "# προετοιμασία χαρακτηριστικών και target\n",
        "X = df_wine.drop(columns='quality')\n",
        "y = df_wine.quality\n",
        "y = y.values.reshape(-1, 1)"
      ]
    },
    {
      "cell_type": "markdown",
      "metadata": {
        "id": "DiuWqeTcnt8X"
      },
      "source": [
        "Δεδομένου ότι εργαστήκαμε ήδη σε αυτά τα δεδομένα κρατάμε το μέρος πρόβλεψης απλό. \n",
        "Ωστόσο, βεβαιωθείτε ότι έχετε κατανοήσει τον κώδικα και συμβουλευτείτε τις προηγούμενες ασκήσεις, αν κάτι δεν σας είναι σαφές! "
      ]
    },
    {
      "cell_type": "code",
      "execution_count": 13,
      "metadata": {
        "id": "CtVD68Uxnt8Y",
        "outputId": "0fdb4e48-3706-49e9-b80a-5206dd3621a3",
        "colab": {
          "base_uri": "https://localhost:8080/"
        }
      },
      "outputs": [
        {
          "output_type": "stream",
          "name": "stdout",
          "text": [
            "Predictions:  [[5.5912529 ]\n",
            " [5.4637415 ]\n",
            " [6.09168743]\n",
            " ...\n",
            " [6.44740715]\n",
            " [5.8809231 ]\n",
            " [4.89256558]]\n",
            "Test performance:  0.24380039034360979\n",
            "Train performance:  0.2916761840002091\n"
          ]
        }
      ],
      "source": [
        "# 1. Split data σε training και test set\n",
        "X_train, X_test, y_train, y_test = train_test_split(X,y, test_size=0.25, random_state=0)\n",
        "# Δημιουργία του  Regressor \n",
        "lin_regr = LinearRegression()\n",
        "# 2. Fitting του Regression\n",
        "lin_regr.fit(X_train, y_train)\n",
        "# 3. Test τον regressor με τα test data και με τα  training για σύγκριση\n",
        "y_pred_test = lin_regr.predict(X_test)\n",
        "y_pred_train = lin_regr.predict(X_train)\n",
        "# 4. υπολογισμός μετρικών (π.χ. r2)\n",
        "r2_test = r2_score(y_test, y_pred_test)\n",
        "r2_train = r2_score(y_train, y_pred_train)\n",
        "# Έχουμε τώρα τις προβλέψεις μας και τη συνολική απόδοση του μοντέλου μας\n",
        "print('Predictions: ', y_pred_test)\n",
        "print('Test performance: ', r2_test)\n",
        "print('Train performance: ', r2_train)"
      ]
    },
    {
      "cell_type": "markdown",
      "metadata": {
        "id": "kPexaq3Gnt8Y"
      },
      "source": [
        "Όπως ήταν αναμενόμενο, η απόδοση στο test set είναι χαμηλότερη από την απόδοση στο training set."
      ]
    },
    {
      "cell_type": "markdown",
      "metadata": {
        "id": "lQ7kbuUGnt8Y"
      },
      "source": [
        "## Επιθεώρηση του μοντέλου\n",
        "\n",
        "## Γραμμική παλινδρόμηση\n",
        "\n",
        "Θυμηθείτε η γραμμική παλινδρόμηση ταιριάζει ένα γραμμικό μοντέλο με συντελεστές/coeffiecients w = (w1, ..., wp) για την ελαχιστοποίηση του αθροίσματος των τετραγώνων μεταξύ των παρατηρούμενων μεταβλητών-στόχων στο σύνολο δεδομένων και των στόχων που προβλέπονται από τη γραμμική προσέγγιση.\n",
        "\n",
        "Μπορούμε να έχουμε πρόσβαση στα coeffiecients χρησιμοποιώντας .coef_ στην γραμμική παλινδρόμηση μας. \n"
      ]
    },
    {
      "cell_type": "code",
      "execution_count": 14,
      "metadata": {
        "id": "CDr7AXFznt8Z",
        "outputId": "dae82706-d831-44b0-f32c-00eb2b0fb3a1",
        "colab": {
          "base_uri": "https://localhost:8080/"
        }
      },
      "outputs": [
        {
          "output_type": "stream",
          "name": "stdout",
          "text": [
            "[[ 1.15953365e-01 -1.81594265e+00 -1.66810488e-02  9.65149311e-02\n",
            "  -5.13583573e-01  4.74413246e-03 -2.17957734e-04 -1.98333673e+02\n",
            "   8.79948572e-01  6.27189921e-01  1.31644131e-01]]\n"
          ]
        }
      ],
      "source": [
        "# Ποια είναι τα coefficients?\n",
        "coef = lin_regr.coef_\n",
        "print(coef)"
      ]
    },
    {
      "cell_type": "code",
      "execution_count": 15,
      "metadata": {
        "id": "fJ8IoKE3nt8Z",
        "outputId": "024df872-17a1-4b6a-d47a-3515373e4507",
        "colab": {
          "base_uri": "https://localhost:8080/"
        }
      },
      "outputs": [
        {
          "output_type": "stream",
          "name": "stdout",
          "text": [
            "<class 'numpy.ndarray'>\n",
            "<class 'list'>\n",
            "[0.11595336528373085, -1.8159426509738594, -0.016681048845222667, 0.09651493113232865, -0.5135835725746709, 0.004744132457673245, -0.0002179577341205885, -198.3336732827694, 0.8799485721205835, 0.627189921170813, 0.13164413133074548]\n"
          ]
        }
      ],
      "source": [
        "# Tα coefficients επιστρέφονται ως numpy array. \n",
        "#Θα μετατρέψουμε αυτό το array σε λίστα για να οπτικοποιήσουμε τα coefficients. \n",
        "print(type(coef))\n",
        "coef = coef.tolist()[0] # μετατροπή σε .tolist()\n",
        "print(type(coef))\n",
        "print(coef)"
      ]
    },
    {
      "cell_type": "code",
      "execution_count": 16,
      "metadata": {
        "id": "v6GiKFQznt8a",
        "outputId": "e03c7157-443b-4601-db97-853b2d379de6",
        "colab": {
          "base_uri": "https://localhost:8080/"
        }
      },
      "outputs": [
        {
          "output_type": "stream",
          "name": "stdout",
          "text": [
            "['fixed acidity', 'volatile acidity', 'citric acid', 'residual sugar', 'chlorides', 'free sulfur dioxide', 'total sulfur dioxide', 'density', 'pH', 'sulphates', 'alcohol']\n"
          ]
        }
      ],
      "source": [
        "# Πάρτε τις ετικέτες για τα χαρακτηριστικά ως λίστα. \n",
        "# Επιστρέφει μια λίστα των χαρακτηριστικών εκτός από το target (quality)\n",
        "labels = df_wine.columns.values[:-1].tolist()\n",
        "print(labels)"
      ]
    },
    {
      "cell_type": "code",
      "execution_count": 17,
      "metadata": {
        "id": "s5PxybdWnt8a",
        "outputId": "9fe18a11-a8b8-410d-837b-3fd6da43116f",
        "colab": {
          "base_uri": "https://localhost:8080/",
          "height": 676
        }
      },
      "outputs": [
        {
          "output_type": "display_data",
          "data": {
            "text/plain": [
              "<Figure size 640x480 with 1 Axes>"
            ],
            "image/png": "[encoded data removed]"
          },
          "metadata": {}
        }
      ],
      "source": [
        "# Plot τα coefficients για κάθε feature\n",
        "fig = plt.figure()\n",
        "ax = fig.add_axes([0, 0, 1, 1])\n",
        "plt.xticks(rotation=90)\n",
        "ax.bar(labels, coef)\n",
        "plt.xlabel('Features')\n",
        "plt.ylabel('coefficient values')\n",
        "plt.show()"
      ]
    },
    {
      "cell_type": "markdown",
      "metadata": {
        "id": "or7yiB0Mnt8a"
      },
      "source": [
        "Ας ρίξουμε μια ματιά στους συντελεστές μας. Ποιος είναι ο πιο σημαντικός;\n",
        "Λοιπόν, σε αυτό το σημείο δεν μπορούμε πραγματικά να πούμε. Το πρόβλημα είναι οι διαφορετικές κλίμακες των χαρακτηριστικών μας. Ας ρίξουμε άλλη μια ματιά στις τιμές των δεδομένων μας."
      ]
    },
    {
      "cell_type": "code",
      "execution_count": 18,
      "metadata": {
        "id": "K6P3AIdint8b",
        "outputId": "635c06eb-2e50-4362-884b-6d7e3de19749",
        "colab": {
          "base_uri": "https://localhost:8080/",
          "height": 206
        }
      },
      "outputs": [
        {
          "output_type": "execute_result",
          "data": {
            "text/plain": [
              "   fixed acidity  volatile acidity  citric acid  residual sugar  chlorides  \\\n",
              "0            7.0              0.27         0.36            20.7      0.045   \n",
              "1            6.3              0.30         0.34             1.6      0.049   \n",
              "2            8.1              0.28         0.40             6.9      0.050   \n",
              "3            7.2              0.23         0.32             8.5      0.058   \n",
              "4            7.2              0.23         0.32             8.5      0.058   \n",
              "\n",
              "   free sulfur dioxide  total sulfur dioxide  density    pH  sulphates  \\\n",
              "0                 45.0                 170.0   1.0010  3.00       0.45   \n",
              "1                 14.0                 132.0   0.9940  3.30       0.49   \n",
              "2                 30.0                  97.0   0.9951  3.26       0.44   \n",
              "3                 47.0                 186.0   0.9956  3.19       0.40   \n",
              "4                 47.0                 186.0   0.9956  3.19       0.40   \n",
              "\n",
              "   alcohol  \n",
              "0      8.8  \n",
              "1      9.5  \n",
              "2     10.1  \n",
              "3      9.9  \n",
              "4      9.9  "
            ],
            "text/html": [
              "\n",
              "  <div id=\"df-2f423841-23e0-4ffe-b4dd-c6781811ccff\">\n",
              "    <div class=\"colab-df-container\">\n",
              "      <div>\n",
              "<style scoped>\n",
              "    .dataframe tbody tr th:only-of-type {\n",
              "        vertical-align: middle;\n",
              "    }\n",
              "\n",
              "    .dataframe tbody tr th {\n",
              "        vertical-align: top;\n",
              "    }\n",
              "\n",
              "    .dataframe thead th {\n",
              "        text-align: right;\n",
              "    }\n",
              "</style>\n",
              "<table border=\"1\" class=\"dataframe\">\n",
              "  <thead>\n",
              "    <tr style=\"text-align: right;\">\n",
              "      <th></th>\n",
              "      <th>fixed acidity</th>\n",
              "      <th>volatile acidity</th>\n",
              "      <th>citric acid</th>\n",
              "      <th>residual sugar</th>\n",
              "      <th>chlorides</th>\n",
              "      <th>free sulfur dioxide</th>\n",
              "      <th>total sulfur dioxide</th>\n",
              "      <th>density</th>\n",
              "      <th>pH</th>\n",
              "      <th>sulphates</th>\n",
              "      <th>alcohol</th>\n",
              "    </tr>\n",
              "  </thead>\n",
              "  <tbody>\n",
              "    <tr>\n",
              "      <th>0</th>\n",
              "      <td>7.0</td>\n",
              "      <td>0.27</td>\n",
              "      <td>0.36</td>\n",
              "      <td>20.7</td>\n",
              "      <td>0.045</td>\n",
              "      <td>45.0</td>\n",
              "      <td>170.0</td>\n",
              "      <td>1.0010</td>\n",
              "      <td>3.00</td>\n",
              "      <td>0.45</td>\n",
              "      <td>8.8</td>\n",
              "    </tr>\n",
              "    <tr>\n",
              "      <th>1</th>\n",
              "      <td>6.3</td>\n",
              "      <td>0.30</td>\n",
              "      <td>0.34</td>\n",
              "      <td>1.6</td>\n",
              "      <td>0.049</td>\n",
              "      <td>14.0</td>\n",
              "      <td>132.0</td>\n",
              "      <td>0.9940</td>\n",
              "      <td>3.30</td>\n",
              "      <td>0.49</td>\n",
              "      <td>9.5</td>\n",
              "    </tr>\n",
              "    <tr>\n",
              "      <th>2</th>\n",
              "      <td>8.1</td>\n",
              "      <td>0.28</td>\n",
              "      <td>0.40</td>\n",
              "      <td>6.9</td>\n",
              "      <td>0.050</td>\n",
              "      <td>30.0</td>\n",
              "      <td>97.0</td>\n",
              "      <td>0.9951</td>\n",
              "      <td>3.26</td>\n",
              "      <td>0.44</td>\n",
              "      <td>10.1</td>\n",
              "    </tr>\n",
              "    <tr>\n",
              "      <th>3</th>\n",
              "      <td>7.2</td>\n",
              "      <td>0.23</td>\n",
              "      <td>0.32</td>\n",
              "      <td>8.5</td>\n",
              "      <td>0.058</td>\n",
              "      <td>47.0</td>\n",
              "      <td>186.0</td>\n",
              "      <td>0.9956</td>\n",
              "      <td>3.19</td>\n",
              "      <td>0.40</td>\n",
              "      <td>9.9</td>\n",
              "    </tr>\n",
              "    <tr>\n",
              "      <th>4</th>\n",
              "      <td>7.2</td>\n",
              "      <td>0.23</td>\n",
              "      <td>0.32</td>\n",
              "      <td>8.5</td>\n",
              "      <td>0.058</td>\n",
              "      <td>47.0</td>\n",
              "      <td>186.0</td>\n",
              "      <td>0.9956</td>\n",
              "      <td>3.19</td>\n",
              "      <td>0.40</td>\n",
              "      <td>9.9</td>\n",
              "    </tr>\n",
              "  </tbody>\n",
              "</table>\n",
              "</div>\n",
              "      <button class=\"colab-df-convert\" onclick=\"convertToInteractive('df-2f423841-23e0-4ffe-b4dd-c6781811ccff')\"\n",
              "              title=\"Convert this dataframe to an interactive table.\"\n",
              "              style=\"display:none;\">\n",
              "        \n",
              "  <svg xmlns=\"http://www.w3.org/2000/svg\" height=\"24px\"viewBox=\"0 0 24 24\"\n",
              "       width=\"24px\">\n",
              "    <path d=\"M0 0h24v24H0V0z\" fill=\"none\"/>\n",
              "    <path d=\"M18.56 5.44l.94 2.06.94-2.06 2.06-.94-2.06-.94-.94-2.06-.94 2.06-2.06.94zm-11 1L8.5 8.5l.94-2.06 2.06-.94-2.06-.94L8.5 2.5l-.94 2.06-2.06.94zm10 10l.94 2.06.94-2.06 2.06-.94-2.06-.94-.94-2.06-.94 2.06-2.06.94z\"/><path d=\"M17.41 7.96l-1.37-1.37c-.4-.4-.92-.59-1.43-.59-.52 0-1.04.2-1.43.59L10.3 9.45l-7.72 7.72c-.78.78-.78 2.05 0 2.83L4 21.41c.39.39.9.59 1.41.59.51 0 1.02-.2 1.41-.59l7.78-7.78 2.81-2.81c.8-.78.8-2.07 0-2.86zM5.41 20L4 18.59l7.72-7.72 1.47 1.35L5.41 20z\"/>\n",
              "  </svg>\n",
              "      </button>\n",
              "      \n",
              "  <style>\n",
              "    .colab-df-container {\n",
              "      display:flex;\n",
              "      flex-wrap:wrap;\n",
              "      gap: 12px;\n",
              "    }\n",
              "\n",
              "    .colab-df-convert {\n",
              "      background-color: #E8F0FE;\n",
              "      border: none;\n",
              "      border-radius: 50%;\n",
              "      cursor: pointer;\n",
              "      display: none;\n",
              "      fill: #1967D2;\n",
              "      height: 32px;\n",
              "      padding: 0 0 0 0;\n",
              "      width: 32px;\n",
              "    }\n",
              "\n",
              "    .colab-df-convert:hover {\n",
              "      background-color: #E2EBFA;\n",
              "      box-shadow: 0px 1px 2px rgba(60, 64, 67, 0.3), 0px 1px 3px 1px rgba(60, 64, 67, 0.15);\n",
              "      fill: #174EA6;\n",
              "    }\n",
              "\n",
              "    [theme=dark] .colab-df-convert {\n",
              "      background-color: #3B4455;\n",
              "      fill: #D2E3FC;\n",
              "    }\n",
              "\n",
              "    [theme=dark] .colab-df-convert:hover {\n",
              "      background-color: #434B5C;\n",
              "      box-shadow: 0px 1px 3px 1px rgba(0, 0, 0, 0.15);\n",
              "      filter: drop-shadow(0px 1px 2px rgba(0, 0, 0, 0.3));\n",
              "      fill: #FFFFFF;\n",
              "    }\n",
              "  </style>\n",
              "\n",
              "      <script>\n",
              "        const buttonEl =\n",
              "          document.querySelector('#df-2f423841-23e0-4ffe-b4dd-c6781811ccff button.colab-df-convert');\n",
              "        buttonEl.style.display =\n",
              "          google.colab.kernel.accessAllowed ? 'block' : 'none';\n",
              "\n",
              "        async function convertToInteractive(key) {\n",
              "          const element = document.querySelector('#df-2f423841-23e0-4ffe-b4dd-c6781811ccff');\n",
              "          const dataTable =\n",
              "            await google.colab.kernel.invokeFunction('convertToInteractive',\n",
              "                                                     [key], {});\n",
              "          if (!dataTable) return;\n",
              "\n",
              "          const docLinkHtml = 'Like what you see? Visit the ' +\n",
              "            '<a target=\"_blank\" href=https://colab.research.google.com/notebooks/data_table.ipynb>data table notebook</a>'\n",
              "            + ' to learn more about interactive tables.';\n",
              "          element.innerHTML = '';\n",
              "          dataTable['output_type'] = 'display_data';\n",
              "          await google.colab.output.renderOutput(dataTable, element);\n",
              "          const docLink = document.createElement('div');\n",
              "          docLink.innerHTML = docLinkHtml;\n",
              "          element.appendChild(docLink);\n",
              "        }\n",
              "      </script>\n",
              "    </div>\n",
              "  </div>\n",
              "  "
            ]
          },
          "metadata": {},
          "execution_count": 18
        }
      ],
      "source": [
        "X.head()"
      ]
    },
    {
      "cell_type": "markdown",
      "metadata": {
        "id": "-OPknyoUnt8b"
      },
      "source": [
        "Οι γραμμικοί αλγόριθμοι μηχανικής εκμάθησης ταιριάζουν/fit σε ένα μοντέλο στο οποίο η πρόβλεψη είναι το σταθμισμένο άθροισμα των τιμών εισόδου .\n",
        "\n",
        "Αυτοί οι αλγόριθμοι βρίσκουν ένα σύνολο συντελεστών που θα χρησιμοποιηθούν στο σταθμισμένο άθροισμα για να κάνουν μια πρόβλεψη. Αυτοί οι συντελεστές μπορούν να χρησιμοποιηθούν άμεσα ως βαθμολογία σπουδαιότητας χαρακτηριστικών (feature importance score). Ωστόσο, υπάρχει ένα πρόβλημα. Τα βάρη εξαρτώνται από την κλίμακα της μεταβλητής εισόδου. Τα βάρη είναι μικρά εάν οι τιμές μιας μεταβλητής είναι μεγάλες και αντίστροφα. Ένας τρόπος αντιμετώπισης αυτού του προβλήματος είναι το standardization.\n",
        "\n",
        "\n",
        "**Μικρή επανάληψη του standardization:** \n",
        "\n",
        "Το standardization είναι η διαδικασία τοποθέτησης διαφορετικών μεταβλητών στην ίδια κλίμακα. Αυτή η διαδικασία σάς επιτρέπει να συγκρίνετε βαθμολογίες μεταξύ διαφορετικών τύπων μεταβλητών. Συνήθως, για να τυποποιήσετε μεταβλητές, υπολογίζετε τη μέση και τυπική απόκλιση για μια μεταβλητή. Στη συνέχεια, για κάθε παρατηρούμενη τιμή της μεταβλητής, αφαιρείτε τη μέση τιμή και διαιρείτε με την τυπική απόκλιση.\n",
        "\n",
        "Μέσα στο **Scikit learn** μπορούμε να χρησιμοποιήσουμε το StandardScaler."
      ]
    },
    {
      "cell_type": "code",
      "execution_count": 19,
      "metadata": {
        "id": "WIyJl7zpnt8b"
      },
      "outputs": [],
      "source": [
        "# Είσοδος του standardizer package\n",
        "from sklearn.preprocessing import StandardScaler\n",
        "# Διαχωρισμός σε training και test set\n",
        "X_train, X_test, y_train, y_test = train_test_split(X,y, test_size=0.25, random_state=0)\n",
        "#############################################################################\n",
        "# Εδώ είναι το StandardScaler application\n",
        "# Standardize data using StandardScaler - \n",
        "# Create and fit StandardScaler\n",
        "scaler_features = StandardScaler(copy=True, with_mean=True, with_std=True).fit(X_train)\n",
        "scaler_targets = StandardScaler(copy=True, with_mean=True, with_std=True).fit(y_train)\n",
        "# Transform the data\n",
        "X_train = scaler_features.transform(X_train)\n",
        "y_train = scaler_targets.transform(y_train)\n",
        "X_test = scaler_features.transform(X_test)\n",
        "y_test = scaler_targets.transform(y_test)\n",
        "#############################################################################\n",
        "# Από εδώ και στο εξής κάνουμε τα συνηθισμένα βήματα \n",
        "# Δημιουργία του Regressor \n",
        "lin_regr = LinearRegression()\n",
        "# Fitting του Regression\n",
        "lin_regr.fit(X_train, y_train)\n",
        "# Test regressor \n",
        "y_pred_test = lin_regr.predict(X_test)\n",
        "y_pred_train = lin_regr.predict(X_train)\n",
        "# υπολογισμός μετρικών (π.χ. r2)\n",
        "r2_test = r2_score(y_test, y_pred_test)\n",
        "r2_train = r2_score(y_train, y_pred_train)\n",
        "# Παίρνουμε τα coefficients \n",
        "coef = lin_regr.coef_.tolist()[0]"
      ]
    },
    {
      "cell_type": "code",
      "execution_count": 20,
      "metadata": {
        "id": "gqF8K9VJnt8c",
        "outputId": "c92ecc08-ebca-4121-d4df-96081bec26c2",
        "colab": {
          "base_uri": "https://localhost:8080/"
        }
      },
      "outputs": [
        {
          "output_type": "stream",
          "name": "stdout",
          "text": [
            "0.24380039034361067\n",
            "0.29167618400020867\n"
          ]
        }
      ],
      "source": [
        "# Το μοντέλο μας αποδίδει εξίσου καλά\n",
        "print(r2_test)\n",
        "print(r2_train)"
      ]
    },
    {
      "cell_type": "code",
      "execution_count": 21,
      "metadata": {
        "id": "vQS6VfLXnt8c",
        "outputId": "62919a57-2d84-4bb5-ff20-a8682d5406ff",
        "colab": {
          "base_uri": "https://localhost:8080/"
        }
      },
      "outputs": [
        {
          "output_type": "stream",
          "name": "stdout",
          "text": [
            "[0.10941402566309337, -0.20852613199671235, -0.0022724468414602045, 0.5511611672163437, -0.012982560086368616, 0.09175746502552021, -0.010510238971853068, -0.6651319646990241, 0.15155387595843098, 0.08332294354747853, 0.18513486257579212]\n"
          ]
        }
      ],
      "source": [
        "# Ας δούμε τα coefficients\n",
        "print(coef)"
      ]
    },
    {
      "cell_type": "code",
      "execution_count": 22,
      "metadata": {
        "id": "BfdJbb9Mnt8d",
        "outputId": "ea17e5f3-8f47-44bd-9a6d-c9e6dc21bd58",
        "colab": {
          "base_uri": "https://localhost:8080/",
          "height": 677
        }
      },
      "outputs": [
        {
          "output_type": "display_data",
          "data": {
            "text/plain": [
              "<Figure size 640x480 with 1 Axes>"
            ],
            "image/png": "[encoded data removed]"
          },
          "metadata": {}
        }
      ],
      "source": [
        "# Δημιουργία της ίδιας γραφικής παράστασης όπως και πριν\n",
        "fig = plt.figure()\n",
        "ax = fig.add_axes([0,0,1,1])\n",
        "plt.xticks(rotation=90)\n",
        "ax.bar(labels,coef)\n",
        "plt.xlabel('Features')\n",
        "plt.ylabel('coefficient values')\n",
        "plt.show()"
      ]
    },
    {
      "cell_type": "markdown",
      "metadata": {
        "id": "tmf72Nlont8d"
      },
      "source": [
        "Τώρα που τα χαρακτηριστικά είναι στην ίδια κλίμακα μπορούμε να συγκρίνουμε τους συντελεστές. \n",
        "\n",
        "Ωστόσο, δεδομένου ότι τους τυποποιήσαμε με το standardition, η συνήθης ερμηνεία των βαρών δεν είναι πλέον αλήθινή. Συνήθως, οι συντελεστές υποδεικνύουν την αύξηση/μείωση κατά μήκος του άξονα y για κάθε μονάδα αύξησης κατά μήκος του άξονα x. \n",
        "Για να μπορέσουμε να ερμηνεύσουμε τους συντελεστές με αυτόν τον τρόπο και πάλι πρέπει να **αντιστρέψουμε** τον μετασχηματισμό που κάναμε.\n"
      ]
    },
    {
      "cell_type": "code",
      "execution_count": 47,
      "metadata": {
        "id": "B3phIu2Dnt8d",
        "colab": {
          "base_uri": "https://localhost:8080/"
        },
        "outputId": "54268ff7-4e64-43c5-b79b-5f3beabdc41c"
      },
      "outputs": [
        {
          "output_type": "stream",
          "name": "stdout",
          "text": [
            "[[6.94963192e+00 2.57598095e-01 3.32737615e-01 9.09231218e+00\n",
            "  4.55800378e-02 3.68579049e+01 1.38085478e+02 9.92044231e-01\n",
            "  3.21094012e+00 5.00013435e-01 1.07487563e+01]]\n"
          ]
        }
      ],
      "source": [
        "# αντίστροφος μετασχηματισμός συντελεστών. \n",
        "\n",
        "coef_reshaped = np.array(coef).reshape(1, -1)\n",
        "coef_retransformed = scaler_features.inverse_transform(coef_reshaped)\n",
        "print(coef_retransformed)"
      ]
    },
    {
      "cell_type": "markdown",
      "metadata": {
        "id": "RAFhJgqQnt8e"
      },
      "source": [
        "Συνοψίζοντας: πρέπει να τυποποιήσουμε/standardize τα χαρακτηριστικά μας πριν τα βάλουμε στο μοντέλο γραμμικής παλινδρόμησης. Αυτό μας επιτρέπει να συγκρίνουμε τη σημασία τους μεταξύ τους. \n",
        "Προκειμένου να ερμηνεύσουμε την επίδρασή τους στη μεταβλητή στόχο μας με το συνηθισμένο τρόπο πρέπει να αντιστρέψουμε τον εφαρμοζόμενο μετασχηματισμό που κάναμε για να πάρουμε πίσω το βάρος στην κλίμακα των αρχικών δεδομένων.  "
      ]
    },
    {
      "cell_type": "markdown",
      "metadata": {
        "id": "3mIbKKThnt8e"
      },
      "source": [
        "## Decision Trees \n",
        "\n",
        "Όταν επιθεωρούμε ένα γραμμικό μοντέλο παλινδρόμησης, εξετάζουμε από κοντά τους συντελεστές για να κατανοήσουμε τα χαρακτηριστικά μας και την σημασία τους. \n",
        "Σε μεθόδους που βασίζονται σε δέντρα δεν υπάρχουν συντελεστές όπως αυτοί στη γραμμική παλινδρόμηση. Ωστόσο, μπορούμε να επιθεωρήσουμε τη σημασία των χαρακτηριστικών μας, όπως μετράται από τη συμβολή τους στη μείωση σφαλμάτων.\n",
        "Η σημασία ενός χαρακτηριστικού υπολογίζεται ως η (κανονικοποιημένη) συνολική μείωση του κριτηρίου που αποφέρει αυτή αυτό το χαρακτηριστικό, π.χ. πόσο μειώνεται το MSE κατά ένα συγκεκριμένο χαρακτηριστικό. "
      ]
    },
    {
      "cell_type": "code",
      "execution_count": 25,
      "metadata": {
        "id": "OJZTP4Ptnt8e"
      },
      "outputs": [],
      "source": [
        "# Σημείωση: Δεν θα χρειαστεί να ξανακάνουμε το standarization δεδομένου ότι τα δεδομένα είναι ακόμα τυποποιημένα.\n",
        "# Ωστόσο, το αφήσαμε μέσα ώστε να μπορείτε να κάνετε εναλλαγή μεταξύ τυποποιημένων / μη τυποποιημένων.\n",
        "# δοκιμάστε το και με τους δύο τρόπους και παρατηρήστε τι συμβαίνει!\n",
        "\n",
        "# Προετοιμασία features και target - προετοιμασμένα για επαναφόρτωση των δεδομένων / διερεύνηση του standarization\n",
        "X = df_wine.drop(columns='quality')\n",
        "y = df_wine.quality.values.reshape(-1, 1)\n",
        "# Split σε training και test set\n",
        "X_train, X_test, y_train, y_test = train_test_split(X,y, test_size=0.25, random_state=0)\n",
        "# Create and fit StandardScaler\n",
        "scaler_features = StandardScaler(copy=True, with_mean=True, with_std=True).fit(X_train)\n",
        "# Transform the data\n",
        "X_train = scaler_features.transform(X_train)\n",
        "X_test = scaler_features.transform(X_test)\n",
        "# Δημιουργία του Regressor, με max_depth=6\n",
        "dec_tree = DecisionTreeRegressor(max_depth=6)\n",
        "# Fitting το Decision tree\n",
        "dec_tree.fit(X_train, y_train)\n",
        "# Test τον Decision tree με τα test data (και τα training data για να τα συγκρίνουμε)\n",
        "y_pred_test = dec_tree.predict(X_test)\n",
        "y_pred_train = dec_tree.predict(X_train)\n",
        "# Yπολογισμός μετρικών (π.χ. r2)\n",
        "r2_test = r2_score(y_test, y_pred_test)\n",
        "r2_train = r2_score(y_train, y_pred_train)"
      ]
    },
    {
      "cell_type": "code",
      "execution_count": null,
      "metadata": {
        "id": "_ZmGLMXKnt8f"
      },
      "outputs": [],
      "source": [
        "print(r2_test)\n",
        "print(r2_train)"
      ]
    },
    {
      "cell_type": "code",
      "execution_count": 36,
      "metadata": {
        "id": "ohon5yhqnt8f",
        "colab": {
          "base_uri": "https://localhost:8080/"
        },
        "outputId": "efacc15f-0558-458f-a43d-8536ce9bba06"
      },
      "outputs": [
        {
          "output_type": "stream",
          "name": "stdout",
          "text": [
            "[0.01735234 0.20919151 0.01684266 0.04150049 0.02153635 0.11687143\n",
            " 0.00391773 0.01232834 0.04209877 0.03379869 0.4845617 ]\n"
          ]
        }
      ],
      "source": [
        "# Η σημασία των χαρακτηριστικών υπολογίζεται αυτόματα κατά την εκπαίδευση του DT και αποθηκεύεται στη μεταβλητή feature_importance_\n",
        "print(dec_tree.feature_importances_)"
      ]
    },
    {
      "cell_type": "code",
      "execution_count": 37,
      "metadata": {
        "id": "CerMCWq0nt8f",
        "colab": {
          "base_uri": "https://localhost:8080/"
        },
        "outputId": "17e6536c-298a-4ebb-b547-7911674bf17b"
      },
      "outputs": [
        {
          "output_type": "stream",
          "name": "stdout",
          "text": [
            "[0.01735233788156423, 0.20919150588596358, 0.016842657389061225, 0.041500493659905754, 0.02153635390563991, 0.11687142820390498, 0.003917726810151947, 0.012328342154703022, 0.042098767238558606, 0.033798688799714226, 0.4845616980708326]\n"
          ]
        }
      ],
      "source": [
        "# Μετατροπή features importance σε list\n",
        "feat_imp = dec_tree.feature_importances_.tolist()\n",
        "print(feat_imp)"
      ]
    },
    {
      "cell_type": "code",
      "execution_count": 38,
      "metadata": {
        "id": "55_4tfz2nt8g",
        "colab": {
          "base_uri": "https://localhost:8080/",
          "height": 676
        },
        "outputId": "85a7c470-328d-45f3-e3e0-2d14a0688cac"
      },
      "outputs": [
        {
          "output_type": "display_data",
          "data": {
            "text/plain": [
              "<Figure size 640x480 with 1 Axes>"
            ],
            "image/png": "[encoded data removed]"
          },
          "metadata": {}
        }
      ],
      "source": [
        "# Δημιουργήστε την ίδια γραφική παράσταση όπως και για στο γραμμικό μοντέλο\n",
        "fig = plt.figure()\n",
        "ax = fig.add_axes([0, 0, 1, 1])\n",
        "plt.xticks(rotation=90)\n",
        "ax.bar(labels,feat_imp)\n",
        "plt.xlabel('Features')\n",
        "plt.ylabel('Feature Importances - Decision Tree')\n",
        "plt.show()"
      ]
    },
    {
      "cell_type": "markdown",
      "metadata": {
        "id": "lIJtd47nnt8g"
      },
      "source": [
        "Εδώ βλέπουμε τις συνεισφορές κάθε χαρακτηριστικού στη γενική μείωση MSE του δέντρου απόφασης. Τα αποτελέσματα δεν είναι τα ίδια όπως στη γραμμική παλινδρόμηση. Τα χαρακτηριστικά έχουν άλλη σημασία. Αυτό είναι λογικό, δεδομένου ότι η απόδοση των δύο μεθόδων δεν είναι η ίδια επίσης.\n",
        "\n",
        "Μια ακόμη σημείωση είναι η τυποποίηση σε μεθόδους που βασίζονται σε δέντρα:\n",
        "Οι αλγόριθμοι που βασίζονται σε δέντρα είναι αρκετά αναίσθητοι στην κλίμακα των δυνατοτήτων. Σκεφτείτε το, ένα δέντρο αποφάσεων διαιρεί μόνο έναν κόμβο βασισμένο σε ένα ενιαίο χαρακτηριστικό γνώρισμα. Το δέντρο απόφασης διαιρεί έναν κόμβο σε ένα χαρακτηριστικό που αυξάνει την ομοιογένεια του κόμβου/μειώνει το σφάλμα. Αυτή η διαίρεση σε ένα χαρακτηριστικό δεν επηρεάζεται από άλλα χαρακτηριστικά.\n",
        "\n",
        "Εξερευνήστε αυτή τη συμπεριφορά στο παραπάνω παράδειγμα με  comment/uncomment τις γραμμές κώδικα που υλοποιεί την τυποποίηση ! :)\n",
        "\n",
        "Ας συνεχίσουμε με το τυχαίο δάσος που μοιάζει με  το δέντρο αποφάσεων. "
      ]
    },
    {
      "cell_type": "markdown",
      "metadata": {
        "id": "8Se0-UOynt8g"
      },
      "source": [
        "## Random Forest"
      ]
    },
    {
      "cell_type": "code",
      "execution_count": 39,
      "metadata": {
        "id": "tJbO3jUint8g"
      },
      "outputs": [],
      "source": [
        "# Split σε training και test set\n",
        "X_train, X_test, y_train, y_test = train_test_split(X,y, test_size=0.25, random_state=0)\n",
        "# Create and fit StandardScaler\n",
        "scaler_features = StandardScaler(copy=True, with_mean=True, with_std=True).fit(X_train)\n",
        "scaler_targets = StandardScaler(copy=True, with_mean=True, with_std=True).fit(y_train)\n",
        "# Transform the data\n",
        "X_train = scaler_features.transform(X_train)\n",
        "y_train = np.ravel(scaler_targets.transform(y_train))\n",
        "X_test = scaler_features.transform(X_test)\n",
        "y_test = np.ravel(scaler_targets.transform(y_test))\n",
        "# Δημιουργία του Regressor, με λίγα n_estimators για να  μην πάρει πολύ χρόνο\n",
        "rf_regr = RandomForestRegressor(n_estimators=50)\n",
        "# Fitting το RF\n",
        "rf_regr.fit(X_train, y_train)\n",
        "# Test το RF με test data (και τα training data για να τα συγκρίνουμε)\n",
        "y_pred_test = rf_regr.predict(X_test)\n",
        "y_pred_train = rf_regr.predict(X_train)\n",
        "# Yπολογισμός μετρικών (π.χ. r2)\n",
        "r2_test = r2_score(y_test, y_pred_test)\n",
        "r2_train = r2_score(y_train, y_pred_train)"
      ]
    },
    {
      "cell_type": "code",
      "execution_count": 40,
      "metadata": {
        "id": "gQqVQDnont8h",
        "colab": {
          "base_uri": "https://localhost:8080/"
        },
        "outputId": "a0ab8e33-d4e3-4d01-fc8b-9c79a63ebed8"
      },
      "outputs": [
        {
          "output_type": "stream",
          "name": "stdout",
          "text": [
            "0.43852347625303556\n",
            "0.9320504708071663\n"
          ]
        }
      ],
      "source": [
        "print(r2_test)\n",
        "print(r2_train)"
      ]
    },
    {
      "cell_type": "code",
      "execution_count": 41,
      "metadata": {
        "id": "fPRv5Jdcnt8h",
        "colab": {
          "base_uri": "https://localhost:8080/"
        },
        "outputId": "48ec63ec-70fa-44c3-a2ff-73e583cc62bc"
      },
      "outputs": [
        {
          "output_type": "stream",
          "name": "stdout",
          "text": [
            "[0.05806680417790654, 0.1273160134909288, 0.0586374652844005, 0.06922554833746673, 0.06369002403426599, 0.11454977910821688, 0.06693448621951473, 0.05606673436162509, 0.07280510101622312, 0.06343892680281144, 0.24926911716664032]\n"
          ]
        }
      ],
      "source": [
        "# Η σημασία των χαρακτηριστικών υπολογίζεται αυτόματα κατά την εκπαίδευση του DT και αποθηκεύεται στη μεταβλητή feature_importance_\n",
        "rf_feat_imp = rf_regr.feature_importances_.tolist()\n",
        "print(rf_feat_imp)"
      ]
    },
    {
      "cell_type": "code",
      "execution_count": 42,
      "metadata": {
        "id": "LusLQahtnt8h",
        "colab": {
          "base_uri": "https://localhost:8080/",
          "height": 676
        },
        "outputId": "a6f83d6d-df81-4de3-887a-173ba94d920c"
      },
      "outputs": [
        {
          "output_type": "display_data",
          "data": {
            "text/plain": [
              "<Figure size 640x480 with 1 Axes>"
            ],
            "image/png": "[encoded data removed]"
          },
          "metadata": {}
        }
      ],
      "source": [
        "# Το ίδιο γράφημα με πριν\n",
        "fig = plt.figure()\n",
        "ax = fig.add_axes([0,0,1,1])\n",
        "plt.xticks(rotation=90)\n",
        "ax.bar(labels,rf_feat_imp)\n",
        "plt.xlabel('Features')\n",
        "plt.ylabel('Feature Importances -  Random Forest')\n",
        "plt.show()"
      ]
    },
    {
      "cell_type": "markdown",
      "metadata": {
        "id": "kdQSmNT2nt8i"
      },
      "source": [
        "# Συγχαρητήρια!\n",
        "\n",
        "Επεκτείνατε τις γνώσεις σας από την προηγούμενη εβδομάδα. Τώρα ξέρετε πώς να αξιολογήσετε ένα μοντέλο σχετικά με ποιο χαρακτηριστικό γνώρισμα είναι σημαντικό για τις προβλέψεις."
      ]
    },
    {
      "cell_type": "markdown",
      "metadata": {
        "id": "5T1EfAJEnt8s"
      },
      "source": [
        "# Άσκηση\n",
        "\n",
        "Τώρα θα ξαναδούμε το σύνολο δεδομένων California housing dataset . Γνωρίζουμε ήδη πώς να προβλέψουμε τις τιμές, αλλά δεν γνωρίζουμε ακόμα ποιες είναι οι σημαντικές μεταβλητές για να γίνει αυτό. \n",
        "\n",
        "Εισαγάγετε το σετ κατοικιών της California. Κάντε όλα τα συνήθη βήματα της προετοιμασίας των δεδομένων και το training και testing. Δεν χρειάζεται να ανησυχείτε για το cross-validation (χρησιμοποιήστε ένα train-test split όπως κάναμε σε αυτές τις ασκήσεις). Αντ'αυτού πάρτε το χρόνο σας και εξερευνήστε τις συνεισφορές των χαρακτηριστικών χρησιμοποιώντας τη γραμμική παλινδρόμηση, τα δέντρα απόφασης και τα τυχαία δάση.  "
      ]
    },
    {
      "cell_type": "code",
      "execution_count": 43,
      "metadata": {
        "id": "M5bIFYNCnt8s"
      },
      "outputs": [],
      "source": [
        "# Import \n",
        "from sklearn.datasets import fetch_california_housing\n",
        "california_set = fetch_california_housing()"
      ]
    }
  ],
  "metadata": {
    "kernelspec": {
      "display_name": "Python 3",
      "language": "python",
      "name": "python3"
    },
    "language_info": {
      "codemirror_mode": {
        "name": "ipython",
        "version": 3
      },
      "file_extension": ".py",
      "mimetype": "text/x-python",
      "name": "python",
      "nbconvert_exporter": "python",
      "pygments_lexer": "ipython3",
      "version": "3.7.2"
    },
    "colab": {
      "provenance": []
    }
  },
  "nbformat": 4,
  "nbformat_minor": 0
}