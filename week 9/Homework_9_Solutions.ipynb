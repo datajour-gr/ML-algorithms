{
 "cells": [
  {
   "cell_type": "markdown",
   "metadata": {},
   "source": [
    "# Λύσεις άσκησης 9"
   ]
  },
  {
   "cell_type": "code",
   "execution_count": 1,
   "metadata": {},
   "outputs": [],
   "source": [
    "import pandas as pd\n",
    "import numpy as np\n",
    "import matplotlib.pyplot as plt\n",
    "from sklearn.metrics import mean_squared_error, r2_score\n",
    "from sklearn.tree import DecisionTreeRegressor, plot_tree\n",
    "from sklearn.linear_model import LinearRegression\n",
    "from sklearn.ensemble import RandomForestRegressor\n",
    "from sklearn.model_selection import RepeatedKFold, train_test_split\n",
    "from sklearn.preprocessing import StandardScaler\n",
    "from sklearn import datasets"
   ]
  },
  {
   "cell_type": "code",
   "execution_count": 2,
   "metadata": {},
   "outputs": [],
   "source": [
    "boston_set = datasets.load_boston()\n",
    "\n",
    "boston_df = pd.DataFrame(boston_set.data, columns=boston_set.feature_names)\n",
    "\n",
    "boston_df['PRICE'] = pd.Series(boston_set.target)  \n",
    "\n",
    "boston_df.head()\n",
    "\n",
    "X = boston_df.drop(columns = 'PRICE')\n",
    "y = boston_df['PRICE'].values.reshape(-1, 1)\n",
    "\n",
    "labels = boston_df.columns.values[:-1].tolist()"
   ]
  },
  {
   "cell_type": "markdown",
   "metadata": {},
   "source": [
    "## Linear Regression "
   ]
  },
  {
   "cell_type": "code",
   "execution_count": 3,
   "metadata": {},
   "outputs": [
    {
     "name": "stdout",
     "output_type": "stream",
     "text": [
      "0.635463843320213\n",
      "0.7697699488741149\n"
     ]
    }
   ],
   "source": [
    "X_train, X_test, y_train, y_test = train_test_split(X,y, random_state=0)\n",
    "\n",
    "scaler_features = StandardScaler(copy=True, with_mean=True, with_std=True).fit(X_train)\n",
    "\n",
    "X_train = scaler_features.transform(X_train)\n",
    "X_test = scaler_features.transform(X_test)\n",
    "\n",
    "lin_regr = LinearRegression()\n",
    "\n",
    "lin_regr.fit(X_train, y_train)\n",
    "\n",
    "y_pred_test = lin_regr.predict(X_test)\n",
    "y_pred_train = lin_regr.predict(X_train)\n",
    "\n",
    "r2_test = r2_score(y_test, y_pred_test)\n",
    "r2_train = r2_score(y_train, y_pred_train)\n",
    "\n",
    "print(r2_test)\n",
    "print(r2_train)\n",
    "\n",
    "coef = lin_regr.coef_.tolist()[0]"
   ]
  },
  {
   "cell_type": "code",
   "execution_count": 4,
   "metadata": {},
   "outputs": [
    {
     "data": {
      "image/png": "[encoded data removed]",
      "text/plain": [
       "<Figure size 432x288 with 1 Axes>"
      ]
     },
     "metadata": {
      "needs_background": "light"
     },
     "output_type": "display_data"
    }
   ],
   "source": [
    "fig = plt.figure()\n",
    "ax = fig.add_axes([0, 0, 1, 1])\n",
    "plt.xticks(rotation=90)\n",
    "ax.bar(labels,coef)\n",
    "plt.xlabel('Features')\n",
    "plt.ylabel('coefficient values')\n",
    "plt.show()"
   ]
  },
  {
   "cell_type": "code",
   "execution_count": 5,
   "metadata": {},
   "outputs": [
    {
     "name": "stdout",
     "output_type": "stream",
     "text": [
      "[-4.59542207e+00  3.67501175e+01  1.07998820e+01  2.13426049e-01\n",
      "  3.46297308e-01  8.11999044e+00  6.31499207e+01 -2.49909668e+00\n",
      "  2.74359275e+01  7.25220997e+01  1.37669130e+01  4.25774325e+02\n",
      " -1.32794231e+01]\n"
     ]
    }
   ],
   "source": [
    "# inverse transform the coefficients. \n",
    "coef_retransformed = scaler_features.inverse_transform(coef)\n",
    "print(coef_retransformed)"
   ]
  },
  {
   "cell_type": "markdown",
   "metadata": {},
   "source": [
    "Να θυμάστε ότι οι μέθοδοι που βασίζονται σε δέντρα δεν είναι τόσο επιρρεπείς στην κλίμακα των δεδομένων μας όσο η Γραμμική παλινδρόμηση. Επομένως, δεν χρειάζεται να τυποποιήσουμε (standardize) εκ των προτέρων τα δεδομένα μας.\n",
    "Ωστόσο, στο Linear Regression είναι ένα ουσιαστικό βήμα. "
   ]
  },
  {
   "cell_type": "markdown",
   "metadata": {},
   "source": [
    "## Decision Tree"
   ]
  },
  {
   "cell_type": "code",
   "execution_count": 6,
   "metadata": {},
   "outputs": [
    {
     "name": "stdout",
     "output_type": "stream",
     "text": [
      "0.6430917195051447\n",
      "1.0\n"
     ]
    }
   ],
   "source": [
    "X_train, X_test, y_train, y_test = train_test_split(X,y, random_state=0)\n",
    "\n",
    "dec_tree = DecisionTreeRegressor()\n",
    "\n",
    "dec_tree.fit(X_train, y_train)\n",
    "\n",
    "y_pred_test = dec_tree.predict(X_test)\n",
    "y_pred_train = dec_tree.predict(X_train)\n",
    "\n",
    "r2_test = r2_score(y_test, y_pred_test)\n",
    "r2_train = r2_score(y_train, y_pred_train)\n",
    "\n",
    "print(r2_test)\n",
    "print(r2_train)"
   ]
  },
  {
   "cell_type": "code",
   "execution_count": 7,
   "metadata": {},
   "outputs": [
    {
     "name": "stdout",
     "output_type": "stream",
     "text": [
      "[5.35242723e-02 3.01978025e-03 1.08540174e-02 3.60326129e-04\n",
      " 1.89011928e-02 2.40460972e-01 6.28458264e-03 2.98825690e-02\n",
      " 2.57417458e-03 8.76053506e-03 3.11624304e-02 6.59407211e-03\n",
      " 5.87621076e-01]\n"
     ]
    }
   ],
   "source": [
    "print(dec_tree.feature_importances_)"
   ]
  },
  {
   "cell_type": "code",
   "execution_count": 8,
   "metadata": {},
   "outputs": [
    {
     "name": "stdout",
     "output_type": "stream",
     "text": [
      "[0.05352427226864161, 0.0030197802509562164, 0.01085401737734309, 0.00036032612898542944, 0.01890119275138139, 0.24046097188236407, 0.006284582640478094, 0.029882569004489243, 0.0025741745759237915, 0.008760535062092997, 0.031162430390963027, 0.006594072110010427, 0.5876210755563706]\n"
     ]
    }
   ],
   "source": [
    "feat_imp = dec_tree.feature_importances_.tolist()\n",
    "print(feat_imp)"
   ]
  },
  {
   "cell_type": "code",
   "execution_count": 9,
   "metadata": {},
   "outputs": [
    {
     "data": {
      "image/png": "[encoded data removed]",
      "text/plain": [
       "<Figure size 432x288 with 1 Axes>"
      ]
     },
     "metadata": {
      "needs_background": "light"
     },
     "output_type": "display_data"
    }
   ],
   "source": [
    "fig = plt.figure()\n",
    "ax = fig.add_axes([0, 0, 1, 1])\n",
    "plt.xticks(rotation=90)\n",
    "ax.bar(labels,feat_imp)\n",
    "plt.xlabel('Features')\n",
    "plt.ylabel('Feature Importances - Decision Tree')\n",
    "plt.show()"
   ]
  },
  {
   "cell_type": "markdown",
   "metadata": {},
   "source": [
    "## Random Forest\n",
    "\n"
   ]
  },
  {
   "cell_type": "code",
   "execution_count": 10,
   "metadata": {},
   "outputs": [
    {
     "name": "stdout",
     "output_type": "stream",
     "text": [
      "0.797053118057202\n",
      "0.9789996414243541\n"
     ]
    }
   ],
   "source": [
    "y = np.ravel(y) # jsut to avoid a warning\n",
    "# Split data into training and test set\n",
    "X_train, X_test, y_train, y_test = train_test_split(X,y, random_state=0)\n",
    "# Instantiate Regressor, restricting n_estimators only to reduce computation time\n",
    "rf_regr = RandomForestRegressor(n_estimators=50)\n",
    "# Fitting the RF\n",
    "rf_regr.fit(X_train, y_train)\n",
    "# Test RF with test data (and training data to compare them)\n",
    "y_pred_test = rf_regr.predict(X_test)\n",
    "y_pred_train = rf_regr.predict(X_train)\n",
    "# Calc metric (e.g. r2)\n",
    "r2_test = r2_score(y_test, y_pred_test)\n",
    "r2_train = r2_score(y_train, y_pred_train)\n",
    "# Print metrics\n",
    "print(r2_test)\n",
    "print(r2_train)"
   ]
  },
  {
   "cell_type": "code",
   "execution_count": 11,
   "metadata": {},
   "outputs": [],
   "source": [
    "rf_feat_imp = rf_regr.feature_importances_.tolist()"
   ]
  },
  {
   "cell_type": "code",
   "execution_count": 12,
   "metadata": {},
   "outputs": [
    {
     "name": "stdout",
     "output_type": "stream",
     "text": [
      "[0.03476408926471575, 0.0014231552729180607, 0.008744369836132807, 0.0010976707109911226, 0.019931849986298822, 0.45416207263052993, 0.01102771991273531, 0.034525773572196106, 0.006665268582169324, 0.017463668398967024, 0.021689000450414265, 0.011087253719817065, 0.3774181076621144]\n"
     ]
    }
   ],
   "source": [
    "print(rf_feat_imp)"
   ]
  },
  {
   "cell_type": "code",
   "execution_count": 13,
   "metadata": {},
   "outputs": [
    {
     "data": {
      "image/png": "[encoded data removed]",
      "text/plain": [
       "<Figure size 432x288 with 1 Axes>"
      ]
     },
     "metadata": {
      "needs_background": "light"
     },
     "output_type": "display_data"
    }
   ],
   "source": [
    "fig = plt.figure()\n",
    "ax = fig.add_axes([0,0,1,1])\n",
    "plt.xticks(rotation=90)\n",
    "ax.bar(labels,rf_feat_imp)\n",
    "plt.xlabel('Features')\n",
    "plt.ylabel('Feature Importances -  Random Forest')\n",
    "plt.show()"
   ]
  }
 ],
 "metadata": {
  "kernelspec": {
   "display_name": "Python 3",
   "language": "python",
   "name": "python3"
  },
  "language_info": {
   "codemirror_mode": {
    "name": "ipython",
    "version": 3
   },
   "file_extension": ".py",
   "mimetype": "text/x-python",
   "name": "python",
   "nbconvert_exporter": "python",
   "pygments_lexer": "ipython3",
   "version": "3.9.2"
  }
 },
 "nbformat": 4,
 "nbformat_minor": 2
}
