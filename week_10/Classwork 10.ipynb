{
 "cells": [
  {
   "cell_type": "markdown",
   "metadata": {},
   "source": [
    "# Classwork 10 - Ταξινόμηση με χρήση λογιστικής παλινδρόμησης, δέντρων αποφάσεων και τυχαίου δάσους. \n",
    "\n",
    "Μέχρι τώρα έχουμε δει αρκετούς αλγορίθμους που τους χρησιμοποιήσαμε μόνο για παλινδρόμηση. \n",
    "Παράλληλα με τα προβλήματα παλινδρόμησης όμως μπορούμε να λύσουμε και ερωτήσεις όπως π.χ. σε ποια ομάδα, τάξη (class) ανήκει ένα κρασί, ένα σπίτι ή αν ένας όγκος είναι κακοήθης. \n",
    "\n",
    "Εκεί θα επικεντρωθούμε σήμερα, στην πρόβλεψη της κακοήθειας των όγκων.  \n"
   ]
  },
  {
   "cell_type": "code",
   "execution_count": 31,
   "metadata": {},
   "outputs": [],
   "source": [
    "import pandas as pd\n",
    "import numpy as np\n",
    "import matplotlib.pyplot as plt\n",
    "from sklearn.model_selection import RepeatedKFold, train_test_split\n",
    "from sklearn import datasets"
   ]
  },
  {
   "cell_type": "markdown",
   "metadata": {},
   "source": [
    "## Προετοιμασία των δεδομένων"
   ]
  },
  {
   "cell_type": "code",
   "execution_count": 32,
   "metadata": {},
   "outputs": [],
   "source": [
    "# Εισαγωγή δεδομένων\n",
    "cancer_set = datasets.load_breast_cancer()\n",
    "# Μετατροπή\n",
    "cancer_df = pd.DataFrame(cancer_set.data, columns=cancer_set.feature_names)\n",
    "# Προσθέτουμε το target \n",
    "cancer_df['diagnosis'] = pd.Series(cancer_set.target)"
   ]
  },
  {
   "cell_type": "code",
   "execution_count": 33,
   "metadata": {},
   "outputs": [
    {
     "data": {
      "text/html": [
       "<div>\n",
       "<style scoped>\n",
       "    .dataframe tbody tr th:only-of-type {\n",
       "        vertical-align: middle;\n",
       "    }\n",
       "\n",
       "    .dataframe tbody tr th {\n",
       "        vertical-align: top;\n",
       "    }\n",
       "\n",
       "    .dataframe thead th {\n",
       "        text-align: right;\n",
       "    }\n",
       "</style>\n",
       "<table border=\"1\" class=\"dataframe\">\n",
       "  <thead>\n",
       "    <tr style=\"text-align: right;\">\n",
       "      <th></th>\n",
       "      <th>mean radius</th>\n",
       "      <th>mean texture</th>\n",
       "      <th>mean perimeter</th>\n",
       "      <th>mean area</th>\n",
       "      <th>mean smoothness</th>\n",
       "      <th>mean compactness</th>\n",
       "      <th>mean concavity</th>\n",
       "      <th>mean concave points</th>\n",
       "      <th>mean symmetry</th>\n",
       "      <th>mean fractal dimension</th>\n",
       "      <th>...</th>\n",
       "      <th>worst texture</th>\n",
       "      <th>worst perimeter</th>\n",
       "      <th>worst area</th>\n",
       "      <th>worst smoothness</th>\n",
       "      <th>worst compactness</th>\n",
       "      <th>worst concavity</th>\n",
       "      <th>worst concave points</th>\n",
       "      <th>worst symmetry</th>\n",
       "      <th>worst fractal dimension</th>\n",
       "      <th>diagnosis</th>\n",
       "    </tr>\n",
       "  </thead>\n",
       "  <tbody>\n",
       "    <tr>\n",
       "      <th>0</th>\n",
       "      <td>17.99</td>\n",
       "      <td>10.38</td>\n",
       "      <td>122.80</td>\n",
       "      <td>1001.0</td>\n",
       "      <td>0.11840</td>\n",
       "      <td>0.27760</td>\n",
       "      <td>0.3001</td>\n",
       "      <td>0.14710</td>\n",
       "      <td>0.2419</td>\n",
       "      <td>0.07871</td>\n",
       "      <td>...</td>\n",
       "      <td>17.33</td>\n",
       "      <td>184.60</td>\n",
       "      <td>2019.0</td>\n",
       "      <td>0.1622</td>\n",
       "      <td>0.6656</td>\n",
       "      <td>0.7119</td>\n",
       "      <td>0.2654</td>\n",
       "      <td>0.4601</td>\n",
       "      <td>0.11890</td>\n",
       "      <td>0</td>\n",
       "    </tr>\n",
       "    <tr>\n",
       "      <th>1</th>\n",
       "      <td>20.57</td>\n",
       "      <td>17.77</td>\n",
       "      <td>132.90</td>\n",
       "      <td>1326.0</td>\n",
       "      <td>0.08474</td>\n",
       "      <td>0.07864</td>\n",
       "      <td>0.0869</td>\n",
       "      <td>0.07017</td>\n",
       "      <td>0.1812</td>\n",
       "      <td>0.05667</td>\n",
       "      <td>...</td>\n",
       "      <td>23.41</td>\n",
       "      <td>158.80</td>\n",
       "      <td>1956.0</td>\n",
       "      <td>0.1238</td>\n",
       "      <td>0.1866</td>\n",
       "      <td>0.2416</td>\n",
       "      <td>0.1860</td>\n",
       "      <td>0.2750</td>\n",
       "      <td>0.08902</td>\n",
       "      <td>0</td>\n",
       "    </tr>\n",
       "    <tr>\n",
       "      <th>2</th>\n",
       "      <td>19.69</td>\n",
       "      <td>21.25</td>\n",
       "      <td>130.00</td>\n",
       "      <td>1203.0</td>\n",
       "      <td>0.10960</td>\n",
       "      <td>0.15990</td>\n",
       "      <td>0.1974</td>\n",
       "      <td>0.12790</td>\n",
       "      <td>0.2069</td>\n",
       "      <td>0.05999</td>\n",
       "      <td>...</td>\n",
       "      <td>25.53</td>\n",
       "      <td>152.50</td>\n",
       "      <td>1709.0</td>\n",
       "      <td>0.1444</td>\n",
       "      <td>0.4245</td>\n",
       "      <td>0.4504</td>\n",
       "      <td>0.2430</td>\n",
       "      <td>0.3613</td>\n",
       "      <td>0.08758</td>\n",
       "      <td>0</td>\n",
       "    </tr>\n",
       "    <tr>\n",
       "      <th>3</th>\n",
       "      <td>11.42</td>\n",
       "      <td>20.38</td>\n",
       "      <td>77.58</td>\n",
       "      <td>386.1</td>\n",
       "      <td>0.14250</td>\n",
       "      <td>0.28390</td>\n",
       "      <td>0.2414</td>\n",
       "      <td>0.10520</td>\n",
       "      <td>0.2597</td>\n",
       "      <td>0.09744</td>\n",
       "      <td>...</td>\n",
       "      <td>26.50</td>\n",
       "      <td>98.87</td>\n",
       "      <td>567.7</td>\n",
       "      <td>0.2098</td>\n",
       "      <td>0.8663</td>\n",
       "      <td>0.6869</td>\n",
       "      <td>0.2575</td>\n",
       "      <td>0.6638</td>\n",
       "      <td>0.17300</td>\n",
       "      <td>0</td>\n",
       "    </tr>\n",
       "    <tr>\n",
       "      <th>4</th>\n",
       "      <td>20.29</td>\n",
       "      <td>14.34</td>\n",
       "      <td>135.10</td>\n",
       "      <td>1297.0</td>\n",
       "      <td>0.10030</td>\n",
       "      <td>0.13280</td>\n",
       "      <td>0.1980</td>\n",
       "      <td>0.10430</td>\n",
       "      <td>0.1809</td>\n",
       "      <td>0.05883</td>\n",
       "      <td>...</td>\n",
       "      <td>16.67</td>\n",
       "      <td>152.20</td>\n",
       "      <td>1575.0</td>\n",
       "      <td>0.1374</td>\n",
       "      <td>0.2050</td>\n",
       "      <td>0.4000</td>\n",
       "      <td>0.1625</td>\n",
       "      <td>0.2364</td>\n",
       "      <td>0.07678</td>\n",
       "      <td>0</td>\n",
       "    </tr>\n",
       "  </tbody>\n",
       "</table>\n",
       "<p>5 rows × 31 columns</p>\n",
       "</div>"
      ],
      "text/plain": [
       "   mean radius  mean texture  mean perimeter  mean area  mean smoothness  \\\n",
       "0        17.99         10.38          122.80     1001.0          0.11840   \n",
       "1        20.57         17.77          132.90     1326.0          0.08474   \n",
       "2        19.69         21.25          130.00     1203.0          0.10960   \n",
       "3        11.42         20.38           77.58      386.1          0.14250   \n",
       "4        20.29         14.34          135.10     1297.0          0.10030   \n",
       "\n",
       "   mean compactness  mean concavity  mean concave points  mean symmetry  \\\n",
       "0           0.27760          0.3001              0.14710         0.2419   \n",
       "1           0.07864          0.0869              0.07017         0.1812   \n",
       "2           0.15990          0.1974              0.12790         0.2069   \n",
       "3           0.28390          0.2414              0.10520         0.2597   \n",
       "4           0.13280          0.1980              0.10430         0.1809   \n",
       "\n",
       "   mean fractal dimension  ...  worst texture  worst perimeter  worst area  \\\n",
       "0                 0.07871  ...          17.33           184.60      2019.0   \n",
       "1                 0.05667  ...          23.41           158.80      1956.0   \n",
       "2                 0.05999  ...          25.53           152.50      1709.0   \n",
       "3                 0.09744  ...          26.50            98.87       567.7   \n",
       "4                 0.05883  ...          16.67           152.20      1575.0   \n",
       "\n",
       "   worst smoothness  worst compactness  worst concavity  worst concave points  \\\n",
       "0            0.1622             0.6656           0.7119                0.2654   \n",
       "1            0.1238             0.1866           0.2416                0.1860   \n",
       "2            0.1444             0.4245           0.4504                0.2430   \n",
       "3            0.2098             0.8663           0.6869                0.2575   \n",
       "4            0.1374             0.2050           0.4000                0.1625   \n",
       "\n",
       "   worst symmetry  worst fractal dimension  diagnosis  \n",
       "0          0.4601                  0.11890          0  \n",
       "1          0.2750                  0.08902          0  \n",
       "2          0.3613                  0.08758          0  \n",
       "3          0.6638                  0.17300          0  \n",
       "4          0.2364                  0.07678          0  \n",
       "\n",
       "[5 rows x 31 columns]"
      ]
     },
     "execution_count": 33,
     "metadata": {},
     "output_type": "execute_result"
    }
   ],
   "source": [
    "cancer_df.head()"
   ]
  },
  {
   "cell_type": "markdown",
   "metadata": {},
   "source": [
    "Συνολικά έχουμε 569 δείγματα. Τα 212 είναι κακοήθη και τα 357 καλοήθη.  "
   ]
  },
  {
   "cell_type": "code",
   "execution_count": 34,
   "metadata": {},
   "outputs": [
    {
     "data": {
      "text/plain": [
       "1    357\n",
       "0    212\n",
       "Name: diagnosis, dtype: int64"
      ]
     },
     "execution_count": 34,
     "metadata": {},
     "output_type": "execute_result"
    }
   ],
   "source": [
    "cancer_df.diagnosis.value_counts()"
   ]
  },
  {
   "cell_type": "markdown",
   "metadata": {},
   "source": [
    "## Καθάρισμα"
   ]
  },
  {
   "cell_type": "code",
   "execution_count": 35,
   "metadata": {},
   "outputs": [
    {
     "name": "stdout",
     "output_type": "stream",
     "text": [
      "Σύνολο δεδομένων: (569, 31)\n",
      "Κενές τιμές: \n",
      "mean radius                0\n",
      "mean texture               0\n",
      "mean perimeter             0\n",
      "mean area                  0\n",
      "mean smoothness            0\n",
      "mean compactness           0\n",
      "mean concavity             0\n",
      "mean concave points        0\n",
      "mean symmetry              0\n",
      "mean fractal dimension     0\n",
      "radius error               0\n",
      "texture error              0\n",
      "perimeter error            0\n",
      "area error                 0\n",
      "smoothness error           0\n",
      "compactness error          0\n",
      "concavity error            0\n",
      "concave points error       0\n",
      "symmetry error             0\n",
      "fractal dimension error    0\n",
      "worst radius               0\n",
      "worst texture              0\n",
      "worst perimeter            0\n",
      "worst area                 0\n",
      "worst smoothness           0\n",
      "worst compactness          0\n",
      "worst concavity            0\n",
      "worst concave points       0\n",
      "worst symmetry             0\n",
      "worst fractal dimension    0\n",
      "diagnosis                  0\n",
      "dtype: int64\n"
     ]
    }
   ],
   "source": [
    "# Έλεγχος κενών τιμών\n",
    "print(\"Σύνολο δεδομένων: \"+str(cancer_df.shape))\n",
    "print(\"Κενές τιμές: \\n\"+str(cancer_df.isnull().sum()))"
   ]
  },
  {
   "cell_type": "code",
   "execution_count": 36,
   "metadata": {},
   "outputs": [
    {
     "name": "stdout",
     "output_type": "stream",
     "text": [
      "Σύνολο δεδομένων: (569, 31)\n"
     ]
    }
   ],
   "source": [
    "# Παρόλο που δεν έχουμε βρει κενές τιμές, η μεθοδολογία ελέγχου είναι αυτή:\n",
    "# α. λίστα με κενές τιμές\n",
    "missing_values = [\"n/a\", \"na\", \"--\", 999,9999]   \n",
    "# β. Replace \n",
    "cancer_df.replace(to_replace = missing_values, value = np.nan, inplace = True) \n",
    "# γ. Drop NaNs \n",
    "cancer_df.dropna(inplace=True) \n",
    "# δ. Reindex για να μην μείνουν κενά στο index \n",
    "cancer_df.reset_index(drop=True, inplace=True)  \n",
    "# Έλεγχος τιμών\n",
    "print(\"Σύνολο δεδομένων: \"+str(cancer_df.shape))"
   ]
  },
  {
   "cell_type": "code",
   "execution_count": 37,
   "metadata": {},
   "outputs": [
    {
     "data": {
      "text/plain": [
       "357"
      ]
     },
     "execution_count": 37,
     "metadata": {},
     "output_type": "execute_result"
    }
   ],
   "source": [
    "# Έλεγχος πόσα δείγματα είναι κακοήθη.\n",
    "np.sum(cancer_df.diagnosis)"
   ]
  },
  {
   "cell_type": "markdown",
   "metadata": {},
   "source": [
    "## Εξισορρόπηση\n",
    "\n",
    "\n",
    "Μια πτυχή που πρέπει να ληφθεί υπόψη στην ταξινόμηση είναι ο αριθμός των δειγμάτων ανά τάξη. Στα δεδομένα μας έχουμε περίπου 63% καλοήθεις περιπτώσεις. Όταν προβλέπουμε πάντα \"καλοήθη\", θα πετυχαίναμε μεν μεγαλύτερη ακρίβεια από το 50%, αλλά το μοντέλο μας δεν θα πρόβλεπε σωστά. \n",
    "\n",
    "Μια πιθανή λύση είναι να ισορροπήσουμε το dataset επιλέγοντας ίσο αριθμό δειγμάτων και από την τάξη με τα επιπλέον δείγματα.\n"
   ]
  },
  {
   "cell_type": "code",
   "execution_count": 38,
   "metadata": {},
   "outputs": [],
   "source": [
    "# καλοήθεις \n",
    "df_benign = cancer_df[cancer_df['diagnosis'] == 1]\n",
    "# κακοήθεις \n",
    "df_malignant = cancer_df[cancer_df['diagnosis'] == 0]"
   ]
  },
  {
   "cell_type": "code",
   "execution_count": 39,
   "metadata": {},
   "outputs": [
    {
     "name": "stdout",
     "output_type": "stream",
     "text": [
      "Ο αριθμός της τάξης 'καλοήθης': (212, 31)\n",
      "     mean radius  mean texture  mean perimeter  mean area  mean smoothness  \\\n",
      "388       11.270         15.50           73.38      392.0          0.08365   \n",
      "116        8.950         15.76           58.74      245.2          0.09462   \n",
      "58        13.050         19.31           82.61      527.2          0.08060   \n",
      "234        9.567         15.91           60.21      279.6          0.08464   \n",
      "109       11.340         21.26           72.48      396.5          0.08759   \n",
      "\n",
      "     mean compactness  mean concavity  mean concave points  mean symmetry  \\\n",
      "388           0.11140        0.100700             0.027570         0.1810   \n",
      "116           0.12430        0.092630             0.023080         0.1305   \n",
      "58            0.03789        0.000692             0.004167         0.1819   \n",
      "234           0.04087        0.016520             0.016670         0.1551   \n",
      "109           0.06575        0.051330             0.018990         0.1487   \n",
      "\n",
      "     mean fractal dimension  ...  worst texture  worst perimeter  worst area  \\\n",
      "388                 0.07252  ...          18.93            79.73       450.0   \n",
      "116                 0.07163  ...          17.07            63.34       270.0   \n",
      "58                  0.05501  ...          22.25            90.24       624.1   \n",
      "234                 0.06403  ...          19.16            65.74       335.9   \n",
      "109                 0.06529  ...          29.15            83.99       518.1   \n",
      "\n",
      "     worst smoothness  worst compactness  worst concavity  \\\n",
      "388            0.1102            0.28090         0.302100   \n",
      "116            0.1179            0.18790         0.154400   \n",
      "58             0.1021            0.06191         0.001845   \n",
      "234            0.1504            0.09515         0.071610   \n",
      "109            0.1699            0.21960         0.312000   \n",
      "\n",
      "     worst concave points  worst symmetry  worst fractal dimension  diagnosis  \n",
      "388               0.08272          0.2157                  0.10430          1  \n",
      "116               0.03846          0.1652                  0.07722          1  \n",
      "58                0.01111          0.2439                  0.06289          1  \n",
      "234               0.07222          0.2757                  0.08178          1  \n",
      "109               0.08278          0.2829                  0.08832          1  \n",
      "\n",
      "[5 rows x 31 columns]\n",
      "     mean radius  mean texture  mean perimeter  mean area  mean smoothness  \\\n",
      "563        20.92         25.09           143.0     1347.0          0.10990   \n",
      "564        21.56         22.39           142.0     1479.0          0.11100   \n",
      "565        20.13         28.25           131.2     1261.0          0.09780   \n",
      "566        16.60         28.08           108.3      858.1          0.08455   \n",
      "567        20.60         29.33           140.1     1265.0          0.11780   \n",
      "\n",
      "     mean compactness  mean concavity  mean concave points  mean symmetry  \\\n",
      "563            0.2236         0.31740              0.14740         0.2149   \n",
      "564            0.1159         0.24390              0.13890         0.1726   \n",
      "565            0.1034         0.14400              0.09791         0.1752   \n",
      "566            0.1023         0.09251              0.05302         0.1590   \n",
      "567            0.2770         0.35140              0.15200         0.2397   \n",
      "\n",
      "     mean fractal dimension  ...  worst texture  worst perimeter  worst area  \\\n",
      "563                 0.06879  ...          29.41            179.1      1819.0   \n",
      "564                 0.05623  ...          26.40            166.1      2027.0   \n",
      "565                 0.05533  ...          38.25            155.0      1731.0   \n",
      "566                 0.05648  ...          34.12            126.7      1124.0   \n",
      "567                 0.07016  ...          39.42            184.6      1821.0   \n",
      "\n",
      "     worst smoothness  worst compactness  worst concavity  \\\n",
      "563            0.1407             0.4186           0.6599   \n",
      "564            0.1410             0.2113           0.4107   \n",
      "565            0.1166             0.1922           0.3215   \n",
      "566            0.1139             0.3094           0.3403   \n",
      "567            0.1650             0.8681           0.9387   \n",
      "\n",
      "     worst concave points  worst symmetry  worst fractal dimension  diagnosis  \n",
      "563                0.2542          0.2929                  0.09873          0  \n",
      "564                0.2216          0.2060                  0.07115          0  \n",
      "565                0.1628          0.2572                  0.06637          0  \n",
      "566                0.1418          0.2218                  0.07820          0  \n",
      "567                0.2650          0.4087                  0.12400          0  \n",
      "\n",
      "[5 rows x 31 columns]\n"
     ]
    }
   ],
   "source": [
    "# Εξισορρόπηση με resample από το sklearn.utils\n",
    "from sklearn.utils import resample\n",
    "# Resample από την πλειοψηφική τάξη\n",
    "df_benign_downsampled = resample(df_benign, \n",
    "                                 replace=False,    # δεν θέλουμε αντικατάσταση\n",
    "                                 n_samples=212,    # για να ταιριάζει με την τάξη της μειονότητας\n",
    "                                 random_state=123) \n",
    "# Ελέγξτε αν έχουμε τώρα το ίδιο μέγεθος (πρέπει να είναι 212 γραμμές)\n",
    "print(\"Ο αριθμός της τάξης 'καλοήθης': \"+str(df_benign_downsampled.shape))\n",
    "# Ενώστε ξανά τα δύο datasets --> δημιουργεί ένα ισορροπημένο σύνολο δεδομένων\n",
    "cancer_df_balanced = pd.concat([df_benign_downsampled, df_malignant])\n",
    "# Δείτε την πρώτη και την τελευταία γραμμή των δεδομένων μας\n",
    "print(cancer_df_balanced.head())\n",
    "print(cancer_df_balanced.tail())"
   ]
  },
  {
   "cell_type": "markdown",
   "metadata": {},
   "source": [
    "# Λογιστική παλινδρόμηση\n",
    "\n",
    "Η εφαρμογή της λογιστικής παλινδρόμησης μοιάζει πολύ με την εφαρμογή της γραμμικής παλινδρόμησης. Δημιουργούμε ένα αντικείμενο λογιστικής παλινδρόμησης, στην συνέχεια το εκπαιδεύουμε και τελικά το χρησιμοποιούμε για τις προβλέψεις μας. Θα χρησιμοποιήσουμε τη λογιστική παλινδρόμηση και την τεχνική της σταυροειδούς επαλήθευσης (10 επί 10) για να εκτιμήσουμε την απόδοση αυτής της μεθόδου σε αυτό το σύνολο δεδομένων.\n",
    "\n",
    "Σημείωση: Δεν χρησιμοποιούμε πλέον το R² για μέτρηση, αλλά την ακρίβεια (accuracy), επειδή το R2 εφαρμόζεται μόνο σε παλινδρόμηση αλλά όχι σε εργασίες ταξινόμησης.\n",
    "\n",
    "Η ακρίβεια υπολογίζεται ως:\n",
    "\n",
    "Ακρίβεια = πραγματική πρόβλεψη / όλες οι προβλέψεις\n"
   ]
  },
  {
   "cell_type": "code",
   "execution_count": 40,
   "metadata": {},
   "outputs": [],
   "source": [
    "# Import \n",
    "from sklearn.linear_model import LogisticRegression\n",
    "from sklearn.metrics import accuracy_score\n",
    "# Προετοιμασία (διαχωρισμός σε x και y)\n",
    "X = cancer_df_balanced.drop(columns = 'diagnosis')\n",
    "y = cancer_df_balanced['diagnosis']\n",
    "# Ξεκινήστε τη λίστα βαθμολογίας μοντέλου\n",
    "model_score = []\n",
    "# Δημιουργήστε μια λίστα με τις πραγματικές τιμές\n",
    "true_labels = []\n",
    "# Δημιουργήστε τη λίστα των προβλεπόμενων τιμών\n",
    "predicted_labels = []\n",
    "# Ορίστε το αντικείμενο σταυροειδούς επαλήθευσης (cv)\n",
    "our_cv = RepeatedKFold(n_splits=10, n_repeats=10)\n",
    "# Ορίστε το Logistic Regression \n",
    "log_reg = LogisticRegression(penalty='none', random_state=123, solver='saga', max_iter = 10000, warm_start=True)\n",
    "# Λούπα που παράχθηκε από τα κοψίματα του cv\n",
    "for i_train, i_test in our_cv.split(X):\n",
    "    # Ορίστε τα σετς\n",
    "    X_train, X_test, y_train, y_test = X.iloc[i_train], X.iloc[i_test], y.iloc[i_train], y.iloc[i_test]\n",
    "    # Fitting του logistic regression\n",
    "    log_reg.fit(X_train, y_train.astype('int'))\n",
    "    # Πρόβλεψη των δεδομένων του testing σετ\n",
    "    y_pred_test = log_reg.predict(X_test)\n",
    "    # Λήψη βαθμολογίας ακρίβειας\n",
    "    model_score.append(accuracy_score(y_test.astype('int'), y_pred_test.astype('int')))\n",
    "    # Προσθέστε τις αληθινές τιμές στη λίστα\n",
    "    true_labels.extend(y_test.astype('int'))\n",
    "    # Προσθέστε τις προβλεπόμενες τιμές στη λίστα\n",
    "    predicted_labels.extend(y_pred_test.astype('int'))"
   ]
  },
  {
   "cell_type": "markdown",
   "metadata": {},
   "source": [
    "## Απόδοση ταξινόμησης\n",
    "\n",
    "Υπάρχουν διαφορετικές μετρήσεις που χρησιμοποιούνται για την αξιολόγηση της απόδοσης των μοντέλων μας. Ένα κοινώς αποδεκτό μέτρο είναι η ακρίβεια. Υπολογίζουμε το σκορ εντός της σταυροειδούς επαλήθευσης και παίρνουμε το μέσο όρο στο τέλος."
   ]
  },
  {
   "cell_type": "code",
   "execution_count": 41,
   "metadata": {},
   "outputs": [
    {
     "name": "stdout",
     "output_type": "stream",
     "text": [
      "Η μέση ακρίβεια του μοντέλου λογιστικής παλινδρόμησης είναι: 0.908250276854928 %\n"
     ]
    }
   ],
   "source": [
    "#Υπολογίστε τη μέση ακρίβεια κατά την 10 x 10 σταυροειδή επαλήθευση\n",
    "# Χρήση του μέσου όρου για 100 τιμές μέσα στο model_score\n",
    "print(\"Η μέση ακρίβεια του μοντέλου λογιστικής παλινδρόμησης είναι: \"+str(np.mean(model_score))+\" %\")"
   ]
  },
  {
   "cell_type": "markdown",
   "metadata": {},
   "source": [
    "#### Οπτικοποίηση της απόδοσης του μοντέλου\n",
    "\n",
    "Ένας Πίνακας Σύγχυσης (Confusion matrix) είναι ένας καλός τρόπος για να δείτε ποιος τύπος παραδειγμάτων έχει καλή απόδοση / όχι τόσο καλή.\n",
    "\n",
    "Απεικονίζει τις προβλεπόμενες τάξεις σε σχέση με τις πραγματικές τάξεις σε έναν πίνακα.\n",
    "\n"
   ]
  },
  {
   "cell_type": "code",
   "execution_count": 42,
   "metadata": {},
   "outputs": [
    {
     "name": "stderr",
     "output_type": "stream",
     "text": [
      "<ipython-input-42-bc02febe2187>:17: UserWarning: FixedFormatter should only be used together with FixedLocator\n",
      "  ax.set_xticklabels([''] + labels)\n",
      "<ipython-input-42-bc02febe2187>:18: UserWarning: FixedFormatter should only be used together with FixedLocator\n",
      "  ax.set_yticklabels([''] + labels)\n"
     ]
    },
    {
     "data": {
      "image/png": "[encoded data removed]",
      "text/plain": [
       "<Figure size 432x288 with 2 Axes>"
      ]
     },
     "metadata": {
      "needs_background": "light"
     },
     "output_type": "display_data"
    }
   ],
   "source": [
    "# Δημιουργήστε ένα confusion matrix για οπτικοποίηση της απόδοσης του μοντέλου\n",
    "# Import του confusion matrix function\n",
    "from sklearn.metrics import confusion_matrix\n",
    "# Υπολογισμός \n",
    "conf_mat = confusion_matrix(y_true=true_labels, y_pred=predicted_labels)\n",
    "# Ορισμός των labels \n",
    "labels = ['Class 0', 'Class 1']\n",
    "# Ξεκινήστε ένα άδειο σχήμα\n",
    "fig = plt.figure()\n",
    "# Προσθέστε άξονα στο σχήμα\n",
    "ax = fig.add_subplot(111)\n",
    "# Προσθέστε τον πίνακα\n",
    "cax = ax.matshow(conf_mat, cmap=plt.cm.Blues)\n",
    "# Εμφάνιση γραμμής χρωμάτων\n",
    "fig.colorbar(cax)\n",
    "# Αφαίρεση των x και y ticks\n",
    "ax.set_xticklabels([''] + labels)\n",
    "ax.set_yticklabels([''] + labels)\n",
    "# Προσθέστε τα labels x και y\n",
    "plt.xlabel('Predicted')\n",
    "plt.ylabel('Expected')\n",
    "# Προσθέστε νέα x και y ticks\n",
    "for i in range(2):\n",
    "    for j in range(2):\n",
    "        ax.text(j, i, conf_mat[i, j], ha='center', va='center', color='r')\n",
    "# Τυπώστε τον πίνακα\n",
    "plt.show()"
   ]
  },
  {
   "cell_type": "markdown",
   "metadata": {},
   "source": [
    "Στον παραπάνω πίνακα, κάθε σειρά αντιστοιχεί σε μια κλάση και δείχνει πόσο συχνά το μοντέλο ταξινόμησε σωστά (π.χ. κλάση 0 ως κλάση 0) ή λάθος (π.χ. κλάση 0 ως κλάση 1). Περισσότερες λεπτομέρειες για περαιτέρω μετρικές: https://scikit-learn.org/stable/modules/generated/sklearn.metrics.precision_recall_fscore_support.html#:~:text=sklearn.,precision_recall_fscore_support&text=The%20precision%20is%20intuitively%20the,the%20number%20of%20false%20negatives."
   ]
  },
  {
   "cell_type": "markdown",
   "metadata": {},
   "source": [
    "## Δέντρο απόφασης\n",
    "\n",
    "Τώρα που έχουμε δει την απόδοση της λογιστικής παλινδρόμησης, μπορούμε να διερευνήσουμε μεθόδους ταξινόμησης βάσει δέντρων και να δούμε αν μπορούν να αποδώσουν ακόμη καλύτερα."
   ]
  },
  {
   "cell_type": "code",
   "execution_count": 25,
   "metadata": {},
   "outputs": [],
   "source": [
    "# Import \n",
    "from sklearn import tree\n",
    "\n",
    "model_score = []\n",
    "\n",
    "true_labels = []\n",
    "\n",
    "predicted_labels = []\n",
    "\n",
    "our_cv = RepeatedKFold(n_splits=10, n_repeats=10)\n",
    "# Ξεκινάμε τον decision tree classifier χωρίς να του ορίσουμε το βάθος. \n",
    "dec_tree = tree.DecisionTreeClassifier()\n",
    "\n",
    "for i_train, i_test in our_cv.split(X):\n",
    "\n",
    "    X_train, X_test, y_train, y_test = X.iloc[i_train], X.iloc[i_test], y.iloc[i_train], y.iloc[i_test]\n",
    "\n",
    "    dec_tree.fit(X_train, y_train.astype('int'))\n",
    "\n",
    "    y_pred_test = dec_tree.predict(X_test)\n",
    "\n",
    "    model_score.append(accuracy_score(y_test.astype('int'), y_pred_test.astype('int')))\n",
    "\n",
    "    true_labels.extend(y_test.astype('int'))\n",
    "\n",
    "    predicted_labels.extend(y_pred_test.astype('int'))"
   ]
  },
  {
   "cell_type": "code",
   "execution_count": 26,
   "metadata": {},
   "outputs": [
    {
     "name": "stdout",
     "output_type": "stream",
     "text": [
      "Η μέση ακρίβεια του δέντρου απόφασης είναι: 0.9311018826135106 %\n"
     ]
    }
   ],
   "source": [
    "print(\"Η μέση ακρίβεια του δέντρου απόφασης είναι: \"+str(np.mean(model_score))+\" %\")"
   ]
  },
  {
   "cell_type": "code",
   "execution_count": 27,
   "metadata": {},
   "outputs": [
    {
     "name": "stderr",
     "output_type": "stream",
     "text": [
      "<ipython-input-27-320ae2ccdb8d>:15: UserWarning: FixedFormatter should only be used together with FixedLocator\n",
      "  ax.set_xticklabels([''] + labels)\n",
      "<ipython-input-27-320ae2ccdb8d>:16: UserWarning: FixedFormatter should only be used together with FixedLocator\n",
      "  ax.set_yticklabels([''] + labels)\n"
     ]
    },
    {
     "data": {
      "image/png": "[encoded data removed]",
      "text/plain": [
       "<Figure size 432x288 with 2 Axes>"
      ]
     },
     "metadata": {
      "needs_background": "light"
     },
     "output_type": "display_data"
    }
   ],
   "source": [
    "from sklearn.metrics import confusion_matrix\n",
    "\n",
    "conf_mat = confusion_matrix(y_true=true_labels, y_pred=predicted_labels)\n",
    "\n",
    "labels = ['Class 0', 'Class 1']\n",
    "\n",
    "fig = plt.figure()\n",
    "\n",
    "ax = fig.add_subplot(111)\n",
    "\n",
    "cax = ax.matshow(conf_mat, cmap=plt.cm.Blues)\n",
    "\n",
    "fig.colorbar(cax)\n",
    "\n",
    "ax.set_xticklabels([''] + labels)\n",
    "ax.set_yticklabels([''] + labels)\n",
    "\n",
    "plt.xlabel('Predicted')\n",
    "plt.ylabel('Expected')\n",
    "\n",
    "for i in range(2):\n",
    "    for j in range(2):\n",
    "        ax.text(j, i, conf_mat[i, j], ha='center', va='center', color='r')\n",
    "\n",
    "plt.show()"
   ]
  },
  {
   "cell_type": "markdown",
   "metadata": {},
   "source": [
    "## Τυχαίο δάσος "
   ]
  },
  {
   "cell_type": "code",
   "execution_count": 28,
   "metadata": {},
   "outputs": [],
   "source": [
    "# Import του Random forest classifier\n",
    "from sklearn.ensemble import RandomForestClassifier\n",
    "\n",
    "model_score = []\n",
    "\n",
    "true_labels = []\n",
    "\n",
    "predicted_labels = []\n",
    "\n",
    "our_cv = RepeatedKFold(n_splits=10, n_repeats=10)\n",
    "\n",
    "dec_tree =RandomForestClassifier(n_estimators=100)\n",
    "\n",
    "for i_train, i_test in our_cv.split(X):\n",
    "\n",
    "    X_train, X_test, y_train, y_test = X.iloc[i_train], X.iloc[i_test], y.iloc[i_train], y.iloc[i_test]\n",
    "\n",
    "    dec_tree.fit(X_train, y_train.astype('int'))\n",
    "\n",
    "    y_pred_test = dec_tree.predict(X_test)\n",
    "\n",
    "    model_score.append(accuracy_score(y_test.astype('int'), y_pred_test.astype('int')))\n",
    "\n",
    "    true_labels.extend(y_test.astype('int'))\n",
    "\n",
    "    predicted_labels.extend(y_pred_test.astype('int'))"
   ]
  },
  {
   "cell_type": "code",
   "execution_count": 29,
   "metadata": {},
   "outputs": [
    {
     "name": "stdout",
     "output_type": "stream",
     "text": [
      "Η μέση ακρίβεια του τυχαίου δάσους είναι: 0.963233665559247 %\n"
     ]
    }
   ],
   "source": [
    "print(\"Η μέση ακρίβεια του τυχαίου δάσους είναι: \"+str(np.mean(model_score))+\" %\")"
   ]
  },
  {
   "cell_type": "code",
   "execution_count": 30,
   "metadata": {},
   "outputs": [
    {
     "name": "stderr",
     "output_type": "stream",
     "text": [
      "<ipython-input-30-6d7a2a7c1c0d>:14: UserWarning: FixedFormatter should only be used together with FixedLocator\n",
      "  ax.set_xticklabels([''] + labels)\n",
      "<ipython-input-30-6d7a2a7c1c0d>:15: UserWarning: FixedFormatter should only be used together with FixedLocator\n",
      "  ax.set_yticklabels([''] + labels)\n"
     ]
    },
    {
     "data": {
      "image/png": "[encoded data removed]",
      "text/plain": [
       "<Figure size 432x288 with 2 Axes>"
      ]
     },
     "metadata": {
      "needs_background": "light"
     },
     "output_type": "display_data"
    }
   ],
   "source": [
    "from sklearn.metrics import confusion_matrix\n",
    "conf_mat = confusion_matrix(y_true=true_labels, y_pred=predicted_labels)\n",
    "\n",
    "labels = ['Class 0', 'Class 1']\n",
    "\n",
    "fig = plt.figure()\n",
    "\n",
    "ax = fig.add_subplot(111)\n",
    "\n",
    "cax = ax.matshow(conf_mat, cmap=plt.cm.Blues)\n",
    "\n",
    "fig.colorbar(cax)\n",
    "\n",
    "ax.set_xticklabels([''] + labels)\n",
    "ax.set_yticklabels([''] + labels)\n",
    "\n",
    "plt.xlabel('Predicted')\n",
    "plt.ylabel('Expected')\n",
    "\n",
    "for i in range(2):\n",
    "    for j in range(2):\n",
    "        ax.text(j, i, conf_mat[i, j], ha='center', va='center', color='r')\n",
    "\n",
    "plt.show()"
   ]
  },
  {
   "cell_type": "markdown",
   "metadata": {},
   "source": [
    "Φαίνεται λοιπόν, ότι οι μέθοδοι που βασίζονται σε δέντρα μπορούν να προβλέψουν αυτό το σύνολο δεδομένων καλύτερα από τη λογιστική παλινδρόμηση. Επίσης, από τις μεθόδους που βασίζονται σε δέντρα αποφάσεων, τα τυχαία δάση φαίνεται να είναι η βέλτιστη μέθοδος. Μπορούμε να υποθέσουμε ότι δεδομένου του ότι οι μέθοδοι του δέντρου αποφάσεων είναι σε θέση να συλλάβουν σχέσεις που δεν είναι γραμμικές και δεδομένου ότι αποδίδουν καλύτερα, τότε αυτό το σύνολο δεδομένων έχει πράγματι μη γραμμικές σχέσεις μεταξύ προβλέψεων και τάξεων."
   ]
  },
  {
   "cell_type": "markdown",
   "metadata": {},
   "source": [
    "# Συγχαρητήρια μάθατε να κάνετε ταξινόμηση!"
   ]
  },
  {
   "cell_type": "markdown",
   "metadata": {},
   "source": [
    "## Άσκηση 10\n",
    "\n",
    "Θα επαναλάβουμε αυτά που μόλις μάθαμε σε ένα διαφορετικό παράδειγμα.\n",
    "Η μηχανική μάθηση είναι πολύ ευέλικτη και μπορείτε να εφαρμόσετε τον ίδιο κώδικα σε σχεδόν οποιοδήποτε πλαίσιο. \n",
    "Εδώ έχουμε ένα σύνολο δεδομένων για να ελέγξουμε αν ένα χαρτονόμισμα δολαρίου είναι αυθεντικό ή πλαστό.\n",
    "\n",
    "Tο Banknote Dataset περιλαμβάνει την πρόβλεψη εάν ένα χαρτονόμισμα είναι αυθεντικό δεδομένου ενός αριθμού χαρακτηριστικών που λαμβάνονται από μια φωτογραφία.\n",
    "\n",
    "Πρόκειται για ένα δυαδικό πρόβλημα ταξινόμησης (2 τάξεων). Ο αριθμός των παρατηρήσεων για κάθε τάξη δεν είναι ισορροπημένος. Υπάρχουν 1.372 παρατηρήσεις με 4 μεταβλητές εισόδου και 1 μεταβλητή στόχο. Τα ονόματα των μεταβλητών έχουν ως εξής:\n",
    "\n",
    "- Variance of Wavelet Transformed image (συνεχής).\n",
    "- Skewness of Wavelet Transformed image (συνεχής).\n",
    "- Kurtosis of Wavelet Transformed image (συνεχής).\n",
    "- Entropy of image (συνεχής).\n",
    "- Class (0 for authentic, 1 for inauthentic).\n",
    "\n",
    "\n",
    "Χρησιμοποιήστε τις τρεις τεχνικές ταξινόμησης που μάθαμε και προσπαθήστε να προβλέψετε ποια χαρτονομίσματα είναι πρωτότυπα και ποια ψεύτικα. \n",
    "(Συμβουλή: Θυμηθείτε την εξισορρόπηση δεδομένων)\n",
    "\n",
    "Πηγή:\n",
    "\n",
    "http://archive.ics.uci.edu/ml/datasets/banknote+authentication\n",
    "\n",
    "Dua, D. and Graff, C. (2019). UCI Machine Learning Repository [http://archive.ics.uci.edu/ml]. Irvine, CA: University of California, School of Information and Computer Science."
   ]
  }
 ],
 "metadata": {
  "kernelspec": {
   "display_name": "Python 3",
   "language": "python",
   "name": "python3"
  },
  "language_info": {
   "codemirror_mode": {
    "name": "ipython",
    "version": 3
   },
   "file_extension": ".py",
   "mimetype": "text/x-python",
   "name": "python",
   "nbconvert_exporter": "python",
   "pygments_lexer": "ipython3",
   "version": "3.9.2"
  }
 },
 "nbformat": 4,
 "nbformat_minor": 2
}
