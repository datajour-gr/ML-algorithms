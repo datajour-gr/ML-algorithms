{
 "cells": [
  {
   "cell_type": "markdown",
   "metadata": {},
   "source": [
    "# Άσκηση 10 - λύσεις"
   ]
  },
  {
   "cell_type": "code",
   "execution_count": 1,
   "metadata": {},
   "outputs": [],
   "source": [
    "import pandas as pd\n",
    "import numpy as np\n",
    "import matplotlib.pyplot as plt\n",
    "from sklearn.utils import resample\n",
    "from sklearn.linear_model import LogisticRegression\n",
    "from sklearn.metrics import accuracy_score\n",
    "from sklearn.metrics import f1_score\n",
    "from sklearn.model_selection import RepeatedKFold, train_test_split\n",
    "from sklearn import tree\n",
    "from sklearn.ensemble import RandomForestClassifier\n",
    "from sklearn.metrics import classification_report, confusion_matrix"
   ]
  },
  {
   "cell_type": "code",
   "execution_count": 3,
   "metadata": {},
   "outputs": [
    {
     "data": {
      "text/html": [
       "<div>\n",
       "<style scoped>\n",
       "    .dataframe tbody tr th:only-of-type {\n",
       "        vertical-align: middle;\n",
       "    }\n",
       "\n",
       "    .dataframe tbody tr th {\n",
       "        vertical-align: top;\n",
       "    }\n",
       "\n",
       "    .dataframe thead th {\n",
       "        text-align: right;\n",
       "    }\n",
       "</style>\n",
       "<table border=\"1\" class=\"dataframe\">\n",
       "  <thead>\n",
       "    <tr style=\"text-align: right;\">\n",
       "      <th></th>\n",
       "      <th>Variance_wavelet</th>\n",
       "      <th>Skewness_wavelet</th>\n",
       "      <th>Kurtosis_wavelet</th>\n",
       "      <th>Entropy_img</th>\n",
       "      <th>Class</th>\n",
       "    </tr>\n",
       "  </thead>\n",
       "  <tbody>\n",
       "    <tr>\n",
       "      <th>0</th>\n",
       "      <td>3.62160</td>\n",
       "      <td>8.6661</td>\n",
       "      <td>-2.8073</td>\n",
       "      <td>-0.44699</td>\n",
       "      <td>0</td>\n",
       "    </tr>\n",
       "    <tr>\n",
       "      <th>1</th>\n",
       "      <td>4.54590</td>\n",
       "      <td>8.1674</td>\n",
       "      <td>-2.4586</td>\n",
       "      <td>-1.46210</td>\n",
       "      <td>0</td>\n",
       "    </tr>\n",
       "    <tr>\n",
       "      <th>2</th>\n",
       "      <td>3.86600</td>\n",
       "      <td>-2.6383</td>\n",
       "      <td>1.9242</td>\n",
       "      <td>0.10645</td>\n",
       "      <td>0</td>\n",
       "    </tr>\n",
       "    <tr>\n",
       "      <th>3</th>\n",
       "      <td>3.45660</td>\n",
       "      <td>9.5228</td>\n",
       "      <td>-4.0112</td>\n",
       "      <td>-3.59440</td>\n",
       "      <td>0</td>\n",
       "    </tr>\n",
       "    <tr>\n",
       "      <th>4</th>\n",
       "      <td>0.32924</td>\n",
       "      <td>-4.4552</td>\n",
       "      <td>4.5718</td>\n",
       "      <td>-0.98880</td>\n",
       "      <td>0</td>\n",
       "    </tr>\n",
       "  </tbody>\n",
       "</table>\n",
       "</div>"
      ],
      "text/plain": [
       "   Variance_wavelet  Skewness_wavelet  Kurtosis_wavelet  Entropy_img  Class\n",
       "0           3.62160            8.6661           -2.8073     -0.44699      0\n",
       "1           4.54590            8.1674           -2.4586     -1.46210      0\n",
       "2           3.86600           -2.6383            1.9242      0.10645      0\n",
       "3           3.45660            9.5228           -4.0112     -3.59440      0\n",
       "4           0.32924           -4.4552            4.5718     -0.98880      0"
      ]
     },
     "execution_count": 3,
     "metadata": {},
     "output_type": "execute_result"
    }
   ],
   "source": [
    "df_money = pd.read_csv('data_banknote_authentication.csv', header = None )\n",
    "\n",
    "df_money.columns = ['Variance_wavelet','Skewness_wavelet','Kurtosis_wavelet',\n",
    "                     'Entropy_img','Class']\n",
    "\n",
    "df_money.head()"
   ]
  },
  {
   "cell_type": "markdown",
   "metadata": {},
   "source": [
    "# Καθάρισμα"
   ]
  },
  {
   "cell_type": "code",
   "execution_count": 4,
   "metadata": {},
   "outputs": [
    {
     "name": "stdout",
     "output_type": "stream",
     "text": [
      "Variance_wavelet    0\n",
      "Skewness_wavelet    0\n",
      "Kurtosis_wavelet    0\n",
      "Entropy_img         0\n",
      "Class               0\n",
      "dtype: int64\n"
     ]
    }
   ],
   "source": [
    "print(df_money.isnull().sum())"
   ]
  },
  {
   "cell_type": "markdown",
   "metadata": {},
   "source": [
    "# Data Balancing"
   ]
  },
  {
   "cell_type": "code",
   "execution_count": 5,
   "metadata": {},
   "outputs": [
    {
     "name": "stdout",
     "output_type": "stream",
     "text": [
      "610\n",
      "1372\n",
      "762\n"
     ]
    }
   ],
   "source": [
    "# Που έχουμε παραπάνω τιμές?\n",
    "# Πόσα ψεύτικα? \n",
    "num_fakes = np.sum(df_money.Class)\n",
    "print(num_fakes)\n",
    "# Σύνολο\n",
    "total_exmp = df_money.shape[0] \n",
    "print(total_exmp)\n",
    "# Αληθινά\n",
    "num_real = total_exmp - num_fakes\n",
    "print(num_real)"
   ]
  },
  {
   "cell_type": "code",
   "execution_count": 6,
   "metadata": {},
   "outputs": [],
   "source": [
    "# Χωρίζουμε τα δεδομένα\n",
    "# ψεύτικα\n",
    "df_fake = df_money[df_money['Class'] == 1]\n",
    "# Αληθινά\n",
    "df_real = df_money[df_money['Class'] == 0]"
   ]
  },
  {
   "cell_type": "code",
   "execution_count": 7,
   "metadata": {},
   "outputs": [
    {
     "name": "stdout",
     "output_type": "stream",
     "text": [
      "(610, 5)\n"
     ]
    }
   ],
   "source": [
    "# resampling \n",
    "df_real_downsampled = resample(df_real, \n",
    "                               replace=False,    \n",
    "                               n_samples=610,    \n",
    "                               random_state=123) \n",
    "\n",
    "print(df_real_downsampled.shape)\n",
    "\n",
    "money_df_balanced = pd.concat([df_real_downsampled, df_fake])"
   ]
  },
  {
   "cell_type": "markdown",
   "metadata": {},
   "source": [
    "# Logistic Regression "
   ]
  },
  {
   "cell_type": "code",
   "execution_count": 8,
   "metadata": {},
   "outputs": [],
   "source": [
    "\n",
    "X = money_df_balanced.drop(columns = 'Class')\n",
    "y = money_df_balanced['Class']\n",
    "\n",
    "model_score_log_reg = []\n",
    "\n",
    "true_labels_log_reg = []\n",
    "\n",
    "predicted_labels_log_reg = []\n",
    "\n",
    "our_cv = RepeatedKFold(n_splits=10, n_repeats=10)\n",
    "\n",
    "log_reg = LogisticRegression(penalty='none', random_state=123, solver='saga', max_iter = 10000, warm_start=True)\n",
    "\n",
    "for i_train, i_test in our_cv.split(X):\n",
    "\n",
    "    X_train, X_test, y_train, y_test = X.iloc[i_train], X.iloc[i_test], y.iloc[i_train], y.iloc[i_test]\n",
    "\n",
    "    log_reg.fit(X_train, y_train.astype('int'))\n",
    "\n",
    "    y_pred_test = log_reg.predict(X_test)\n",
    "\n",
    "    model_score_log_reg.append(accuracy_score(y_test.astype('int'), y_pred_test.astype('int')))\n",
    "  \n",
    "    true_labels_log_reg.extend(y_test.astype('int'))\n",
    "    \n",
    "    predicted_labels_log_reg.extend(y_pred_test.astype('int'))"
   ]
  },
  {
   "cell_type": "code",
   "execution_count": 9,
   "metadata": {},
   "outputs": [
    {
     "name": "stdout",
     "output_type": "stream",
     "text": [
      "Accuracy: 0.9885245901639342 %\n"
     ]
    }
   ],
   "source": [
    "print('Accuracy: '+str(np.mean(model_score_log_reg))+\" %\")"
   ]
  },
  {
   "cell_type": "code",
   "execution_count": 10,
   "metadata": {},
   "outputs": [
    {
     "name": "stderr",
     "output_type": "stream",
     "text": [
      "<ipython-input-10-3b4e1e095fff>:15: UserWarning: FixedFormatter should only be used together with FixedLocator\n",
      "  ax.set_xticklabels([''] + labels)\n",
      "<ipython-input-10-3b4e1e095fff>:16: UserWarning: FixedFormatter should only be used together with FixedLocator\n",
      "  ax.set_yticklabels([''] + labels)\n"
     ]
    },
    {
     "data": {
      "image/png": "[encoded data removed]",
      "text/plain": [
       "<Figure size 432x288 with 2 Axes>"
      ]
     },
     "metadata": {
      "needs_background": "light"
     },
     "output_type": "display_data"
    }
   ],
   "source": [
    "from sklearn.metrics import confusion_matrix\n",
    "\n",
    "conf_mat = confusion_matrix(y_true=true_labels_log_reg, y_pred=predicted_labels_log_reg)\n",
    "\n",
    "labels = ['Class 0', 'Class 1']\n",
    "\n",
    "fig = plt.figure()\n",
    "\n",
    "ax = fig.add_subplot(111)\n",
    "\n",
    "cax = ax.matshow(conf_mat, cmap=plt.cm.Blues)\n",
    "\n",
    "fig.colorbar(cax)\n",
    "\n",
    "ax.set_xticklabels([''] + labels)\n",
    "ax.set_yticklabels([''] + labels)\n",
    "\n",
    "plt.xlabel('Predicted')\n",
    "plt.ylabel('Expected')\n",
    "\n",
    "for i in range(2):\n",
    "    for j in range(2):\n",
    "        ax.text(j, i, conf_mat[i, j], ha='center', va='center', color='r')\n",
    "\n",
    "plt.show()"
   ]
  },
  {
   "cell_type": "markdown",
   "metadata": {},
   "source": [
    "# Decision trees\n",
    "\n"
   ]
  },
  {
   "cell_type": "code",
   "execution_count": 11,
   "metadata": {},
   "outputs": [],
   "source": [
    "from sklearn import tree\n",
    "\n",
    "model_score_dt = []\n",
    "\n",
    "true_labels_dt = []\n",
    "\n",
    "predicted_labels_dt = []\n",
    "\n",
    "our_cv = RepeatedKFold(n_splits=10, n_repeats=10)\n",
    "\n",
    "dec_tree = tree.DecisionTreeClassifier()\n",
    "\n",
    "for i_train, i_test in our_cv.split(X):\n",
    "\n",
    "    X_train, X_test, y_train, y_test = X.iloc[i_train], X.iloc[i_test], y.iloc[i_train], y.iloc[i_test]\n",
    "\n",
    "    dec_tree.fit(X_train, y_train.astype('int'))\n",
    "\n",
    "    y_pred_test = dec_tree.predict(X_test)\n",
    "\n",
    "    model_score_dt.append(accuracy_score(y_test.astype('int'), y_pred_test.astype('int')))\n",
    "\n",
    "    true_labels_dt.extend(y_test.astype('int'))\n",
    "\n",
    "    predicted_labels_dt.extend(y_pred_test.astype('int'))"
   ]
  },
  {
   "cell_type": "code",
   "execution_count": 12,
   "metadata": {},
   "outputs": [
    {
     "name": "stdout",
     "output_type": "stream",
     "text": [
      "Accuracy: 0.9838524590163934 %\n"
     ]
    }
   ],
   "source": [
    "print('Accuracy: '+str(np.mean(model_score_dt))+\" %\")"
   ]
  },
  {
   "cell_type": "code",
   "execution_count": 13,
   "metadata": {},
   "outputs": [
    {
     "name": "stderr",
     "output_type": "stream",
     "text": [
      "<ipython-input-13-830609e915ba>:15: UserWarning: FixedFormatter should only be used together with FixedLocator\n",
      "  ax.set_xticklabels([''] + labels)\n",
      "<ipython-input-13-830609e915ba>:16: UserWarning: FixedFormatter should only be used together with FixedLocator\n",
      "  ax.set_yticklabels([''] + labels)\n"
     ]
    },
    {
     "data": {
      "image/png": "[encoded data removed]",
      "text/plain": [
       "<Figure size 432x288 with 2 Axes>"
      ]
     },
     "metadata": {
      "needs_background": "light"
     },
     "output_type": "display_data"
    }
   ],
   "source": [
    "from sklearn.metrics import confusion_matrix\n",
    "\n",
    "conf_mat = confusion_matrix(y_true=true_labels_dt, y_pred=predicted_labels_dt)\n",
    "\n",
    "labels = ['Class 0', 'Class 1']\n",
    "\n",
    "fig = plt.figure()\n",
    "\n",
    "ax = fig.add_subplot(111)\n",
    "\n",
    "cax = ax.matshow(conf_mat, cmap=plt.cm.Blues)\n",
    "\n",
    "fig.colorbar(cax)\n",
    "\n",
    "ax.set_xticklabels([''] + labels)\n",
    "ax.set_yticklabels([''] + labels)\n",
    "\n",
    "plt.xlabel('Predicted')\n",
    "plt.ylabel('Expected')\n",
    "\n",
    "for i in range(2):\n",
    "    for j in range(2):\n",
    "        ax.text(j, i, conf_mat[i, j], ha='center', va='center', color='r')\n",
    "\n",
    "plt.show()"
   ]
  },
  {
   "cell_type": "markdown",
   "metadata": {},
   "source": [
    "# Random Forest"
   ]
  },
  {
   "cell_type": "code",
   "execution_count": 14,
   "metadata": {},
   "outputs": [],
   "source": [
    "from sklearn.ensemble import RandomForestClassifier\n",
    "\n",
    "model_score_rf = []\n",
    "\n",
    "true_labels_rf = []\n",
    "\n",
    "predicted_labels_rf = []\n",
    "\n",
    "our_cv = RepeatedKFold(n_splits=10, n_repeats=10)\n",
    "\n",
    "dec_tree =RandomForestClassifier(n_estimators=100)\n",
    "\n",
    "for i_train, i_test in our_cv.split(X):\n",
    "\n",
    "    X_train, X_test, y_train, y_test = X.iloc[i_train], X.iloc[i_test], y.iloc[i_train], y.iloc[i_test]\n",
    "\n",
    "    dec_tree.fit(X_train, y_train.astype('int'))\n",
    "\n",
    "    y_pred_test = dec_tree.predict(X_test)\n",
    "\n",
    "    model_score_rf.append(accuracy_score(y_test.astype('int'), y_pred_test.astype('int')))\n",
    "\n",
    "    true_labels_rf.extend(y_test.astype('int'))\n",
    "   \n",
    "    predicted_labels_rf.extend(y_pred_test.astype('int'))"
   ]
  },
  {
   "cell_type": "code",
   "execution_count": 15,
   "metadata": {},
   "outputs": [
    {
     "name": "stdout",
     "output_type": "stream",
     "text": [
      "Accuracy: 0.9934426229508194 %\n"
     ]
    }
   ],
   "source": [
    "print('Accuracy: '+str(np.mean(model_score_rf))+\" %\")"
   ]
  },
  {
   "cell_type": "code",
   "execution_count": 16,
   "metadata": {},
   "outputs": [
    {
     "name": "stderr",
     "output_type": "stream",
     "text": [
      "<ipython-input-16-0df68f541e98>:15: UserWarning: FixedFormatter should only be used together with FixedLocator\n",
      "  ax.set_xticklabels([''] + labels)\n",
      "<ipython-input-16-0df68f541e98>:16: UserWarning: FixedFormatter should only be used together with FixedLocator\n",
      "  ax.set_yticklabels([''] + labels)\n"
     ]
    },
    {
     "data": {
      "image/png": "[encoded data removed]",
      "text/plain": [
       "<Figure size 432x288 with 2 Axes>"
      ]
     },
     "metadata": {
      "needs_background": "light"
     },
     "output_type": "display_data"
    }
   ],
   "source": [
    "from sklearn.metrics import confusion_matrix\n",
    "\n",
    "conf_mat = confusion_matrix(y_true=true_labels_rf, y_pred=predicted_labels_rf)\n",
    "\n",
    "labels = ['Class 0', 'Class 1']\n",
    "\n",
    "fig = plt.figure()\n",
    "\n",
    "ax = fig.add_subplot(111)\n",
    "\n",
    "cax = ax.matshow(conf_mat, cmap=plt.cm.Blues)\n",
    "\n",
    "fig.colorbar(cax)\n",
    "\n",
    "ax.set_xticklabels([''] + labels)\n",
    "ax.set_yticklabels([''] + labels)\n",
    "\n",
    "plt.xlabel('Predicted')\n",
    "plt.ylabel('Expected')\n",
    "\n",
    "for i in range(2):\n",
    "    for j in range(2):\n",
    "        ax.text(j, i, conf_mat[i, j], ha='center', va='center', color='r')\n",
    "\n",
    "plt.show()"
   ]
  },
  {
   "cell_type": "code",
   "execution_count": null,
   "metadata": {},
   "outputs": [],
   "source": []
  }
 ],
 "metadata": {
  "kernelspec": {
   "display_name": "Python 3",
   "language": "python",
   "name": "python3"
  },
  "language_info": {
   "codemirror_mode": {
    "name": "ipython",
    "version": 3
   },
   "file_extension": ".py",
   "mimetype": "text/x-python",
   "name": "python",
   "nbconvert_exporter": "python",
   "pygments_lexer": "ipython3",
   "version": "3.9.2"
  }
 },
 "nbformat": 4,
 "nbformat_minor": 2
}
